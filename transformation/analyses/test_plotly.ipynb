{
 "cells": [
  {
   "cell_type": "code",
   "execution_count": 21,
   "id": "c5a67b2d-de53-4c03-8c7b-5ff3b9ca6498",
   "metadata": {},
   "outputs": [],
   "source": [
    "import plotly.express as px\n",
    "import pandas as pd"
   ]
  },
  {
   "cell_type": "code",
   "execution_count": null,
   "id": "e32bf951-5205-499b-9879-52cb31982ed9",
   "metadata": {},
   "outputs": [],
   "source": [
    "df = pd.read_csv('all_data.csv')\n",
    "df = df.drop(['Unnamed: 0'], axis=1)\n",
    "df.info()"
   ]
  },
  {
   "cell_type": "markdown",
   "id": "6c64ddb6-ccb7-426f-91bd-a7ada01c1d12",
   "metadata": {
    "jp-MarkdownHeadingCollapsed": true
   },
   "source": [
    "> **numeric**\n",
    "> - rating\n",
    "> - company_size\n",
    "> - reviews_count\n",
    "> - jobs_count\n",
    "> - salaries_count\n",
    "> - seniority_score\n",
    "> - rating_score\n",
    "> - total_score\n",
    "\n",
    "> **categorical**\n",
    "> - industry\n",
    "> - location\n",
    "> - contract\n",
    "> - created_at\n",
    "> - industry\n",
    "> - location\n",
    "> - remote\n",
    "> - stack\n",
    "> - title\n",
    "> - is_relevant_score\n",
    "> - is_same_glassdoor_score"
   ]
  },
  {
   "cell_type": "code",
   "execution_count": 147,
   "id": "772bc59e-d259-424d-9714-0a5c1386891f",
   "metadata": {},
   "outputs": [
    {
     "data": {
      "text/html": [
       "<div>\n",
       "<style scoped>\n",
       "    .dataframe tbody tr th:only-of-type {\n",
       "        vertical-align: middle;\n",
       "    }\n",
       "\n",
       "    .dataframe tbody tr th {\n",
       "        vertical-align: top;\n",
       "    }\n",
       "\n",
       "    .dataframe thead th {\n",
       "        text-align: right;\n",
       "    }\n",
       "</style>\n",
       "<table border=\"1\" class=\"dataframe\">\n",
       "  <thead>\n",
       "    <tr style=\"text-align: right;\">\n",
       "      <th></th>\n",
       "      <th>techno</th>\n",
       "      <th>total</th>\n",
       "      <th>category</th>\n",
       "      <th>subcategory</th>\n",
       "      <th>description</th>\n",
       "    </tr>\n",
       "  </thead>\n",
       "  <tbody>\n",
       "    <tr>\n",
       "      <th>0</th>\n",
       "      <td>Python</td>\n",
       "      <td>1088</td>\n",
       "      <td>Open Source Infrastructure</td>\n",
       "      <td>Stat Tools &amp; Languages</td>\n",
       "      <td>The Python programming language\\n</td>\n",
       "    </tr>\n",
       "    <tr>\n",
       "      <th>1</th>\n",
       "      <td>Spark</td>\n",
       "      <td>396</td>\n",
       "      <td>Open Source Infrastructure</td>\n",
       "      <td>Frameworks</td>\n",
       "      <td>Apache Spark - A unified analytics engine for ...</td>\n",
       "    </tr>\n",
       "    <tr>\n",
       "      <th>2</th>\n",
       "      <td>Spark SQL</td>\n",
       "      <td>396</td>\n",
       "      <td>Open Source Infrastructure</td>\n",
       "      <td>Query/Dataflow</td>\n",
       "      <td>Apache Spark - A unified analytics engine for ...</td>\n",
       "    </tr>\n",
       "    <tr>\n",
       "      <th>3</th>\n",
       "      <td>Azure</td>\n",
       "      <td>364</td>\n",
       "      <td>Infrastructure</td>\n",
       "      <td>Compute</td>\n",
       "      <td>Microsoft Azure is a cloud computing service c...</td>\n",
       "    </tr>\n",
       "    <tr>\n",
       "      <th>4</th>\n",
       "      <td>Kubernetes</td>\n",
       "      <td>336</td>\n",
       "      <td>Open Source Infrastructure</td>\n",
       "      <td>Frameworks</td>\n",
       "      <td>Production-Grade Container Scheduling and Mana...</td>\n",
       "    </tr>\n",
       "    <tr>\n",
       "      <th>...</th>\n",
       "      <td>...</td>\n",
       "      <td>...</td>\n",
       "      <td>...</td>\n",
       "      <td>...</td>\n",
       "      <td>...</td>\n",
       "    </tr>\n",
       "    <tr>\n",
       "      <th>226</th>\n",
       "      <td>IBM Watson</td>\n",
       "      <td>1</td>\n",
       "      <td>Machine Learning &amp; Artificial Intelligence</td>\n",
       "      <td>Horizontal AI/AGI</td>\n",
       "      <td>IBM (NYSE: IBM) manufactures and sells compute...</td>\n",
       "    </tr>\n",
       "    <tr>\n",
       "      <th>227</th>\n",
       "      <td>Microsoft Access</td>\n",
       "      <td>1</td>\n",
       "      <td>Infrastructure</td>\n",
       "      <td>RDBMs</td>\n",
       "      <td>Microsoft (NASDAQ: MSFT) provides, develops, a...</td>\n",
       "    </tr>\n",
       "    <tr>\n",
       "      <th>228</th>\n",
       "      <td>Amazon Neptune</td>\n",
       "      <td>1</td>\n",
       "      <td>Infrastructure</td>\n",
       "      <td>Graph DBs</td>\n",
       "      <td>Amazon Web Services (AWS) is a business unit w...</td>\n",
       "    </tr>\n",
       "    <tr>\n",
       "      <th>229</th>\n",
       "      <td>SAP Data Services</td>\n",
       "      <td>1</td>\n",
       "      <td>Infrastructure</td>\n",
       "      <td>Data Integration</td>\n",
       "      <td>SAP (FWB: SAP) (NYSE: SAP) is a multinational ...</td>\n",
       "    </tr>\n",
       "    <tr>\n",
       "      <th>230</th>\n",
       "      <td>Google Cloud Data Fusion</td>\n",
       "      <td>1</td>\n",
       "      <td>Infrastructure</td>\n",
       "      <td>ETL/ELT/Data Transformation</td>\n",
       "      <td>Google Cloud Platform, offered by Google, is a...</td>\n",
       "    </tr>\n",
       "  </tbody>\n",
       "</table>\n",
       "<p>231 rows × 5 columns</p>\n",
       "</div>"
      ],
      "text/plain": [
       "                       techno  total  \\\n",
       "0                      Python   1088   \n",
       "1                       Spark    396   \n",
       "2                   Spark SQL    396   \n",
       "3                       Azure    364   \n",
       "4                  Kubernetes    336   \n",
       "..                        ...    ...   \n",
       "226                IBM Watson      1   \n",
       "227          Microsoft Access      1   \n",
       "228            Amazon Neptune      1   \n",
       "229         SAP Data Services      1   \n",
       "230  Google Cloud Data Fusion      1   \n",
       "\n",
       "                                       category                  subcategory  \\\n",
       "0                    Open Source Infrastructure       Stat Tools & Languages   \n",
       "1                    Open Source Infrastructure                   Frameworks   \n",
       "2                    Open Source Infrastructure               Query/Dataflow   \n",
       "3                                Infrastructure                      Compute   \n",
       "4                    Open Source Infrastructure                   Frameworks   \n",
       "..                                          ...                          ...   \n",
       "226  Machine Learning & Artificial Intelligence            Horizontal AI/AGI   \n",
       "227                              Infrastructure                        RDBMs   \n",
       "228                              Infrastructure                    Graph DBs   \n",
       "229                              Infrastructure             Data Integration   \n",
       "230                              Infrastructure  ETL/ELT/Data Transformation   \n",
       "\n",
       "                                           description  \n",
       "0                    The Python programming language\\n  \n",
       "1    Apache Spark - A unified analytics engine for ...  \n",
       "2    Apache Spark - A unified analytics engine for ...  \n",
       "3    Microsoft Azure is a cloud computing service c...  \n",
       "4    Production-Grade Container Scheduling and Mana...  \n",
       "..                                                 ...  \n",
       "226  IBM (NYSE: IBM) manufactures and sells compute...  \n",
       "227  Microsoft (NASDAQ: MSFT) provides, develops, a...  \n",
       "228  Amazon Web Services (AWS) is a business unit w...  \n",
       "229  SAP (FWB: SAP) (NYSE: SAP) is a multinational ...  \n",
       "230  Google Cloud Platform, offered by Google, is a...  \n",
       "\n",
       "[231 rows x 5 columns]"
      ]
     },
     "execution_count": 147,
     "metadata": {},
     "output_type": "execute_result"
    }
   ],
   "source": [
    "df = pd.read_csv('technos_df.csv')\n",
    "df = df.drop(['Unnamed: 0'], axis=1)\n",
    "df"
   ]
  },
  {
   "cell_type": "code",
   "execution_count": 149,
   "id": "e1d9f997-b7b8-4003-947d-6fd2e415769b",
   "metadata": {},
   "outputs": [
    {
     "data": {
      "application/vnd.plotly.v1+json": {
       "config": {
        "plotlyServerURL": "https://plot.ly"
       },
       "data": [
        {
         "branchvalues": "total",
         "customdata": [
          [
           "Open Source Infrastructure",
           "Databases",
           "Cassandra",
           "Mirror of Apache Cassandra\n"
          ],
          [
           "Open Source Infrastructure",
           "Open Source - Orchestration",
           "Argo",
           "Workflow engine for Kubernetes\n"
          ],
          [
           "Infrastructure",
           "MGMT/Monitoring",
           "Dynatrace",
           "Dynatrace specializes in digital performance management, and is an AI-powered, full stack and completely automated solution that provides answers based on deep insight into every user, every transaction, across every application.\n"
          ],
          [
           "Open Source Infrastructure",
           "Databases",
           "CouchDB",
           "Seamless multi-master syncing database with an intuitive HTTP/JSON API, designed for reliability\n"
          ],
          [
           "Open Source Infrastructure",
           "OLAP",
           "Druid",
           "Apache Druid: a high performance real-time analytics database.\n"
          ],
          [
           "Open Source Infrastructure",
           "Streaming & Messaging",
           "Nifi",
           "Apache NiFi\n"
          ],
          [
           "Infrastructure",
           "Data Integration",
           "Denodo",
           "Denodo is the leader in data virtualization providing agile, high performance data integration and data abstraction across the broadest range of enterprise, cloud, big data, unstructured data sources and real-time data services at half the cost of traditional approaches. Denodo's customers across every major industry have gained significant business agility and ROI by enabling faster and easier access to unified business information for agile BI, big data analytics, Web and cloud integration, single-view applications, and enterprise data services.\n"
          ],
          [
           "Machine Learning & Artificial Intelligence",
           "Enterprise ML Platforms",
           "Azure Machine Learning",
           "Microsoft Azure is a cloud computing service created by Microsoft for building, testing, deploying, and managing applications and services through Microsoft-managed data centers.\n"
          ],
          [
           "Open Source Infrastructure",
           "Format",
           "Delta Lake",
           "An open-source storage framework that enables building a Lakehouse architecture with compute engines including Spark, PrestoDB, Flink, Trino, and Hive and APIs\n"
          ],
          [
           "Analytics",
           "Log Analytics",
           "Observe",
           "Observe is a SaaS observability company that discerns why applications and infrastructure are running the way they are from the data they emit. The company enables engineers to spend more time coding features and less time investigating incidents. The company was founded in 2017 and is based in San Mateo, California."
          ],
          [
           "Analytics",
           "Product Analytics",
           "Mixpanel",
           "Mixpanel is a real-time analytics service that helps companies understand how users interact with web applications.\n"
          ],
          [
           "Infrastructure",
           "Storage",
           "Minio",
           "Minio provides open source object storage for cloud-native and containerized applications.\n"
          ],
          [
           "Analytics",
           "Product Analytics",
           "Google Analytics",
           "Google Analytics is an American multinational technology company that specializes in Internet-related services and products. The company is based in Mountain View, California.\n"
          ],
          [
           "Machine Learning & Artificial Intelligence",
           "Enterprise ML Platforms",
           "Dataiku",
           "Dataiku is a late-stage technology firm that develops a centralized data platform that democratizes the use of data science, machine learning, and AI in the enterprise. Dataiku helps businesses move along their data journey from data preparation to analytics at scale to enterprise AI by providing a common ground for data experts and explorers, a repository of best practices, shortcuts to machine learning and AI deployment/management, and a centralized, controlled environment. The firm primarily serves the retail, financial, pharmaceutical, and manufacturing industries. It was founded in 2013 and is based in New York, New York."
          ],
          [
           "Infrastructure",
           "Streaming/In-Memory",
           "Databricks",
           "Databricks provides a data platform that aims to simplify data integration and offers data analytic services. Databricks Lakehouse Platform serves corporations in various industries worldwide. It was founded in 2013 and is based in San Francisco, California."
          ],
          [
           "Open Source Infrastructure",
           "Frameworks",
           "Kubernetes",
           "Production-Grade Container Scheduling and Management\n"
          ],
          [
           "Machine Learning & Artificial Intelligence",
           "GPU Cloud",
           "Lambda",
           "\n"
          ],
          [
           "Analytics",
           "Customer Data Platforms",
           "Tealium",
           "Tealium develops a customer data platform, comprised of an enterprise tag management solution, omnichannel customer segmentation and action engine, and suite of rich data services, creating a vendor-neutral data foundation that spans web, mobile, offline, and IoT. The firm primarily serves financial services, healthcare, retail, sports & entertainment, and hospitality industries. It was founded in 2008 and is based in San Diego, California."
          ],
          [
           "Infrastructure",
           "ETL/ELT/Data Transformation",
           "Talend",
           "Talend provides integration that truly scales. From small projects to enterprise-wide implementations, Talend's highly-scalable data, application, and business process integration platform maximizes the value of an organization's information assets and optimizes return on investment through a usage-based subscription model.\n"
          ],
          [
           "Machine Learning & Artificial Intelligence",
           "Horizontal AI/AGI",
           "CSM",
           "Common Sense Machines provides APIs, interfaces, and open-source software to translate multi-modal inputs and experiences into a digital simulator for AI training and content creation. The company was founded in 2020 and is based in Cambridge, Massachusetts."
          ],
          [
           "Infrastructure",
           "RDBMs",
           "IBM DB2",
           "IBM (NYSE: IBM) manufactures and sells computer hardware and software, and offers infrastructure services, hosting services, and consulting services in areas ranging from mainframe computers to nanotechnology. The company was founded in 1911 and is based in Armonk, Newyork."
          ],
          [
           "Analytics",
           "Analytics - Visualization",
           "Tableau",
           "Tableau Software is a provider of visual analysis and reporting solutions. Its flagship product is used by managers, business intelligence professionals, business analysts, strategic consultants, financial professionals, market researchers, scientists and engineers in nearly every industry. The company was founded in 2003 and is based in Seattle, Washington."
          ],
          [
           "Infrastructure",
           "MGMT/Monitoring",
           "Veeam",
           "Veeam Software is an information technology company that develops backup, disaster recovery and data management software for virtual, physical and cloud-based workloads. On January 9, 2020, Veeam Software was acquired by Insight Partners at a valuation between $5000-5548.37M."
          ],
          [
           "Open Source Infrastructure",
           "Frameworks",
           "Yarn",
           "📦🐈 Active development trunk for Yarn ⚒\n"
          ],
          [
           "Machine Learning & Artificial Intelligence",
           "NLP",
           "Amazon Comprehend",
           "Amazon Web Services (AWS) is a business unit within Amazon.com that provides an infrastructure platform for businesses in the form of cloud computing.\n"
          ],
          [
           "Open Source Infrastructure",
           "Logging & Monitoring",
           "Vector",
           "A high-performance observability data pipeline.\n"
          ],
          [
           "Infrastructure",
           "ETL/ELT/Data Transformation",
           "Airbyte",
           "Airbyte is an open-source data integration platform that syncs data from applications, APIs, and databases to data warehouses, lakes, and other destinations. The company was founded in 2020 and is based in San Francisco, California."
          ],
          [
           "Infrastructure",
           "Data Lakes/Lakehouses",
           "Google Cloud Dataproc",
           "Google Cloud Platform, offered by Google, is a suite of cloud computing services that runs on the same infrastructure that Google uses internally for its end-user products.\n"
          ],
          [
           "Open Source Infrastructure",
           "Frameworks",
           "Ray",
           "Ray is a unified framework for scaling AI and Python applications. Ray consists of a core distributed runtime and a toolkit of libraries (Ray AIR) for accelerating ML workloads.\n"
          ],
          [
           "Open Source Infrastructure",
           "Logging & Monitoring",
           "Prometheus",
           "The Prometheus monitoring system and time series database.\n"
          ],
          [
           "Open Source Infrastructure",
           "Stat Tools & Languages",
           "R",
           "\n"
          ],
          [
           "Analytics",
           "BI Platforms",
           "Amazon QuickSight",
           "Amazon Web Services (AWS) is a business unit within Amazon.com that provides an infrastructure platform for businesses in the form of cloud computing.\n"
          ],
          [
           "Open Source Infrastructure",
           "Databases",
           "HBase",
           "Apache HBase\n"
          ],
          [
           "Open Source Infrastructure",
           "Stat Tools & Languages",
           "Pandas",
           "Flexible and powerful data analysis / manipulation library for Python, providing labeled data structures similar to R data.frame objects, statistical functions, and much more\n"
          ],
          [
           "Open Source Infrastructure",
           "AI Frameworks & Libraries",
           "PyTorch",
           "Tensors and Dynamic neural networks in Python with strong GPU acceleration\n"
          ],
          [
           "Infrastructure",
           "Data Integration",
           "Snowplow",
           "Snowplow has created a fully managed platform for creating behavioral data that’s used by companies to power artificial intelligence, machine learning and advanced analytics applications. With the Snowplow Behavioral Data Platform, data teams can access behavioral data that’s created, modeled and customized for the specific application they’re building. Snowplow was founded in 2012 and is based in London, England."
          ],
          [
           "Machine Learning & Artificial Intelligence",
           "Speech",
           "Alexa",
           "\n"
          ],
          [
           "Open Source Infrastructure",
           "MLOps & AI Infra",
           "DVC",
           "🦉Data Version Control | Git for Data & Models | ML Experiments Management\n"
          ],
          [
           "Open Source Infrastructure",
           "Open Source Infra - Visualizations",
           "Superset",
           "Apache Superset is a Data Visualization and Data Exploration Platform\n"
          ],
          [
           "Infrastructure",
           "Data Warehouses",
           "RedShift",
           "Amazon Web Services (AWS) is a business unit within Amazon.com that provides an infrastructure platform for businesses in the form of cloud computing.\n"
          ],
          [
           "Infrastructure",
           "Data Lakes/Lakehouses",
           "Amazon EMR",
           "Amazon Web Services (AWS) is a business unit within Amazon.com that provides an infrastructure platform for businesses in the form of cloud computing.\n"
          ],
          [
           "Machine Learning & Artificial Intelligence",
           "AI Hardware",
           "Nvidia",
           "NVIDIA (NASDAQ: NVDA) is an advanced graphics processing company, with a product family that allows multimedia experiences for the entire desktop computer market from workstations to internet-enabled appliances.\n"
          ],
          [
           "Open Source Infrastructure",
           "AI Frameworks & Libraries",
           "Keras",
           "Deep Learning for humans\n"
          ],
          [
           "Infrastructure",
           "NoSQL Databases",
           "ScyllaDB",
           "ScyllaDB provides a real-time big data database compatible with Apache Cassandra and used for a variety of business-critical purposes, including as a key value store, time-series database, large blob store, and graph database backend.\n"
          ],
          [
           "Open Source Infrastructure",
           "Query/Dataflow",
           "GraphQL",
           "GraphQL is a query language and execution engine tied to any backend service.\n"
          ],
          [
           "Infrastructure",
           "Data Integration",
           "Informatica",
           "Informatica Corporation (NYSE: INFA) is a provider of enterprise data integration software and services. With Informatica, companies can gain greater business value by integrating all their information assets from across the enterprise. More than 2,900 companies worldwide rely on Informatica to reduce the cost and expedite the time to address data integration needs of any complexity and scale."
          ],
          [
           "Machine Learning & Artificial Intelligence",
           "Data Science Notebooks",
           "Google Colab",
           "\n"
          ],
          [
           "Infrastructure",
           "Data Integration",
           "SnapLogic",
           "SnapLogic specializes in self-service integration. The company's cloud-based platform makes it fast and easy to connect data, applications, and devices, eliminating business silos and technology bottlenecks to accelerate digital business.\n"
          ],
          [
           "Open Source Infrastructure",
           "MLOps & AI Infra",
           "Langchain",
           "⚡ Building applications with LLMs through composability ⚡\n"
          ],
          [
           "Data Sources & APIs",
           "Location Intelligence",
           "mapbox",
           "Mapbox is a live location platform for developers. Mapbox provides a global map, real-time traffic, location search, and navigation via its APIs and SDKs. Mapbox enables enterprises to analyze their data, drone companies to publish flyovers, friends to find each other, real estate sites to visualize properties, satellite companies to process cloud-free imagery, and insurance companies to track assets.\n"
          ],
          [
           "Analytics",
           "Analytics - Visualization",
           "Grid",
           "Grid allows Excel users to turn spreadsheets into modern web applications without learning any new skills.\n"
          ],
          [
           "Open Source Infrastructure",
           "Frameworks",
           "Hadoop HDFS",
           "Apache Hadoop\n"
          ],
          [
           "Open Source Infrastructure",
           "Open Source - Orchestration",
           "Luigi",
           "Luigi is a Python module that helps you build complex pipelines of batch jobs. It handles dependency resolution, workflow management, visualization etc. It also comes with Hadoop support built in. \n"
          ],
          [
           "Data Sources & APIs",
           "Data Marketplaces & Discovery",
           "Snowflake Data Exchange",
           null
          ],
          [
           "Machine Learning & Artificial Intelligence",
           "Horizontal AI/AGI",
           "IBM Watson",
           "IBM (NYSE: IBM) manufactures and sells computer hardware and software, and offers infrastructure services, hosting services, and consulting services in areas ranging from mainframe computers to nanotechnology. The company was founded in 1911 and is based in Armonk, Newyork."
          ],
          [
           "Infrastructure",
           "Graph DBs",
           "neo4j",
           "Neo4j provides websites, telcos, and bioinformatics research organizations a graph database to model and query connected data. The company, which also has a large ecosystem of partners and developers, operates offices in Germany, UK, France, Belgium, Sweden, and Malaysia."
          ],
          [
           "Infrastructure",
           "Streaming/In-Memory",
           "SAP HANA",
           "SAP (FWB: SAP) (NYSE: SAP) is a multinational software corporation that makes enterprise software to manage business operations and customer relations.\n"
          ],
          [
           "Open Source Infrastructure",
           "Streaming & Messaging",
           "RabbitMQ",
           "Open source RabbitMQ: core server and tier 1 (built-in) plugins"
          ],
          [
           "Open Source Infrastructure",
           "Query/Dataflow",
           "Presto",
           "The official home of the Presto distributed SQL query engine for big data\n"
          ],
          [
           "Open Source Infrastructure",
           "Databases",
           "PostgreSQL",
           "Mirror of the official PostgreSQL GIT repository. Note that this is just a \\*mirror\\* - we don't work with pull requests on github. To contribute, please see <https://wiki.postgresql.org/wiki/Submitting_a_Patch>\n"
          ],
          [
           "Infrastructure",
           "ETL/ELT/Data Transformation",
           "Portable",
           "Portable offers an ELT platform to build connectors on-demand for data teams. The platform enables data teams and companies to access fully-managed connectors and custom development in a no-code solution. The company was founded in 2020 and is based New York, New York."
          ],
          [
           "Analytics",
           "Analytics - Visualization",
           "Plotly",
           "Plotly is a technical computing company that develops online data analytics and visualization tools. It is based in Montreal, Quebec.\n"
          ],
          [
           "Open Source Infrastructure",
           "Format",
           "Parquet",
           "Apache Parquet\n"
          ],
          [
           "Open Source Infrastructure",
           "Format",
           "Orc",
           "Apache ORC - the smallest, fastest columnar storage for Hadoop workloads\n"
          ],
          [
           "Infrastructure",
           "RDBMs",
           "Oracle",
           "Oracle (NYSE: ORCL) is an enterprise software company that aims to offer a complete, open, and integrated IT stack of cloud applications, platform services, and engineered systems to help clients manage business information and streamline business processes. The company was founded in 1977 and is based in Redwood City, California."
          ],
          [
           "Open Source Infrastructure",
           "AI Frameworks & Libraries",
           "OpenCV",
           "Open Source Computer Vision Library\n"
          ],
          [
           "Infrastructure",
           "ETL/ELT/Data Transformation",
           "Rivery",
           "Rivery offers a data ETL pipeline and integration platform service that allows businesses to aggregate, transform and automate their data systems in the cloud. Rivery provides a single end-to-end ELT (extract, load, transform) solution which covers key processes to create the optimal data stack: Ingestion, Transformation, Orchestration, and Reverse ETL. Teams can choose from the different modules to build their ideal data infrastructure. Rivery was founded in 2017 and is based in New York, New York."
          ],
          [
           "Infrastructure",
           "MGMT/Monitoring",
           "Rubrik",
           "Rubrik makes data protection software that businesses employ to ensure that business documents can be restored if they are lost due to a technical failure or a ransomware assault. Customers can store backup copies of their documents in the cloud for convenient access with Rubrik. To ensure that ransomware assaults do not damage backup copies of organizations' data, the company's products use a method known as zero-trust data management.\n"
          ],
          [
           "Open Source Infrastructure",
           "Stat Tools & Languages",
           "NumPy",
           "The fundamental package for scientific computing with Python.\n"
          ],
          [
           "Infrastructure",
           "MGMT/Monitoring",
           "New Relic",
           "New Relic (NYSE: NEWR) develops cloud-based software to help website and application owners track the performance of their services. The company's SaaS-based solution provides an interface for web and native mobile applications and consolidates the performance monitoring data for any chosen technology in an environment. The firm was founded in 2008 and is based in San Francisco, California."
          ],
          [
           "Open Source Infrastructure",
           "Databases",
           "MySQL",
           "MySQL Server, the world's most popular open source database, and MySQL Cluster, a real-time, open source transactional database.\n"
          ],
          [
           "Open Source Infrastructure",
           "AI Frameworks & Libraries",
           "Mxnet",
           "Lightweight, Portable, Flexible Distributed/Mobile Deep Learning with Dynamic, Mutation-aware Dataflow Dep Scheduler; for Python, R, Julia, Scala, Go, Javascript and more\n"
          ],
          [
           "Infrastructure",
           "Data Integration",
           "MuleSoft",
           "MuleSoft provides an integration platform for connecting SaaS and enterprise applications in the cloud and on-premise. MuleSoft's Anypoint technology eliminates costly, time-intensive point-to-point integration, enabling business agility. Delivered as a packaged integration experience, Mule iON and Mule ESB are built on open source technology for fast, reliable integration without vendor lock-in. In March 2018, MuleSoft was acquired by Salesforce for $6.86B."
          ],
          [
           "Infrastructure",
           "NoSQL Databases",
           "MongoDB",
           "MongoDB is a general purpose, document-based, distributed database built for modern application developers and for the cloud era.\n"
          ],
          [
           "Machine Learning & Artificial Intelligence",
           "Enterprise ML Platforms",
           "Modular",
           "Modular offers a platform that unifies popular AI framework frontends via modular, “composable” common components. The company aims to let developers plug in custom hardware to train AI systems and deploy those systems to edge devices or servers. It was founded in 2022 and is based in San Francisco, California."
          ],
          [
           "Infrastructure",
           "RDBMs",
           "Microsoft SQL Server",
           "Microsoft (NASDAQ: MSFT) provides, develops, and licenses consumer and enterprise software. The company develops, manufactures, and sells computer software, consumer electronics, and personal computers and services. It is known for its Windows operating systems, Office productivity suite, cloud-based Azure platforms, and many more. The company was founded in 1975 and is based in Redmond, Washington."
          ],
          [
           "Infrastructure",
           "Infrastructure - Orchestration",
           "Microsoft Azure Data Factory",
           "Microsoft Azure is a cloud computing service created by Microsoft for building, testing, deploying, and managing applications and services through Microsoft-managed data centers.\n"
          ],
          [
           "Infrastructure",
           "RDBMs",
           "Microsoft Access",
           "Microsoft (NASDAQ: MSFT) provides, develops, and licenses consumer and enterprise software. The company develops, manufactures, and sells computer software, consumer electronics, and personal computers and services. It is known for its Windows operating systems, Office productivity suite, cloud-based Azure platforms, and many more. The company was founded in 1975 and is based in Redmond, Washington."
          ],
          [
           "Analytics",
           "BI Platforms",
           "Metabase",
           "Metabase is an open-source analytics and business intelligence application that can connect to the most commonly used databases. It lets anyone in a company quickly ask questions, and create dashboards or nightly emails without knowing SQL. Metabase was founded in 2014 and is based in San Francisco, California."
          ],
          [
           "Infrastructure",
           "ETL/ELT/Data Transformation",
           "Meltano",
           "Meltano is ELT (Extract, Load, Transform) for the DataOps era: open-source, self-hosted, CLI-first, debuggable, and extensible. Pipelines are code, ready to be version controlled, containerized and deployed continuously. Meltano lets users develop and test locally, then deploy in production along with the built-in airflow integration. Meltano was founded in 2021 and is based in Mexico."
          ],
          [
           "Open Source Infrastructure",
           "Open Source Infra - Visualizations",
           "Matplotlib",
           "matplotlib: plotting with Python\n"
          ],
          [
           "Infrastructure",
           "Data Integration",
           "SAP Data Services",
           "SAP (FWB: SAP) (NYSE: SAP) is a multinational software corporation that makes enterprise software to manage business operations and customer relations.\n"
          ],
          [
           "Machine Learning & Artificial Intelligence",
           "MLOps",
           "SageMaker",
           "Amazon Web Services (AWS) is a business unit within Amazon.com that provides an infrastructure platform for businesses in the form of cloud computing.\n"
          ],
          [
           "Infrastructure",
           "Data Quality & Observability",
           "Soda",
           "SodaData is a data monitoring platform for data owners, data engineers and data analytics teams. It's an easy-to-use, collaborative environment that tells users about important data events in real-time, across your data infrastructure.\n"
          ],
          [
           "Infrastructure",
           "Data Warehouses",
           "Google BigQuery",
           "Google Cloud Platform, offered by Google, is a suite of cloud computing services that runs on the same infrastructure that Google uses internally for its end-user products.\n"
          ],
          [
           "Open Source Infrastructure",
           "Stat Tools & Languages",
           "Python",
           "The Python programming language\n"
          ],
          [
           "Open Source Infrastructure",
           "AI Frameworks & Libraries",
           "TensorFlow",
           "An Open Source Machine Learning Framework for Everyone\n"
          ],
          [
           "Infrastructure",
           "Data Governance & Catalog",
           "Collibra",
           "Collibra is a data governance and intelligence platform that helps businesses unlock insights from disparate data sources. The company offers various products that allow both technical and business users to collaborate and combine data silos to find hidden meaning in their wealth of information.\n"
          ],
          [
           "Infrastructure",
           "MGMT/Monitoring",
           "Solarwinds",
           "SolarWinds (NYSE:SWI) is a company that develops software for businesses to help manage their networks, systems, and information technology infrastructure.\n"
          ],
          [
           "Infrastructure",
           "MPP DBs",
           "Teradata",
           "Teradata provides analytic data platforms, marketing and analytic applications, and consulting services. Teradata helps organizations collect, integrate, and analyze all of their data so they can know more about their customers and business.\n"
          ],
          [
           "Machine Learning & Artificial Intelligence",
           "Data Science Platforms",
           "Tibco",
           "TIBCO Software focuses on infrastructure and business intelligence software. It offers products such as TIBCO Cloud integration, TIBCO Cloud API management, TIBCO BusinessWorks, TIBCO BusinessConnect and more. The company caters to banking, credit union, energy, government, healthcare, insurance and more. TIBCO Software was founded in 1997 and is based in Palo Alto, California."
          ],
          [
           "Infrastructure",
           "Data Governance & Catalog",
           "Castor",
           "Castor operates a data catalog platform. It provides enterprise users with tools to collect, discover, understand and use datasets according to business needs. The solution automatically documents datasets and provides an overview of the entire data environment, giving employees the ability to search through all available data assets in the company. It was founded in 2020 and is based in Paris, France."
          ],
          [
           "Open Source Infrastructure",
           "Query/Dataflow",
           "Beam",
           "Apache Beam is a unified programming model for Batch and Streaming data processing.\n"
          ],
          [
           "Analytics",
           "Analytics - Visualization",
           "Toucan Toco",
           "Toucan Toco provides a data storytelling platform that allows organizations to provide insights to non-technical business users.\n"
          ],
          [
           "Analytics",
           "Data Analyst Platforms",
           "Trace",
           "\n"
          ],
          [
           "Infrastructure",
           "Data Lakes/Lakehouses",
           "Azure HD Insight",
           "Microsoft Azure is a cloud computing service created by Microsoft for building, testing, deploying, and managing applications and services through Microsoft-managed data centers.\n"
          ],
          [
           "Infrastructure",
           "NewSQL Databases",
           "Aurora",
           "Amazon Web Services (AWS) is a business unit within Amazon.com that provides an infrastructure platform for businesses in the form of cloud computing.\n"
          ],
          [
           "Analytics",
           "BI Platforms",
           "Atscale",
           "AtScale provides enterprises with a universal semantic platform for Business Intelligence on Big Data, allowing business users at corporations across financial services, healthcare, telecommunications, retail, and online industries to get interactive and multi-dimensional analysis capabilities, directly on Hadoop and cloud-based big data platforms.\n"
          ],
          [
           "Analytics",
           "Query Engine",
           "Athena",
           "Amazon Web Services (AWS) is a business unit within Amazon.com that provides an infrastructure platform for businesses in the form of cloud computing.\n"
          ],
          [
           "Analytics",
           "Product Analytics",
           "Contentsquare",
           "ContentSquare monitors touch and mouse movements on websites and apps to understand how these services are used. It leverages data to improve users' experience and increase engagement. Contentsquare helps brands everywhere transform the way they do business, allowing them to take action at enterprise scale and build customer trust with security, privacy and accessibility. Contentsquare was founded in 2012 and is based in Paris, France."
          ],
          [
           "Infrastructure",
           "Data Governance & Catalog",
           "Ataccama",
           "Ataccama is a unified data management platform provider. Combining data governance, data catalog, data quality, and master data management into a single, AI-powered fabric across hybrid and cloud environments, Ataccama gives businesses and data teams the ability to scale and accelerate business outcomes while maintaining the trust, security, and governance of data. Financial, commercial, and government organizations use Ataccama's solutions to execute and deliver business benefits. The company was founded in 2007 and is based in Toronto, Ontario."
          ],
          [
           "Infrastructure",
           "Graph DBs",
           "ArangoDB",
           "ArangoDB is an open-source database with a flexible data model for documents, graphs, and key-values. The company allows users to build high performance applications using a convenient SQL-like query language or JavaScript/Ruby extensions.\n"
          ],
          [
           "Infrastructure",
           "Database Abstraction",
           "Apollo",
           "\n"
          ],
          [
           "Open Source Infrastructure",
           "Query/Dataflow",
           "Apache Pig",
           "Mirror of Apache Pig\n"
          ],
          [
           "Open Source Infrastructure",
           "OLAP",
           "Apache Kylin",
           "Apache Kylin\n"
          ],
          [
           "Open Source Infrastructure",
           "Format",
           "Apache Arrow",
           "Apache Arrow is a multi-language toolbox for accelerated data interchange and in-memory processing\n"
          ],
          [
           "Infrastructure",
           "Graph DBs",
           "Amazon Neptune",
           "Amazon Web Services (AWS) is a business unit within Amazon.com that provides an infrastructure platform for businesses in the form of cloud computing.\n"
          ],
          [
           "Infrastructure",
           "Streaming/In-Memory",
           "Amazon Kinesis",
           "Amazon Web Services (AWS) is a business unit within Amazon.com that provides an infrastructure platform for businesses in the form of cloud computing.\n"
          ],
          [
           "Infrastructure",
           "Compute",
           "Amazon EKS",
           "Amazon Web Services (AWS) is a business unit within Amazon.com that provides an infrastructure platform for businesses in the form of cloud computing.\n"
          ],
          [
           "Infrastructure",
           "MPP DBs",
           "Vertica, An OpenText Company",
           "Vertica Systems is developing an analytics database management software company. Vertica makes SQL database management software designed to derive business intelligence from complex and large sets of data, in real-time.\n"
          ],
          [
           "Open Source Infrastructure",
           "Collaboration",
           "Zeppelin",
           "Web-based notebook that enables data-driven, interactive data analytics and collaborative documents with SQL, Scala and more.\n"
          ],
          [
           "Machine Learning & Artificial Intelligence",
           "Horizontal AI/AGI",
           "Adept",
           "Adept is an ML research and product lab building general intelligence by enabling humans and computers to work together creatively. The company was founded in 2021 and is based in San Francisco, California."
          ],
          [
           "Infrastructure",
           "ETL/ELT/Data Transformation",
           "dbt Labs",
           "dbt Labs helps data teams work directly within the warehouse to produce trusted datasets for reporting, ML modeling, and operational workflows.\n"
          ],
          [
           "Open Source Infrastructure",
           "Streaming & Messaging",
           "fpower",
           "\n"
          ],
          [
           "Infrastructure",
           "MGMT/Monitoring",
           "VMWare Aria",
           "VMware (NYSE: VMW) is a cloud computing and virtualization technology company that enables organizations to build, run, manage and secure their apps across clouds. It serves the banking, healthcare, government, retail, telecommunications, manufacturing, and transportation industries. The company was founded in 1998 and is based in Palo Alto, California."
          ],
          [
           "Analytics",
           "Data Analyst Platforms",
           "Cube",
           "Cube Dev is a developer framework for building analytics applications. It provides a complete backend API platform over the raw data while giving full customization and flexibility on the frontend.\n"
          ],
          [
           "Analytics",
           "BI Platforms",
           "Qlik",
           "Qlik specializes in data discovery and user-driven business intelligence, delivering solutions ranging from reporting and self-service visual analysis to guided, embedded, and custom analytics, regardless of where data is located.\n"
          ],
          [
           "Open Source Infrastructure",
           "Frameworks",
           "Flink",
           "Apache Flink\n"
          ],
          [
           "Open Source Infrastructure",
           "Open Source Infra - Visualizations",
           "D3",
           "Bring data to life with SVG, Canvas and HTML. :bar\\_chart::chart\\_with\\_upwards\\_trend::tada:\n"
          ],
          [
           "Open Source Infrastructure",
           "Open Source Infra - Search",
           "Solr",
           "Apache Solr open-source search software\n"
          ],
          [
           "Open Source Infrastructure",
           "Frameworks",
           "Spark",
           "Apache Spark - A unified analytics engine for large-scale data processing\n"
          ],
          [
           "Analytics",
           "Enterprise Search",
           "Elastic",
           "Elastic is a search engine based on Lucene. It provides a distributed, multitenant-capable full-text search engine with an HTTP web interface and schema-free JSON documents.\n"
          ],
          [
           "Open Source Infrastructure",
           "Open Source - Orchestration",
           "Dagster",
           "An orchestration platform for the development, production, and observation of data assets.\n"
          ],
          [
           "Open Source Infrastructure",
           "Frameworks",
           "Dask",
           "Parallel computing with task scheduling\n"
          ],
          [
           "Open Source Infrastructure",
           "Data Access",
           "DataHub",
           "The Metadata Platform for the Modern Data Stack\n"
          ],
          [
           "Open Source Infrastructure",
           "Databases",
           "Flume",
           "Mirror of Apache Flume\n"
          ],
          [
           "Analytics",
           "Log Analytics",
           "Splunk",
           "Splunk (NASDAQ: SPLK) provides a software platform that enables organizations to gain operational intelligence. Its software collects and indexes data, regardless of format or source, and enables users to quickly and easily search, correlate, analyze, monitor, and report on this data. The company was founded in 2005 and is based in San Francisco, California."
          ],
          [
           "Infrastructure",
           "Database Abstraction",
           "Supabase",
           "Supabase develops an open-source alternative to Google's Firebase. The firm helps developers by providing a Postgres database with a self-documenting API based on the data inside. The company is based in Singapore and was founded in 2020."
          ],
          [
           "Open Source Infrastructure",
           "Query/Dataflow",
           "Spark SQL",
           "Apache Spark - A unified analytics engine for large-scale data processing\n"
          ],
          [
           "Infrastructure",
           "Data Warehouses",
           "IBM Db2 Warehouse",
           "IBM (NYSE: IBM) manufactures and sells computer hardware and software, and offers infrastructure services, hosting services, and consulting services in areas ranging from mainframe computers to nanotechnology. The company was founded in 1911 and is based in Armonk, Newyork."
          ],
          [
           "Analytics",
           "BI Platforms",
           "IBM Cognos Analytics",
           "IBM (NYSE: IBM) manufactures and sells computer hardware and software, and offers infrastructure services, hosting services, and consulting services in areas ranging from mainframe computers to nanotechnology. The company was founded in 1911 and is based in Armonk, Newyork."
          ],
          [
           "Infrastructure",
           "Data Governance & Catalog",
           "IBM",
           "IBM (NYSE: IBM) manufactures and sells computer hardware and software, and offers infrastructure services, hosting services, and consulting services in areas ranging from mainframe computers to nanotechnology. The company was founded in 1911 and is based in Armonk, Newyork."
          ],
          [
           "Analytics",
           "Product Analytics",
           "Amplitude",
           "Amplitude (NASDAQ: AMPLT) provides mobile analytics that help companies leverage data to improve user growth. Amplitude provides Amplitude Analytics, a Built on Nova platform which gives companies access to user behavior analytics for mobile and web to pinpoint and act in order to reach better retention, engagement, and conversion results.\n"
          ],
          [
           "Open Source Infrastructure",
           "Open Source Infra - Search",
           "Lucene",
           "Apache Lucene open-source search software\n"
          ],
          [
           "Infrastructure",
           "ETL/ELT/Data Transformation",
           "Fivetran",
           "Fivetran fully automated connectors sync data from cloud applications, databases, event logs and more into the data warehouse.\n"
          ],
          [
           "Open Source Infrastructure",
           "Streaming & Messaging",
           "Storm",
           "Mirror of Apache Storm\n"
          ],
          [
           "Analytics",
           "Analytics - Visualization",
           "Power BI",
           "\n"
          ],
          [
           "Open Source Infrastructure",
           "Logging & Monitoring",
           "Grafana",
           "The open and composable observability and data visualization platform. Visualize metrics, logs, and traces from multiple sources like Prometheus, Loki, Elasticsearch, InfluxDB, Postgres and many more. \n"
          ],
          [
           "Open Source Infrastructure",
           "Infrastructure",
           "Zookeeper",
           "Apache ZooKeeper\n"
          ],
          [
           "Infrastructure",
           "Storage",
           "Google Cloud Storage",
           "Google Cloud Platform, offered by Google, is a suite of cloud computing services that runs on the same infrastructure that Google uses internally for its end-user products.\n"
          ],
          [
           "Machine Learning & Artificial Intelligence",
           "MLOps",
           "Valohai",
           "Valohai is a SaaS platform that allows international companies to accelerate machine learning development and scale their model deployment. The scalable solution allows companies to run multiple variations of machine learning ideas in parallel, leaving developers free to focus on pushing the boundaries of their research with minimal idle time. The platform, which requires no setup, meaning companies can start building large-scale ML models immediately, is designed to be used for peer review and open-source collaboration. The Valohai system can track changes, build reproducible algorithms, and ensure changes in team composition do not hinder the experiment process.\n"
          ],
          [
           "Open Source Infrastructure",
           "Stat Tools & Languages",
           "Scala",
           "Scala 2 compiler and standard library. For bugs, see scala/bug"
          ],
          [
           "Infrastructure",
           "Data Integration",
           "StreamSets",
           "StreamSets provides data ingest technology for big data applications. Its enterprise-grade infrastructure accelerates data analysis and decision-making by bringing unprecedented transparency and event processing to data in motion. On February 28th, 2022, StreamSets was acquired by Software AG. The terms of the transaction were not disclosed."
          ],
          [
           "Infrastructure",
           "Compute",
           "Azure",
           "Microsoft Azure is a cloud computing service created by Microsoft for building, testing, deploying, and managing applications and services through Microsoft-managed data centers.\n"
          ],
          [
           "Analytics",
           "Customer Data Platforms",
           "Salesforce CDP",
           "Salesforce (NYSE: CRM) is an enterprise cloud computing provider. The company supplies a customer relationship management service to businesses worldwide providing a technology platform for customers and developers to build and run business applications. Its clients use salesforce.com to manage their customer, sales, and operational data. Sales Cloud, Service Cloud, Marketing Cloud, Community Cloud, Salesforce Analytics, and App Cloud are the product developed by the platform. It primarily focuses on automotive, communication, healthcare, education, financial services, non-profit, media, and other industries. The company was founded in 1999 and is based in San Francisco, California."
          ],
          [
           "Machine Learning & Artificial Intelligence",
           "Data Generation & Labelling",
           "Scale",
           "Scale AI is an API for human labor that allows developers to enter requests for humans to complete menial, repetitive tasks that cannot be done by a computer. With Scale, developers can get information screened for duplicates and mismatches and have user-generated content moderated and categorized.\n"
          ],
          [
           "Infrastructure",
           "MGMT/Monitoring",
           "Cloudwatch",
           "Amazon Web Services (AWS) is a business unit within Amazon.com that provides an infrastructure platform for businesses in the form of cloud computing.\n"
          ],
          [
           "Analytics",
           "Data Analyst Platforms",
           "Microsoft",
           "Microsoft (NASDAQ: MSFT) provides, develops, and licenses consumer and enterprise software. The company develops, manufactures, and sells computer software, consumer electronics, and personal computers and services. It is known for its Windows operating systems, Office productivity suite, cloud-based Azure platforms, and many more. The company was founded in 1975 and is based in Redmond, Washington."
          ],
          [
           "Open Source Infrastructure",
           "AI Frameworks & Libraries",
           "Scikit-learn",
           "scikit-learn: machine learning in Python\n"
          ],
          [
           "Infrastructure",
           "Reverse ETL",
           "Census",
           "Census is a data automation platform that syncs data warehouses with relevant apps.\n"
          ],
          [
           "Open Source Infrastructure",
           "Databases",
           "InfluxDB",
           "Scalable datastore for metrics, events, and real-time analytics\n"
          ],
          [
           "Infrastructure",
           "NewSQL Databases",
           "Timescale",
           "Timescale is an open-source time-series database specifically designed for ease of use and complex queries that is fully compatible with Postgres. The company focuses on developers and businesses working with machine data and IoT. The company was founded in 2015 and is based in New York, New York."
          ],
          [
           "Infrastructure",
           "RDBMs",
           "SAP ASE",
           "SAP (FWB: SAP) (NYSE: SAP) is a multinational software corporation that makes enterprise software to manage business operations and customer relations.\n"
          ],
          [
           "Analytics",
           "Log Analytics",
           "Sumologic",
           "Sumo Logic (NASDAQ: SUMO) develops software, which helps organizations address the challenges and opportunities presented by digital transformation, applications development, and cloud computing. The platform assists organizations to automate the collection, ingestion, and analysis of application, infrastructure, security, and IoT data. The company was founded in 2010 and is based in Redwood City, California."
          ],
          [
           "Analytics",
           "Analytics - Visualization",
           "Streamlit",
           "Streamlit is an app framework specifically for machine learning and data science teams. Streamlit aims to turn data scripts into shareable web apps in pure Python. On March 2nd, 2022, Streamlit was acquired by Snowflake at a valuation of $800M."
          ],
          [
           "Open Source Infrastructure",
           "Streaming & Messaging",
           "Kafka",
           null
          ],
          [
           "Machine Learning & Artificial Intelligence",
           "Horizontal AI/AGI",
           "Stability.ai",
           "Stability AI develops open AI models for image, language, audio, video, 3D, and biology. It is the developer of Stable Diffusion, a powerful, free and open-source text-to-image generator. It was founded in 2019 and is based in London, U.K."
          ],
          [
           "Analytics",
           "BI Platforms",
           "Tibco Spotfire",
           "TIBCO Software focuses on infrastructure and business intelligence software. It offers products such as TIBCO Cloud integration, TIBCO Cloud API management, TIBCO BusinessWorks, TIBCO BusinessConnect and more. The company caters to banking, credit union, energy, government, healthcare, insurance and more. TIBCO Software was founded in 1997 and is based in Palo Alto, California."
          ],
          [
           "Infrastructure",
           "Data Warehouses",
           "Snowflake",
           "Snowflake (NYSE: SNOW) provides a cloud data warehouse enabling enterprises to access structured and semi-structured data.\n"
          ],
          [
           "Infrastructure",
           "Real Time Databases",
           "Redis",
           "Redis provides a real-time data platform. It offers solutions for enterprise caching, session management, leaderboards, fraud detection, deduplication, and more. It serves retail, gaming, healthcare, and other sectors. It was founded in 2011 and is based in Mountain View, California."
          ],
          [
           "Machine Learning & Artificial Intelligence",
           "Horizontal AI/AGI",
           "Replicate",
           "Replicate runs machine learning models in the cloud. It allows people to share the machine learning models in a way that other people can use them. The company was founded in 2019 and is based in San Francisco, California."
          ],
          [
           "Open Source Infrastructure",
           "Stat Tools & Languages",
           "SciPy",
           "SciPy library main repository\n"
          ],
          [
           "Data Sources & APIs",
           "Location Intelligence",
           "Radar",
           "Radar is the location context platform powering location-based experiences for Fortune 500 companies across verticals like shopping & retail, food & dining, travel & transportation, and entertainment & sports."
          ],
          [
           "Open Source Infrastructure",
           "Logging & Monitoring",
           "Sentry",
           "Developer-first error tracking and performance monitoring\n"
          ],
          [
           "Infrastructure",
           "Data Warehouses",
           "Tabular",
           "Tabular is a cloud-native data platform designed to automate maintenance and optimization of data. It was founded in 2021 and is based in San Jose, California."
          ],
          [
           "Machine Learning & Artificial Intelligence",
           "Data Generation & Labelling",
           "Unity",
           "Unity (NYSE: U) develops a 3D development platform, giving developers around the world the tools to create interactive 2D, 3D, VR, and AR experiences. It offers software solutions to create, run, and monetize 2D and 3D content for mobile phones, tablets, PCs, consoles, and augmented and virtual reality devices. The company was founded in 2004 and is based in San Francisco, California."
          ],
          [
           "Machine Learning & Artificial Intelligence",
           "Data Science Platforms",
           "Sas",
           "SAS provides software and solutions for business analytics, data management, and AI, used to gather, manage, and analyze corporate information. It offers business analytics SaaS for a range of industries that include agriculture, banking, education, healthcare, insurance, life sciences, manufacturing, retail and consumer goods, public sector, sports, telecommunications and utility industries. The company was founded in 1976 and is based in Cary, North Carolina."
          ],
          [
           "Infrastructure",
           "Storage",
           "S3",
           "Amazon Web Services (AWS) is a business unit within Amazon.com that provides an infrastructure platform for businesses in the form of cloud computing.\n"
          ],
          [
           "Infrastructure",
           "ETL/ELT/Data Transformation",
           "AWS Glue",
           "Amazon Web Services (AWS) is a business unit within Amazon.com that provides an infrastructure platform for businesses in the form of cloud computing.\n"
          ],
          [
           "Infrastructure",
           "Database Abstraction",
           "Prisma",
           "Prisma is an open-source ORM for Node.js and TypeScript that helps developers build faster and make fewer errors. It supports JavaScript and TypeScript and has supported databases including PostgreSQL, MySQL, MariaDB, SQL Server, SQLite, and more recently, MongoDB. The company was founded in 2016 and is based in Berlin, Germany."
          ],
          [
           "Analytics",
           "Query Engine",
           "Dremio",
           "Dremio provides a data analytics platform that allows business users to curate precisely the data they need, from any data source, then accelerate analytical processing for BI tools, machine learning, data science, and SQL clients. The company was founded in 2015 and is based in Santa Clara, California."
          ],
          [
           "Open Source Infrastructure",
           "Frameworks",
           "Docker",
           "Define and run multi-container applications with Docker\n"
          ],
          [
           "Machine Learning & Artificial Intelligence",
           "Horizontal AI/AGI",
           "DeepMind",
           "DeepMind is a cutting edge artificial intelligence company. The company combines the best techniques from machine learning and systems neuroscience to build powerful general-purpose learning algorithms.\n"
          ],
          [
           "Open Source Infrastructure",
           "Streaming & Messaging",
           "Debezium",
           "Change data capture for a variety of databases. Please log issues at <https://issues.redhat.com/browse/DBZ>.\n"
          ],
          [
           "Analytics",
           "Log Analytics",
           "Datadog",
           "Datadog (NASDAQ: DDOG) offers a monitoring and security platform for developers, information technology operations teams, and business users available in the cloud. The company collects data from servers, databases, applications, tools, and services to present a unified view of the infrastructure. These capabilities are provided on a SaaS-based monitoring and data analytics platform that enables multiple teams to work collaboratively on the infrastructure to avoid downtime, resolve performance problems and ensure that development and deployment cycles finish on time. The company was founded in 2010 and is based in New York, New York."
          ],
          [
           "Infrastructure",
           "NoSQL Databases",
           "Couchbase",
           "Couchbase (NASDAQ:BASE) provides a scalable NoSQL database. The solution includes a shared nothing architecture, a single node-type, a built in caching layer, true auto-sharding and a NoSQL mobile offering: Couchbase Mobile, a NoSQL mobile solution comprised of Couchbase Server, Couchbase Sync Gateway and Couchbase Lite. Couchbase Server and all Couchbase Mobile products are open source projects.\n"
          ],
          [
           "Infrastructure",
           "NoSQL Databases",
           "CosmosDB",
           "Microsoft Azure is a cloud computing service created by Microsoft for building, testing, deploying, and managing applications and services through Microsoft-managed data centers.\n"
          ],
          [
           "Machine Learning & Artificial Intelligence",
           "MLOps",
           "Cortex",
           "cortex provides containers as a service on AWS to deploy, manage, and scale containers without worrying about Kubernetes. It was founded in 2018 and is based in Oakland, California. On April 25th, 2022, cortex was acquired by Databricks. The terms of the transaction were not disclosed."
          ],
          [
           "Machine Learning & Artificial Intelligence",
           "Enterprise ML Platforms",
           "Continual",
           "Continual brings operational AI to the modern, warehouse-centric data stack. The company was founded in 2019 and is based in San Francisco, California."
          ],
          [
           "Infrastructure",
           "Streaming/In-Memory",
           "Confluent",
           "Confluent (NASDAQ: CFLT) provides an Apache Kafka-based streaming platform for enterprises in industries such as retail, logistics, manufacturing, financial services, technology, and media to maximize the value of their data. Confluent Platform lets enterprises move data from isolated systems into a real-time data pipeline where they can act on it immediately.\n"
          ],
          [
           "Infrastructure",
           "Data Lakes/Lakehouses",
           "Cloudera",
           "Cloudera provides enterprise data management solutions that offer a unified platform for data, an enterprise data hub built on Apache Hadoop. It provides enterprises one place to store, process, and analyze all their data, empowering them to extend the value of existing investments while enabling fundamental new ways to derive value from their data.\n"
          ],
          [
           "Infrastructure",
           "Real Time Databases",
           "Clickhouse",
           "ClickHouse provides an open-source, column-oriented Online analytical processing (OLAP) database management system that allows users to generate analytical reports using SQL queries. The company was founded in 2021 and is based in Redwood City, California."
          ],
          [
           "Analytics",
           "Data Analyst Platforms",
           "Canvas",
           "Canvas is a collaborative data exploration tool that helps business teams make decisions without SQL. It automates reporting and shares insights using spreadsheet abilities. It was founded in 2020 and is based in San Francisco, California."
          ],
          [
           "Data Sources & APIs",
           "Financial & Market Data",
           "Bloomberg",
           "Bloomberg is a source of information for businesses and professionals. They offer information via the Bloomberg Professional service and multimedia platforms. Per the company, Bloomberg's media services also cover the world with more than 2,200 news and multimedia professionals at 146 bureaus in 72 countries. Bloomberg also operates the Bloomberg Television 24-hour network which per Bloomberg reaches more than 200 million homes. The firm also operates Bloomberg Radio services which broadcast via Sirius XM Radio and 1worldspace satellite radio globally and on WBBR 1130AM in New York. They also operate Bloomberg Markets magazine, Bloomberg Businessweek magazine and the Bloomberg.com financial news and information web site."
          ],
          [
           "Infrastructure",
           "Data Warehouses",
           "Azure Synapse Analytics",
           "Microsoft Azure is a cloud computing service created by Microsoft for building, testing, deploying, and managing applications and services through Microsoft-managed data centers.\n"
          ],
          [
           "Infrastructure",
           "Storage",
           "Azure Storage",
           "Microsoft Azure is a cloud computing service created by Microsoft for building, testing, deploying, and managing applications and services through Microsoft-managed data centers.\n"
          ],
          [
           "Infrastructure",
           "ETL/ELT/Data Transformation",
           "Azure Data Factory",
           "Microsoft Azure is a cloud computing service created by Microsoft for building, testing, deploying, and managing applications and services through Microsoft-managed data centers.\n"
          ],
          [
           "Machine Learning & Artificial Intelligence",
           "AI Hardware",
           "Arm",
           "Arm designs the technology for advanced digital products, from wireless, networking, and consumer entertainment solutions to imaging, automotive, security, and storage devices. Its product offering includes RISC microprocessors, graphics processors, video engines, enabling software, cell libraries, embedded memories, high-speed connectivity products, peripherals, and development tools. The company was founded in 1990 and is based in Cambridge, U.K. In June 2018, Telco System acquired a majority stake in Arm."
          ],
          [
           "Infrastructure",
           "RDBMs",
           "Amazon RDS",
           "Amazon Web Services (AWS) is a business unit within Amazon.com that provides an infrastructure platform for businesses in the form of cloud computing.\n"
          ],
          [
           "Infrastructure",
           "Compute",
           "Amazon ECS",
           "Amazon Web Services (AWS) is a business unit within Amazon.com that provides an infrastructure platform for businesses in the form of cloud computing.\n"
          ],
          [
           "Analytics",
           "Data Analyst Platforms",
           "Alteryx",
           "Alteryx (NYSE: AYX) serves the self-service data analytics movement with a platform that can discover, prep, and analyze data, then deploy and share analytics at scale for deeper insights. The company was founded in 2010 and is based in Irvine, California."
          ],
          [
           "Analytics",
           "Data Analyst Platforms",
           "Airtable",
           "Airtable enables teams to create apps on top of shared data to power workflows. Users can bring their data together using integrations, extensible APIs, custom scripting and more. The company provides solutions to organizational departments within Marketing, Product Operations, Human Resources, Sales, Operations, Content Operations, FInance and more. It was founded in 2013 and is based in San Francisco, California."
          ],
          [
           "Open Source Infrastructure",
           "Open Source - Orchestration",
           "Airflow",
           "Apache Airflow - A platform to programmatically author, schedule, and monitor workflows\n"
          ],
          [
           "Infrastructure",
           "NoSQL Databases",
           "Aerospike",
           "Aerospike specializes in real-time NoSQL data solutions for any scale. Aerospike enterprises overcome seemingly impossible data bottlenecks to compete and win with a fraction of the infrastructure complexity and cost of legacy NoSQL databases. Aerospike empowers customers to instantly fight fraud; dramatically increase shopping cart size; deploy global digital payment networks; and deliver instant, one-to-one personalization for millions of customers.\n"
          ],
          [
           "Infrastructure",
           "Fully Managed",
           "Adverity",
           "Adverity offers a marketing and ETL platform that can connect and manage data sources, create data stack with data normalization, and calculate and clean up functionalities.\n"
          ],
          [
           "Infrastructure",
           "Infrastructure - Orchestration",
           "AWS Step Functions",
           "Amazon Web Services (AWS) is a business unit within Amazon.com that provides an infrastructure platform for businesses in the form of cloud computing.\n"
          ],
          [
           "Infrastructure",
           "Compute",
           "AWS Lambda",
           "Amazon Web Services (AWS) is a business unit within Amazon.com that provides an infrastructure platform for businesses in the form of cloud computing.\n"
          ],
          [
           "Infrastructure",
           "NoSQL Databases",
           "DynamoDB",
           "Amazon Web Services (AWS) is a business unit within Amazon.com that provides an infrastructure platform for businesses in the form of cloud computing.\n"
          ],
          [
           "Machine Learning & Artificial Intelligence",
           "Speech",
           "Eleven Labs",
           "Eleven Labs offers a platform for generating long-format speech in any voice and in any language. The company engages in the research and development of novel methods in voice artificial intelligence (AI) to make content in any language and voice. Eleven Labs was founded in 2022 and is based in Brooklyn, New York."
          ],
          [
           "Data Sources & APIs",
           "People/Entities",
           "Epsilon",
           "Epsilon provides marketing solutions that integrate data, creativity, and technologies for advertisers. The company was founded in 1969 and is based in Lafayette, Colorado."
          ],
          [
           "Infrastructure",
           "MPP DBs",
           "Exasol",
           "Exasol develops an in-memory database for analytics and data warehousing, and offers expertise in data insight and analytics. The in-memory analytic database combines in-memory, columnar compression and massively parallel processing. The company was founded in 2000 and is based in Nuremberg, Germany."
          ],
          [
           "Infrastructure",
           "Infrastructure - Orchestration",
           "Prefect",
           "Prefect Technologies is a workflow management system designed for modern infrastructure and powered by the open-source Prefect Core workflow engine.\n"
          ],
          [
           "Infrastructure",
           "Data Quality & Observability",
           "Precisely",
           "Precisely specializes in data integrity, providing accuracy and consistency in data for customers in more than 100 countries. Precisely’s data integration, data quality, location intelligence, and data enrichment products power better business decisions to create better outcomes. The company was founded in 1992 and is based in Burlington, Massachusetts."
          ],
          [
           "Open Source Infrastructure",
           "Logging & Monitoring",
           "OpenTelemetry",
           "OpenTelemetry makes robust, portable telemetry a built-in feature of cloud-native software.\n"
          ],
          [
           "Machine Learning & Artificial Intelligence",
           "Horizontal AI/AGI",
           "OpenAI",
           "OpenAI is an AI research and deployment company that discovers and enacts the path to safe artificial general intelligence. Focused on generative AI, the company is the creator of GPT, Dall-E, and chatGPT. Its Generative Pre-trained Transformer (GPT) products offer a large language model (LLM) that uses deep learning to produce human-like text. The company was founded in 2015 and is based in San Francisco, California."
          ],
          [
           "Infrastructure",
           "Privacy & Security",
           "OneTrust",
           "OneTrust operates as a software platform for privacy professionals. The platform operationalizes data privacy compliance and Privacy by Design. The web-based console helps automate privacy impact assessments and data mapping, identify privacy risks, and enforce risk management and control activities in an integrated and agile approach. The result is the ability to demonstrate accountability and compliance with EU's data protection requirements globally across privacy jurisdictions and frameworks. The company serves customers across a range of industries. The company was founded in 2016 and is based in Atlanta, Georgia."
          ],
          [
           "Analytics",
           "Analytics - Visualization",
           "Observable",
           "Observable empowers everyone to create, collaborate, and learn with data. People can discover insights faster and collaborate seamlessly with interactive Observable notebooks built for data analysis, visualization, and exploration. It is based in San Francisco, California.\n"
          ],
          [
           "Open Source Infrastructure",
           "AI Frameworks & Libraries",
           "ONNX",
           "Open standard for machine learning interoperability\n"
          ],
          [
           "Analytics",
           "BI Platforms",
           "Microstrategy",
           "MicroStrategy (Nasdaq: MSTR) is an independent business intelligence company with an enterprise analytics platform. It provides modern analytics on an open, comprehensive enterprise platform used by global brands in the Fortune Global 500. Optimized for cloud and on-premises deployments, the platform features HyperIntelligence®, a technology that overlays actionable enterprise data on popular business applications to help users make smarter and faster decisions. The company was founded in 1989 and is based in Vienna, Virginia."
          ],
          [
           "Analytics",
           "Crypto & Web 3 Analytics",
           "Merlin",
           "\n"
          ],
          [
           "Infrastructure",
           "ETL/ELT/Data Transformation",
           "Matillion",
           "Matillion provides data integration and transformation solution for cloud and cloud data warehouses. Its solutions include data transformation, data analytics, data integration, data lakes, data preparation, and data governance. The company serves enterprises and small and midsize businesses (SMBs). Matillion was founded in 2011 and is based in Altrincham, U.K."
          ],
          [
           "Open Source Infrastructure",
           "Data Ops",
           "Marquez",
           "Collect, aggregate, and visualize a data ecosystem's metadata\n"
          ],
          [
           "Open Source Infrastructure",
           "Databases",
           "MariaDB",
           "MariaDB server is a community developed fork of MySQL server. Started by core members of the original MySQL team, MariaDB actively works with outside developers to deliver the most featureful, stable, and sanely licensed open SQL server in the industry.\n"
          ],
          [
           "Open Source Infrastructure",
           "AI Frameworks & Libraries",
           "MLLib",
           "Apache Spark - A unified analytics engine for large-scale data processing\n"
          ],
          [
           "Open Source Infrastructure",
           "Streaming & Messaging",
           "Pulsar",
           "Apache Pulsar - distributed pub-sub messaging system\n"
          ],
          [
           "Open Source Infrastructure",
           "MLOps & AI Infra",
           "MLFlow",
           "Open source platform for the machine learning lifecycle\n"
          ],
          [
           "Open Source Infrastructure",
           "Logging & Monitoring",
           "Logstash",
           "Logstash - transport and process your logs, events, or other data\n"
          ],
          [
           "Open Source Infrastructure",
           "MLOps & AI Infra",
           "KubeFlow",
           "Machine Learning Toolkit for Kubernetes\n"
          ],
          [
           "Analytics",
           "Log Analytics",
           "Kibana",
           "Elastic is a search engine based on Lucene. It provides a distributed, multitenant-capable full-text search engine with an HTTP web interface and schema-free JSON documents.\n"
          ],
          [
           "Open Source Infrastructure",
           "Collaboration",
           "Jupyter",
           "Jupyter Interactive Notebook\n"
          ],
          [
           "Machine Learning & Artificial Intelligence",
           "MLOps",
           "Iterative",
           "Iterative offers DVC.org as an open source tool for data and models versioning for ML projects.\n"
          ],
          [
           "Open Source Infrastructure",
           "Format",
           "Iceberg",
           "Apache Iceberg\n"
          ],
          [
           "Open Source Infrastructure",
           "Query/Dataflow",
           "Hive",
           "Apache Hive\n"
          ],
          [
           "Infrastructure",
           "ETL/ELT/Data Transformation",
           "Hevo Data",
           "Hevo Data is a fully automated, no-code data pipeline platform that helps organizations leverage data effortlessly. Hevo's end-to-end data pipeline platform enables users to pull data from all sources to the warehouse and run transformations for analytics to generate real-time data-driven business insights. The platform supports ready-to-use integrations across databases, SaaS applications, cloud storage, SDKs, and streaming services. The company was founded in 2017 and is based in San Francisco, California."
          ],
          [
           "Infrastructure",
           "Data Quality & Observability",
           "Great Expectations",
           "Great Expectations is a tool for validating, documenting, and profiling data to maintain quality and improve communication between teams. Its features include expectations, tests are docs and docs are tests, automated data profiling, battery-included data validation, pluggable and extensible. It was founded in 2017 and is based in San Francisco, California."
          ],
          [
           "Infrastructure",
           "Streaming/In-Memory",
           "Google Cloud Dataflow",
           "Google Cloud Platform, offered by Google, is a suite of cloud computing services that runs on the same infrastructure that Google uses internally for its end-user products.\n"
          ],
          [
           "Infrastructure",
           "ETL/ELT/Data Transformation",
           "Google Cloud Data Fusion",
           "Google Cloud Platform, offered by Google, is a suite of cloud computing services that runs on the same infrastructure that Google uses internally for its end-user products.\n"
          ],
          [
           "Machine Learning & Artificial Intelligence",
           "MLOps",
           "Giskard",
           "Giskard offers a collaborative and open-source software platform to ensure the quality of AI models. Its continuous integration and continuous delivery (CI/CD) platform help in the integration, uploading, evaluation, testing, and deployment of machine learning (ML) models. The company was founded in 2021 and is based in Paris, France."
          ],
          [
           "Open Source Infrastructure",
           "Open Source - Orchestration",
           "Flyte",
           "Kubernetes-native workflow automation platform for complex, mission-critical data and ML processes at scale. It has been battle-tested at Lyft, Spotify, Freenome, and others and is truly open-source.\n"
          ],
          [
           "Analytics",
           "Analytics - Visualization",
           "Looker Studio",
           "\n"
          ],
          [
           "Analytics",
           "BI Platforms",
           "Looker",
           "Looker provides a SaaS unified platform for data that delivers business insights to every employee at the point of decision. It delivers applications through its platform, including Business Intelligence, business-specific solutions such as Digital Marketing Analytics and Web Event Analytics, and a flexible, embedded analytics framework. The solution also integrates data into the daily workflows of users to allow organizations to extract value from data at web scale. The company was founded in 2012 and is based in Santa Cruz, California."
          ],
          [
           "Open Source Infrastructure",
           "AI Frameworks & Libraries",
           "(?)",
           "(?)"
          ],
          [
           "Machine Learning & Artificial Intelligence",
           "AI Hardware",
           "(?)",
           "(?)"
          ],
          [
           "Analytics",
           "Analytics - Visualization",
           "(?)",
           "(?)"
          ],
          [
           "Analytics",
           "BI Platforms",
           "(?)",
           "(?)"
          ],
          [
           "Open Source Infrastructure",
           "Collaboration",
           "(?)",
           "(?)"
          ],
          [
           "Infrastructure",
           "Compute",
           "(?)",
           "(?)"
          ],
          [
           "Analytics",
           "Crypto & Web 3 Analytics",
           "Merlin",
           "\n"
          ],
          [
           "Analytics",
           "Customer Data Platforms",
           "(?)",
           "(?)"
          ],
          [
           "Open Source Infrastructure",
           "Data Access",
           "DataHub",
           "The Metadata Platform for the Modern Data Stack\n"
          ],
          [
           "Analytics",
           "Data Analyst Platforms",
           "(?)",
           "(?)"
          ],
          [
           "Machine Learning & Artificial Intelligence",
           "Data Generation & Labelling",
           "(?)",
           "(?)"
          ],
          [
           "Infrastructure",
           "Data Governance & Catalog",
           "(?)",
           "(?)"
          ],
          [
           "Infrastructure",
           "Data Integration",
           "(?)",
           "(?)"
          ],
          [
           "Infrastructure",
           "Data Lakes/Lakehouses",
           "(?)",
           "(?)"
          ],
          [
           "Data Sources & APIs",
           "Data Marketplaces & Discovery",
           "Snowflake Data Exchange",
           null
          ],
          [
           "Open Source Infrastructure",
           "Data Ops",
           "Marquez",
           "Collect, aggregate, and visualize a data ecosystem's metadata\n"
          ],
          [
           "Infrastructure",
           "Data Quality & Observability",
           "(?)",
           "(?)"
          ],
          [
           "Machine Learning & Artificial Intelligence",
           "Data Science Notebooks",
           "Google Colab",
           "\n"
          ],
          [
           "Machine Learning & Artificial Intelligence",
           "Data Science Platforms",
           "(?)",
           "(?)"
          ],
          [
           "Infrastructure",
           "Data Warehouses",
           "(?)",
           "(?)"
          ],
          [
           "Infrastructure",
           "Database Abstraction",
           "(?)",
           "(?)"
          ],
          [
           "Open Source Infrastructure",
           "Databases",
           "(?)",
           "(?)"
          ],
          [
           "Infrastructure",
           "ETL/ELT/Data Transformation",
           "(?)",
           "(?)"
          ],
          [
           "Machine Learning & Artificial Intelligence",
           "Enterprise ML Platforms",
           "(?)",
           "(?)"
          ],
          [
           "Analytics",
           "Enterprise Search",
           "Elastic",
           "Elastic is a search engine based on Lucene. It provides a distributed, multitenant-capable full-text search engine with an HTTP web interface and schema-free JSON documents.\n"
          ],
          [
           "Data Sources & APIs",
           "Financial & Market Data",
           "Bloomberg",
           "Bloomberg is a source of information for businesses and professionals. They offer information via the Bloomberg Professional service and multimedia platforms. Per the company, Bloomberg's media services also cover the world with more than 2,200 news and multimedia professionals at 146 bureaus in 72 countries. Bloomberg also operates the Bloomberg Television 24-hour network which per Bloomberg reaches more than 200 million homes. The firm also operates Bloomberg Radio services which broadcast via Sirius XM Radio and 1worldspace satellite radio globally and on WBBR 1130AM in New York. They also operate Bloomberg Markets magazine, Bloomberg Businessweek magazine and the Bloomberg.com financial news and information web site."
          ],
          [
           "Open Source Infrastructure",
           "Format",
           "(?)",
           "(?)"
          ],
          [
           "Open Source Infrastructure",
           "Frameworks",
           "(?)",
           "(?)"
          ],
          [
           "Infrastructure",
           "Fully Managed",
           "Adverity",
           "Adverity offers a marketing and ETL platform that can connect and manage data sources, create data stack with data normalization, and calculate and clean up functionalities.\n"
          ],
          [
           "Machine Learning & Artificial Intelligence",
           "GPU Cloud",
           "Lambda",
           "\n"
          ],
          [
           "Infrastructure",
           "Graph DBs",
           "(?)",
           "(?)"
          ],
          [
           "Machine Learning & Artificial Intelligence",
           "Horizontal AI/AGI",
           "(?)",
           "(?)"
          ],
          [
           "Open Source Infrastructure",
           "Infrastructure",
           "Zookeeper",
           "Apache ZooKeeper\n"
          ],
          [
           "Infrastructure",
           "Infrastructure - Orchestration",
           "(?)",
           "(?)"
          ],
          [
           "Data Sources & APIs",
           "Location Intelligence",
           "(?)",
           "(?)"
          ],
          [
           "Analytics",
           "Log Analytics",
           "(?)",
           "(?)"
          ],
          [
           "Open Source Infrastructure",
           "Logging & Monitoring",
           "(?)",
           "(?)"
          ],
          [
           "Infrastructure",
           "MGMT/Monitoring",
           "(?)",
           "(?)"
          ],
          [
           "Machine Learning & Artificial Intelligence",
           "MLOps",
           "(?)",
           "(?)"
          ],
          [
           "Open Source Infrastructure",
           "MLOps & AI Infra",
           "(?)",
           "(?)"
          ],
          [
           "Infrastructure",
           "MPP DBs",
           "(?)",
           "(?)"
          ],
          [
           "Machine Learning & Artificial Intelligence",
           "NLP",
           "Amazon Comprehend",
           "Amazon Web Services (AWS) is a business unit within Amazon.com that provides an infrastructure platform for businesses in the form of cloud computing.\n"
          ],
          [
           "Infrastructure",
           "NewSQL Databases",
           "(?)",
           "(?)"
          ],
          [
           "Infrastructure",
           "NoSQL Databases",
           "(?)",
           "(?)"
          ],
          [
           "Open Source Infrastructure",
           "OLAP",
           "(?)",
           "(?)"
          ],
          [
           "Open Source Infrastructure",
           "Open Source - Orchestration",
           "(?)",
           "(?)"
          ],
          [
           "Open Source Infrastructure",
           "Open Source Infra - Search",
           "(?)",
           "(?)"
          ],
          [
           "Open Source Infrastructure",
           "Open Source Infra - Visualizations",
           "(?)",
           "(?)"
          ],
          [
           "Data Sources & APIs",
           "People/Entities",
           "Epsilon",
           "Epsilon provides marketing solutions that integrate data, creativity, and technologies for advertisers. The company was founded in 1969 and is based in Lafayette, Colorado."
          ],
          [
           "Infrastructure",
           "Privacy & Security",
           "OneTrust",
           "OneTrust operates as a software platform for privacy professionals. The platform operationalizes data privacy compliance and Privacy by Design. The web-based console helps automate privacy impact assessments and data mapping, identify privacy risks, and enforce risk management and control activities in an integrated and agile approach. The result is the ability to demonstrate accountability and compliance with EU's data protection requirements globally across privacy jurisdictions and frameworks. The company serves customers across a range of industries. The company was founded in 2016 and is based in Atlanta, Georgia."
          ],
          [
           "Analytics",
           "Product Analytics",
           "(?)",
           "(?)"
          ],
          [
           "Analytics",
           "Query Engine",
           "(?)",
           "(?)"
          ],
          [
           "Open Source Infrastructure",
           "Query/Dataflow",
           "(?)",
           "(?)"
          ],
          [
           "Infrastructure",
           "RDBMs",
           "(?)",
           "(?)"
          ],
          [
           "Infrastructure",
           "Real Time Databases",
           "(?)",
           "(?)"
          ],
          [
           "Infrastructure",
           "Reverse ETL",
           "Census",
           "Census is a data automation platform that syncs data warehouses with relevant apps.\n"
          ],
          [
           "Machine Learning & Artificial Intelligence",
           "Speech",
           "(?)",
           "(?)"
          ],
          [
           "Open Source Infrastructure",
           "Stat Tools & Languages",
           "(?)",
           "(?)"
          ],
          [
           "Infrastructure",
           "Storage",
           "(?)",
           "(?)"
          ],
          [
           "Open Source Infrastructure",
           "Streaming & Messaging",
           "(?)",
           "(?)"
          ],
          [
           "Infrastructure",
           "Streaming/In-Memory",
           "(?)",
           "(?)"
          ],
          [
           "Analytics",
           "(?)",
           "(?)",
           "(?)"
          ],
          [
           "Data Sources & APIs",
           "(?)",
           "(?)",
           "(?)"
          ],
          [
           "Infrastructure",
           "(?)",
           "(?)",
           "(?)"
          ],
          [
           "Machine Learning & Artificial Intelligence",
           "(?)",
           "(?)",
           "(?)"
          ],
          [
           "Open Source Infrastructure",
           "(?)",
           "(?)",
           "(?)"
          ]
         ],
         "domain": {
          "x": [
           0,
           1
          ],
          "y": [
           0,
           1
          ]
         },
         "hovertemplate": "labels=%{label}<br>total=%{value}<br>parent=%{parent}<br>id=%{id}<extra></extra>",
         "ids": [
          "Open Source Infrastructure/Databases/Cassandra",
          "Open Source Infrastructure/Open Source - Orchestration/Argo",
          "Infrastructure/MGMT/Monitoring/Dynatrace",
          "Open Source Infrastructure/Databases/CouchDB",
          "Open Source Infrastructure/OLAP/Druid",
          "Open Source Infrastructure/Streaming & Messaging/Nifi",
          "Infrastructure/Data Integration/Denodo",
          "Machine Learning & Artificial Intelligence/Enterprise ML Platforms/Azure Machine Learning",
          "Open Source Infrastructure/Format/Delta Lake",
          "Analytics/Log Analytics/Observe",
          "Analytics/Product Analytics/Mixpanel",
          "Infrastructure/Storage/Minio",
          "Analytics/Product Analytics/Google Analytics",
          "Machine Learning & Artificial Intelligence/Enterprise ML Platforms/Dataiku",
          "Infrastructure/Streaming/In-Memory/Databricks",
          "Open Source Infrastructure/Frameworks/Kubernetes",
          "Machine Learning & Artificial Intelligence/GPU Cloud/Lambda",
          "Analytics/Customer Data Platforms/Tealium",
          "Infrastructure/ETL/ELT/Data Transformation/Talend",
          "Machine Learning & Artificial Intelligence/Horizontal AI/AGI/CSM",
          "Infrastructure/RDBMs/IBM DB2",
          "Analytics/Analytics - Visualization/Tableau",
          "Infrastructure/MGMT/Monitoring/Veeam",
          "Open Source Infrastructure/Frameworks/Yarn",
          "Machine Learning & Artificial Intelligence/NLP/Amazon Comprehend",
          "Open Source Infrastructure/Logging & Monitoring/Vector",
          "Infrastructure/ETL/ELT/Data Transformation/Airbyte",
          "Infrastructure/Data Lakes/Lakehouses/Google Cloud Dataproc",
          "Open Source Infrastructure/Frameworks/Ray",
          "Open Source Infrastructure/Logging & Monitoring/Prometheus",
          "Open Source Infrastructure/Stat Tools & Languages/R",
          "Analytics/BI Platforms/Amazon QuickSight",
          "Open Source Infrastructure/Databases/HBase",
          "Open Source Infrastructure/Stat Tools & Languages/Pandas",
          "Open Source Infrastructure/AI Frameworks & Libraries/PyTorch",
          "Infrastructure/Data Integration/Snowplow",
          "Machine Learning & Artificial Intelligence/Speech/Alexa",
          "Open Source Infrastructure/MLOps & AI Infra/DVC",
          "Open Source Infrastructure/Open Source Infra - Visualizations/Superset",
          "Infrastructure/Data Warehouses/RedShift",
          "Infrastructure/Data Lakes/Lakehouses/Amazon EMR",
          "Machine Learning & Artificial Intelligence/AI Hardware/Nvidia",
          "Open Source Infrastructure/AI Frameworks & Libraries/Keras",
          "Infrastructure/NoSQL Databases/ScyllaDB",
          "Open Source Infrastructure/Query/Dataflow/GraphQL",
          "Infrastructure/Data Integration/Informatica",
          "Machine Learning & Artificial Intelligence/Data Science Notebooks/Google Colab",
          "Infrastructure/Data Integration/SnapLogic",
          "Open Source Infrastructure/MLOps & AI Infra/Langchain",
          "Data Sources & APIs/Location Intelligence/mapbox",
          "Analytics/Analytics - Visualization/Grid",
          "Open Source Infrastructure/Frameworks/Hadoop HDFS",
          "Open Source Infrastructure/Open Source - Orchestration/Luigi",
          "Data Sources & APIs/Data Marketplaces & Discovery/Snowflake Data Exchange",
          "Machine Learning & Artificial Intelligence/Horizontal AI/AGI/IBM Watson",
          "Infrastructure/Graph DBs/neo4j",
          "Infrastructure/Streaming/In-Memory/SAP HANA",
          "Open Source Infrastructure/Streaming & Messaging/RabbitMQ",
          "Open Source Infrastructure/Query/Dataflow/Presto",
          "Open Source Infrastructure/Databases/PostgreSQL",
          "Infrastructure/ETL/ELT/Data Transformation/Portable",
          "Analytics/Analytics - Visualization/Plotly",
          "Open Source Infrastructure/Format/Parquet",
          "Open Source Infrastructure/Format/Orc",
          "Infrastructure/RDBMs/Oracle",
          "Open Source Infrastructure/AI Frameworks & Libraries/OpenCV",
          "Infrastructure/ETL/ELT/Data Transformation/Rivery",
          "Infrastructure/MGMT/Monitoring/Rubrik",
          "Open Source Infrastructure/Stat Tools & Languages/NumPy",
          "Infrastructure/MGMT/Monitoring/New Relic",
          "Open Source Infrastructure/Databases/MySQL",
          "Open Source Infrastructure/AI Frameworks & Libraries/Mxnet",
          "Infrastructure/Data Integration/MuleSoft",
          "Infrastructure/NoSQL Databases/MongoDB",
          "Machine Learning & Artificial Intelligence/Enterprise ML Platforms/Modular",
          "Infrastructure/RDBMs/Microsoft SQL Server",
          "Infrastructure/Infrastructure - Orchestration/Microsoft Azure Data Factory",
          "Infrastructure/RDBMs/Microsoft Access",
          "Analytics/BI Platforms/Metabase",
          "Infrastructure/ETL/ELT/Data Transformation/Meltano",
          "Open Source Infrastructure/Open Source Infra - Visualizations/Matplotlib",
          "Infrastructure/Data Integration/SAP Data Services",
          "Machine Learning & Artificial Intelligence/MLOps/SageMaker",
          "Infrastructure/Data Quality & Observability/Soda",
          "Infrastructure/Data Warehouses/Google BigQuery",
          "Open Source Infrastructure/Stat Tools & Languages/Python",
          "Open Source Infrastructure/AI Frameworks & Libraries/TensorFlow",
          "Infrastructure/Data Governance & Catalog/Collibra",
          "Infrastructure/MGMT/Monitoring/Solarwinds",
          "Infrastructure/MPP DBs/Teradata",
          "Machine Learning & Artificial Intelligence/Data Science Platforms/Tibco",
          "Infrastructure/Data Governance & Catalog/Castor",
          "Open Source Infrastructure/Query/Dataflow/Beam",
          "Analytics/Analytics - Visualization/Toucan Toco",
          "Analytics/Data Analyst Platforms/Trace",
          "Infrastructure/Data Lakes/Lakehouses/Azure HD Insight",
          "Infrastructure/NewSQL Databases/Aurora",
          "Analytics/BI Platforms/Atscale",
          "Analytics/Query Engine/Athena",
          "Analytics/Product Analytics/Contentsquare",
          "Infrastructure/Data Governance & Catalog/Ataccama",
          "Infrastructure/Graph DBs/ArangoDB",
          "Infrastructure/Database Abstraction/Apollo",
          "Open Source Infrastructure/Query/Dataflow/Apache Pig",
          "Open Source Infrastructure/OLAP/Apache Kylin",
          "Open Source Infrastructure/Format/Apache Arrow",
          "Infrastructure/Graph DBs/Amazon Neptune",
          "Infrastructure/Streaming/In-Memory/Amazon Kinesis",
          "Infrastructure/Compute/Amazon EKS",
          "Infrastructure/MPP DBs/Vertica, An OpenText Company",
          "Open Source Infrastructure/Collaboration/Zeppelin",
          "Machine Learning & Artificial Intelligence/Horizontal AI/AGI/Adept",
          "Infrastructure/ETL/ELT/Data Transformation/dbt Labs",
          "Open Source Infrastructure/Streaming & Messaging/fpower",
          "Infrastructure/MGMT/Monitoring/VMWare Aria",
          "Analytics/Data Analyst Platforms/Cube",
          "Analytics/BI Platforms/Qlik",
          "Open Source Infrastructure/Frameworks/Flink",
          "Open Source Infrastructure/Open Source Infra - Visualizations/D3",
          "Open Source Infrastructure/Open Source Infra - Search/Solr",
          "Open Source Infrastructure/Frameworks/Spark",
          "Analytics/Enterprise Search/Elastic",
          "Open Source Infrastructure/Open Source - Orchestration/Dagster",
          "Open Source Infrastructure/Frameworks/Dask",
          "Open Source Infrastructure/Data Access/DataHub",
          "Open Source Infrastructure/Databases/Flume",
          "Analytics/Log Analytics/Splunk",
          "Infrastructure/Database Abstraction/Supabase",
          "Open Source Infrastructure/Query/Dataflow/Spark SQL",
          "Infrastructure/Data Warehouses/IBM Db2 Warehouse",
          "Analytics/BI Platforms/IBM Cognos Analytics",
          "Infrastructure/Data Governance & Catalog/IBM",
          "Analytics/Product Analytics/Amplitude",
          "Open Source Infrastructure/Open Source Infra - Search/Lucene",
          "Infrastructure/ETL/ELT/Data Transformation/Fivetran",
          "Open Source Infrastructure/Streaming & Messaging/Storm",
          "Analytics/Analytics - Visualization/Power BI",
          "Open Source Infrastructure/Logging & Monitoring/Grafana",
          "Open Source Infrastructure/Infrastructure/Zookeeper",
          "Infrastructure/Storage/Google Cloud Storage",
          "Machine Learning & Artificial Intelligence/MLOps/Valohai",
          "Open Source Infrastructure/Stat Tools & Languages/Scala",
          "Infrastructure/Data Integration/StreamSets",
          "Infrastructure/Compute/Azure",
          "Analytics/Customer Data Platforms/Salesforce CDP",
          "Machine Learning & Artificial Intelligence/Data Generation & Labelling/Scale",
          "Infrastructure/MGMT/Monitoring/Cloudwatch",
          "Analytics/Data Analyst Platforms/Microsoft",
          "Open Source Infrastructure/AI Frameworks & Libraries/Scikit-learn",
          "Infrastructure/Reverse ETL/Census",
          "Open Source Infrastructure/Databases/InfluxDB",
          "Infrastructure/NewSQL Databases/Timescale",
          "Infrastructure/RDBMs/SAP ASE",
          "Analytics/Log Analytics/Sumologic",
          "Analytics/Analytics - Visualization/Streamlit",
          "Open Source Infrastructure/Streaming & Messaging/Kafka",
          "Machine Learning & Artificial Intelligence/Horizontal AI/AGI/Stability.ai",
          "Analytics/BI Platforms/Tibco Spotfire",
          "Infrastructure/Data Warehouses/Snowflake",
          "Infrastructure/Real Time Databases/Redis",
          "Machine Learning & Artificial Intelligence/Horizontal AI/AGI/Replicate",
          "Open Source Infrastructure/Stat Tools & Languages/SciPy",
          "Data Sources & APIs/Location Intelligence/Radar",
          "Open Source Infrastructure/Logging & Monitoring/Sentry",
          "Infrastructure/Data Warehouses/Tabular",
          "Machine Learning & Artificial Intelligence/Data Generation & Labelling/Unity",
          "Machine Learning & Artificial Intelligence/Data Science Platforms/Sas",
          "Infrastructure/Storage/S3",
          "Infrastructure/ETL/ELT/Data Transformation/AWS Glue",
          "Infrastructure/Database Abstraction/Prisma",
          "Analytics/Query Engine/Dremio",
          "Open Source Infrastructure/Frameworks/Docker",
          "Machine Learning & Artificial Intelligence/Horizontal AI/AGI/DeepMind",
          "Open Source Infrastructure/Streaming & Messaging/Debezium",
          "Analytics/Log Analytics/Datadog",
          "Infrastructure/NoSQL Databases/Couchbase",
          "Infrastructure/NoSQL Databases/CosmosDB",
          "Machine Learning & Artificial Intelligence/MLOps/Cortex",
          "Machine Learning & Artificial Intelligence/Enterprise ML Platforms/Continual",
          "Infrastructure/Streaming/In-Memory/Confluent",
          "Infrastructure/Data Lakes/Lakehouses/Cloudera",
          "Infrastructure/Real Time Databases/Clickhouse",
          "Analytics/Data Analyst Platforms/Canvas",
          "Data Sources & APIs/Financial & Market Data/Bloomberg",
          "Infrastructure/Data Warehouses/Azure Synapse Analytics",
          "Infrastructure/Storage/Azure Storage",
          "Infrastructure/ETL/ELT/Data Transformation/Azure Data Factory",
          "Machine Learning & Artificial Intelligence/AI Hardware/Arm",
          "Infrastructure/RDBMs/Amazon RDS",
          "Infrastructure/Compute/Amazon ECS",
          "Analytics/Data Analyst Platforms/Alteryx",
          "Analytics/Data Analyst Platforms/Airtable",
          "Open Source Infrastructure/Open Source - Orchestration/Airflow",
          "Infrastructure/NoSQL Databases/Aerospike",
          "Infrastructure/Fully Managed/Adverity",
          "Infrastructure/Infrastructure - Orchestration/AWS Step Functions",
          "Infrastructure/Compute/AWS Lambda",
          "Infrastructure/NoSQL Databases/DynamoDB",
          "Machine Learning & Artificial Intelligence/Speech/Eleven Labs",
          "Data Sources & APIs/People/Entities/Epsilon",
          "Infrastructure/MPP DBs/Exasol",
          "Infrastructure/Infrastructure - Orchestration/Prefect",
          "Infrastructure/Data Quality & Observability/Precisely",
          "Open Source Infrastructure/Logging & Monitoring/OpenTelemetry",
          "Machine Learning & Artificial Intelligence/Horizontal AI/AGI/OpenAI",
          "Infrastructure/Privacy & Security/OneTrust",
          "Analytics/Analytics - Visualization/Observable",
          "Open Source Infrastructure/AI Frameworks & Libraries/ONNX",
          "Analytics/BI Platforms/Microstrategy",
          "Analytics/Crypto & Web 3 Analytics/Merlin",
          "Infrastructure/ETL/ELT/Data Transformation/Matillion",
          "Open Source Infrastructure/Data Ops/Marquez",
          "Open Source Infrastructure/Databases/MariaDB",
          "Open Source Infrastructure/AI Frameworks & Libraries/MLLib",
          "Open Source Infrastructure/Streaming & Messaging/Pulsar",
          "Open Source Infrastructure/MLOps & AI Infra/MLFlow",
          "Open Source Infrastructure/Logging & Monitoring/Logstash",
          "Open Source Infrastructure/MLOps & AI Infra/KubeFlow",
          "Analytics/Log Analytics/Kibana",
          "Open Source Infrastructure/Collaboration/Jupyter",
          "Machine Learning & Artificial Intelligence/MLOps/Iterative",
          "Open Source Infrastructure/Format/Iceberg",
          "Open Source Infrastructure/Query/Dataflow/Hive",
          "Infrastructure/ETL/ELT/Data Transformation/Hevo Data",
          "Infrastructure/Data Quality & Observability/Great Expectations",
          "Infrastructure/Streaming/In-Memory/Google Cloud Dataflow",
          "Infrastructure/ETL/ELT/Data Transformation/Google Cloud Data Fusion",
          "Machine Learning & Artificial Intelligence/MLOps/Giskard",
          "Open Source Infrastructure/Open Source - Orchestration/Flyte",
          "Analytics/Analytics - Visualization/Looker Studio",
          "Analytics/BI Platforms/Looker",
          "Open Source Infrastructure/AI Frameworks & Libraries",
          "Machine Learning & Artificial Intelligence/AI Hardware",
          "Analytics/Analytics - Visualization",
          "Analytics/BI Platforms",
          "Open Source Infrastructure/Collaboration",
          "Infrastructure/Compute",
          "Analytics/Crypto & Web 3 Analytics",
          "Analytics/Customer Data Platforms",
          "Open Source Infrastructure/Data Access",
          "Analytics/Data Analyst Platforms",
          "Machine Learning & Artificial Intelligence/Data Generation & Labelling",
          "Infrastructure/Data Governance & Catalog",
          "Infrastructure/Data Integration",
          "Infrastructure/Data Lakes/Lakehouses",
          "Data Sources & APIs/Data Marketplaces & Discovery",
          "Open Source Infrastructure/Data Ops",
          "Infrastructure/Data Quality & Observability",
          "Machine Learning & Artificial Intelligence/Data Science Notebooks",
          "Machine Learning & Artificial Intelligence/Data Science Platforms",
          "Infrastructure/Data Warehouses",
          "Infrastructure/Database Abstraction",
          "Open Source Infrastructure/Databases",
          "Infrastructure/ETL/ELT/Data Transformation",
          "Machine Learning & Artificial Intelligence/Enterprise ML Platforms",
          "Analytics/Enterprise Search",
          "Data Sources & APIs/Financial & Market Data",
          "Open Source Infrastructure/Format",
          "Open Source Infrastructure/Frameworks",
          "Infrastructure/Fully Managed",
          "Machine Learning & Artificial Intelligence/GPU Cloud",
          "Infrastructure/Graph DBs",
          "Machine Learning & Artificial Intelligence/Horizontal AI/AGI",
          "Open Source Infrastructure/Infrastructure",
          "Infrastructure/Infrastructure - Orchestration",
          "Data Sources & APIs/Location Intelligence",
          "Analytics/Log Analytics",
          "Open Source Infrastructure/Logging & Monitoring",
          "Infrastructure/MGMT/Monitoring",
          "Machine Learning & Artificial Intelligence/MLOps",
          "Open Source Infrastructure/MLOps & AI Infra",
          "Infrastructure/MPP DBs",
          "Machine Learning & Artificial Intelligence/NLP",
          "Infrastructure/NewSQL Databases",
          "Infrastructure/NoSQL Databases",
          "Open Source Infrastructure/OLAP",
          "Open Source Infrastructure/Open Source - Orchestration",
          "Open Source Infrastructure/Open Source Infra - Search",
          "Open Source Infrastructure/Open Source Infra - Visualizations",
          "Data Sources & APIs/People/Entities",
          "Infrastructure/Privacy & Security",
          "Analytics/Product Analytics",
          "Analytics/Query Engine",
          "Open Source Infrastructure/Query/Dataflow",
          "Infrastructure/RDBMs",
          "Infrastructure/Real Time Databases",
          "Infrastructure/Reverse ETL",
          "Machine Learning & Artificial Intelligence/Speech",
          "Open Source Infrastructure/Stat Tools & Languages",
          "Infrastructure/Storage",
          "Open Source Infrastructure/Streaming & Messaging",
          "Infrastructure/Streaming/In-Memory",
          "Analytics",
          "Data Sources & APIs",
          "Infrastructure",
          "Machine Learning & Artificial Intelligence",
          "Open Source Infrastructure"
         ],
         "labels": [
          "Cassandra",
          "Argo",
          "Dynatrace",
          "CouchDB",
          "Druid",
          "Nifi",
          "Denodo",
          "Azure Machine Learning",
          "Delta Lake",
          "Observe",
          "Mixpanel",
          "Minio",
          "Google Analytics",
          "Dataiku",
          "Databricks",
          "Kubernetes",
          "Lambda",
          "Tealium",
          "Talend",
          "CSM",
          "IBM DB2",
          "Tableau",
          "Veeam",
          "Yarn",
          "Amazon Comprehend",
          "Vector",
          "Airbyte",
          "Google Cloud Dataproc",
          "Ray",
          "Prometheus",
          "R",
          "Amazon QuickSight",
          "HBase",
          "Pandas",
          "PyTorch",
          "Snowplow",
          "Alexa",
          "DVC",
          "Superset",
          "RedShift",
          "Amazon EMR",
          "Nvidia",
          "Keras",
          "ScyllaDB",
          "GraphQL",
          "Informatica",
          "Google Colab",
          "SnapLogic",
          "Langchain",
          "mapbox",
          "Grid",
          "Hadoop HDFS",
          "Luigi",
          "Snowflake Data Exchange",
          "IBM Watson",
          "neo4j",
          "SAP HANA",
          "RabbitMQ",
          "Presto",
          "PostgreSQL",
          "Portable",
          "Plotly",
          "Parquet",
          "Orc",
          "Oracle",
          "OpenCV",
          "Rivery",
          "Rubrik",
          "NumPy",
          "New Relic",
          "MySQL",
          "Mxnet",
          "MuleSoft",
          "MongoDB",
          "Modular",
          "Microsoft SQL Server",
          "Microsoft Azure Data Factory",
          "Microsoft Access",
          "Metabase",
          "Meltano",
          "Matplotlib",
          "SAP Data Services",
          "SageMaker",
          "Soda",
          "Google BigQuery",
          "Python",
          "TensorFlow",
          "Collibra",
          "Solarwinds",
          "Teradata",
          "Tibco",
          "Castor",
          "Beam",
          "Toucan Toco",
          "Trace",
          "Azure HD Insight",
          "Aurora",
          "Atscale",
          "Athena",
          "Contentsquare",
          "Ataccama",
          "ArangoDB",
          "Apollo",
          "Apache Pig",
          "Apache Kylin",
          "Apache Arrow",
          "Amazon Neptune",
          "Amazon Kinesis",
          "Amazon EKS",
          "Vertica, An OpenText Company",
          "Zeppelin",
          "Adept",
          "dbt Labs",
          "fpower",
          "VMWare Aria",
          "Cube",
          "Qlik",
          "Flink",
          "D3",
          "Solr",
          "Spark",
          "Elastic",
          "Dagster",
          "Dask",
          "DataHub",
          "Flume",
          "Splunk",
          "Supabase",
          "Spark SQL",
          "IBM Db2 Warehouse",
          "IBM Cognos Analytics",
          "IBM",
          "Amplitude",
          "Lucene",
          "Fivetran",
          "Storm",
          "Power BI",
          "Grafana",
          "Zookeeper",
          "Google Cloud Storage",
          "Valohai",
          "Scala",
          "StreamSets",
          "Azure",
          "Salesforce CDP",
          "Scale",
          "Cloudwatch",
          "Microsoft",
          "Scikit-learn",
          "Census",
          "InfluxDB",
          "Timescale",
          "SAP ASE",
          "Sumologic",
          "Streamlit",
          "Kafka",
          "Stability.ai",
          "Tibco Spotfire",
          "Snowflake",
          "Redis",
          "Replicate",
          "SciPy",
          "Radar",
          "Sentry",
          "Tabular",
          "Unity",
          "Sas",
          "S3",
          "AWS Glue",
          "Prisma",
          "Dremio",
          "Docker",
          "DeepMind",
          "Debezium",
          "Datadog",
          "Couchbase",
          "CosmosDB",
          "Cortex",
          "Continual",
          "Confluent",
          "Cloudera",
          "Clickhouse",
          "Canvas",
          "Bloomberg",
          "Azure Synapse Analytics",
          "Azure Storage",
          "Azure Data Factory",
          "Arm",
          "Amazon RDS",
          "Amazon ECS",
          "Alteryx",
          "Airtable",
          "Airflow",
          "Aerospike",
          "Adverity",
          "AWS Step Functions",
          "AWS Lambda",
          "DynamoDB",
          "Eleven Labs",
          "Epsilon",
          "Exasol",
          "Prefect",
          "Precisely",
          "OpenTelemetry",
          "OpenAI",
          "OneTrust",
          "Observable",
          "ONNX",
          "Microstrategy",
          "Merlin",
          "Matillion",
          "Marquez",
          "MariaDB",
          "MLLib",
          "Pulsar",
          "MLFlow",
          "Logstash",
          "KubeFlow",
          "Kibana",
          "Jupyter",
          "Iterative",
          "Iceberg",
          "Hive",
          "Hevo Data",
          "Great Expectations",
          "Google Cloud Dataflow",
          "Google Cloud Data Fusion",
          "Giskard",
          "Flyte",
          "Looker Studio",
          "Looker",
          "AI Frameworks & Libraries",
          "AI Hardware",
          "Analytics - Visualization",
          "BI Platforms",
          "Collaboration",
          "Compute",
          "Crypto & Web 3 Analytics",
          "Customer Data Platforms",
          "Data Access",
          "Data Analyst Platforms",
          "Data Generation & Labelling",
          "Data Governance & Catalog",
          "Data Integration",
          "Data Lakes/Lakehouses",
          "Data Marketplaces & Discovery",
          "Data Ops",
          "Data Quality & Observability",
          "Data Science Notebooks",
          "Data Science Platforms",
          "Data Warehouses",
          "Database Abstraction",
          "Databases",
          "ETL/ELT/Data Transformation",
          "Enterprise ML Platforms",
          "Enterprise Search",
          "Financial & Market Data",
          "Format",
          "Frameworks",
          "Fully Managed",
          "GPU Cloud",
          "Graph DBs",
          "Horizontal AI/AGI",
          "Infrastructure",
          "Infrastructure - Orchestration",
          "Location Intelligence",
          "Log Analytics",
          "Logging & Monitoring",
          "MGMT/Monitoring",
          "MLOps",
          "MLOps & AI Infra",
          "MPP DBs",
          "NLP",
          "NewSQL Databases",
          "NoSQL Databases",
          "OLAP",
          "Open Source - Orchestration",
          "Open Source Infra - Search",
          "Open Source Infra - Visualizations",
          "People/Entities",
          "Privacy & Security",
          "Product Analytics",
          "Query Engine",
          "Query/Dataflow",
          "RDBMs",
          "Real Time Databases",
          "Reverse ETL",
          "Speech",
          "Stat Tools & Languages",
          "Storage",
          "Streaming & Messaging",
          "Streaming/In-Memory",
          "Analytics",
          "Data Sources & APIs",
          "Infrastructure",
          "Machine Learning & Artificial Intelligence",
          "Open Source Infrastructure"
         ],
         "marker": {
          "colors": [
           "rgb(102, 197, 204)",
           "rgb(102, 197, 204)",
           "rgb(246, 207, 113)",
           "rgb(102, 197, 204)",
           "rgb(102, 197, 204)",
           "rgb(102, 197, 204)",
           "rgb(246, 207, 113)",
           "rgb(248, 156, 116)",
           "rgb(102, 197, 204)",
           "rgb(220, 176, 242)",
           "rgb(220, 176, 242)",
           "rgb(246, 207, 113)",
           "rgb(220, 176, 242)",
           "rgb(248, 156, 116)",
           "rgb(246, 207, 113)",
           "rgb(102, 197, 204)",
           "rgb(248, 156, 116)",
           "rgb(220, 176, 242)",
           "rgb(246, 207, 113)",
           "rgb(248, 156, 116)",
           "rgb(246, 207, 113)",
           "rgb(220, 176, 242)",
           "rgb(246, 207, 113)",
           "rgb(102, 197, 204)",
           "rgb(248, 156, 116)",
           "rgb(102, 197, 204)",
           "rgb(246, 207, 113)",
           "rgb(246, 207, 113)",
           "rgb(102, 197, 204)",
           "rgb(102, 197, 204)",
           "rgb(102, 197, 204)",
           "rgb(220, 176, 242)",
           "rgb(102, 197, 204)",
           "rgb(102, 197, 204)",
           "rgb(102, 197, 204)",
           "rgb(246, 207, 113)",
           "rgb(248, 156, 116)",
           "rgb(102, 197, 204)",
           "rgb(102, 197, 204)",
           "rgb(246, 207, 113)",
           "rgb(246, 207, 113)",
           "rgb(248, 156, 116)",
           "rgb(102, 197, 204)",
           "rgb(246, 207, 113)",
           "rgb(102, 197, 204)",
           "rgb(246, 207, 113)",
           "rgb(248, 156, 116)",
           "rgb(246, 207, 113)",
           "rgb(102, 197, 204)",
           "rgb(135, 197, 95)",
           "rgb(220, 176, 242)",
           "rgb(102, 197, 204)",
           "rgb(102, 197, 204)",
           "rgb(135, 197, 95)",
           "rgb(248, 156, 116)",
           "rgb(246, 207, 113)",
           "rgb(246, 207, 113)",
           "rgb(102, 197, 204)",
           "rgb(102, 197, 204)",
           "rgb(102, 197, 204)",
           "rgb(246, 207, 113)",
           "rgb(220, 176, 242)",
           "rgb(102, 197, 204)",
           "rgb(102, 197, 204)",
           "rgb(246, 207, 113)",
           "rgb(102, 197, 204)",
           "rgb(246, 207, 113)",
           "rgb(246, 207, 113)",
           "rgb(102, 197, 204)",
           "rgb(246, 207, 113)",
           "rgb(102, 197, 204)",
           "rgb(102, 197, 204)",
           "rgb(246, 207, 113)",
           "rgb(246, 207, 113)",
           "rgb(248, 156, 116)",
           "rgb(246, 207, 113)",
           "rgb(246, 207, 113)",
           "rgb(246, 207, 113)",
           "rgb(220, 176, 242)",
           "rgb(246, 207, 113)",
           "rgb(102, 197, 204)",
           "rgb(246, 207, 113)",
           "rgb(248, 156, 116)",
           "rgb(246, 207, 113)",
           "rgb(246, 207, 113)",
           "rgb(102, 197, 204)",
           "rgb(102, 197, 204)",
           "rgb(246, 207, 113)",
           "rgb(246, 207, 113)",
           "rgb(246, 207, 113)",
           "rgb(248, 156, 116)",
           "rgb(246, 207, 113)",
           "rgb(102, 197, 204)",
           "rgb(220, 176, 242)",
           "rgb(220, 176, 242)",
           "rgb(246, 207, 113)",
           "rgb(246, 207, 113)",
           "rgb(220, 176, 242)",
           "rgb(220, 176, 242)",
           "rgb(220, 176, 242)",
           "rgb(246, 207, 113)",
           "rgb(246, 207, 113)",
           "rgb(246, 207, 113)",
           "rgb(102, 197, 204)",
           "rgb(102, 197, 204)",
           "rgb(102, 197, 204)",
           "rgb(246, 207, 113)",
           "rgb(246, 207, 113)",
           "rgb(246, 207, 113)",
           "rgb(246, 207, 113)",
           "rgb(102, 197, 204)",
           "rgb(248, 156, 116)",
           "rgb(246, 207, 113)",
           "rgb(102, 197, 204)",
           "rgb(246, 207, 113)",
           "rgb(220, 176, 242)",
           "rgb(220, 176, 242)",
           "rgb(102, 197, 204)",
           "rgb(102, 197, 204)",
           "rgb(102, 197, 204)",
           "rgb(102, 197, 204)",
           "rgb(220, 176, 242)",
           "rgb(102, 197, 204)",
           "rgb(102, 197, 204)",
           "rgb(102, 197, 204)",
           "rgb(102, 197, 204)",
           "rgb(220, 176, 242)",
           "rgb(246, 207, 113)",
           "rgb(102, 197, 204)",
           "rgb(246, 207, 113)",
           "rgb(220, 176, 242)",
           "rgb(246, 207, 113)",
           "rgb(220, 176, 242)",
           "rgb(102, 197, 204)",
           "rgb(246, 207, 113)",
           "rgb(102, 197, 204)",
           "rgb(220, 176, 242)",
           "rgb(102, 197, 204)",
           "rgb(102, 197, 204)",
           "rgb(246, 207, 113)",
           "rgb(248, 156, 116)",
           "rgb(102, 197, 204)",
           "rgb(246, 207, 113)",
           "rgb(246, 207, 113)",
           "rgb(220, 176, 242)",
           "rgb(248, 156, 116)",
           "rgb(246, 207, 113)",
           "rgb(220, 176, 242)",
           "rgb(102, 197, 204)",
           "rgb(246, 207, 113)",
           "rgb(102, 197, 204)",
           "rgb(246, 207, 113)",
           "rgb(246, 207, 113)",
           "rgb(220, 176, 242)",
           "rgb(220, 176, 242)",
           "rgb(102, 197, 204)",
           "rgb(248, 156, 116)",
           "rgb(220, 176, 242)",
           "rgb(246, 207, 113)",
           "rgb(246, 207, 113)",
           "rgb(248, 156, 116)",
           "rgb(102, 197, 204)",
           "rgb(135, 197, 95)",
           "rgb(102, 197, 204)",
           "rgb(246, 207, 113)",
           "rgb(248, 156, 116)",
           "rgb(248, 156, 116)",
           "rgb(246, 207, 113)",
           "rgb(246, 207, 113)",
           "rgb(246, 207, 113)",
           "rgb(220, 176, 242)",
           "rgb(102, 197, 204)",
           "rgb(248, 156, 116)",
           "rgb(102, 197, 204)",
           "rgb(220, 176, 242)",
           "rgb(246, 207, 113)",
           "rgb(246, 207, 113)",
           "rgb(248, 156, 116)",
           "rgb(248, 156, 116)",
           "rgb(246, 207, 113)",
           "rgb(246, 207, 113)",
           "rgb(246, 207, 113)",
           "rgb(220, 176, 242)",
           "rgb(135, 197, 95)",
           "rgb(246, 207, 113)",
           "rgb(246, 207, 113)",
           "rgb(246, 207, 113)",
           "rgb(248, 156, 116)",
           "rgb(246, 207, 113)",
           "rgb(246, 207, 113)",
           "rgb(220, 176, 242)",
           "rgb(220, 176, 242)",
           "rgb(102, 197, 204)",
           "rgb(246, 207, 113)",
           "rgb(246, 207, 113)",
           "rgb(246, 207, 113)",
           "rgb(246, 207, 113)",
           "rgb(246, 207, 113)",
           "rgb(248, 156, 116)",
           "rgb(135, 197, 95)",
           "rgb(246, 207, 113)",
           "rgb(246, 207, 113)",
           "rgb(246, 207, 113)",
           "rgb(102, 197, 204)",
           "rgb(248, 156, 116)",
           "rgb(246, 207, 113)",
           "rgb(220, 176, 242)",
           "rgb(102, 197, 204)",
           "rgb(220, 176, 242)",
           "rgb(220, 176, 242)",
           "rgb(246, 207, 113)",
           "rgb(102, 197, 204)",
           "rgb(102, 197, 204)",
           "rgb(102, 197, 204)",
           "rgb(102, 197, 204)",
           "rgb(102, 197, 204)",
           "rgb(102, 197, 204)",
           "rgb(102, 197, 204)",
           "rgb(220, 176, 242)",
           "rgb(102, 197, 204)",
           "rgb(248, 156, 116)",
           "rgb(102, 197, 204)",
           "rgb(102, 197, 204)",
           "rgb(246, 207, 113)",
           "rgb(246, 207, 113)",
           "rgb(246, 207, 113)",
           "rgb(246, 207, 113)",
           "rgb(248, 156, 116)",
           "rgb(102, 197, 204)",
           "rgb(220, 176, 242)",
           "rgb(220, 176, 242)",
           "rgb(102, 197, 204)",
           "rgb(248, 156, 116)",
           "rgb(220, 176, 242)",
           "rgb(220, 176, 242)",
           "rgb(102, 197, 204)",
           "rgb(246, 207, 113)",
           "rgb(220, 176, 242)",
           "rgb(220, 176, 242)",
           "rgb(102, 197, 204)",
           "rgb(220, 176, 242)",
           "rgb(248, 156, 116)",
           "rgb(246, 207, 113)",
           "rgb(246, 207, 113)",
           "rgb(246, 207, 113)",
           "rgb(135, 197, 95)",
           "rgb(102, 197, 204)",
           "rgb(246, 207, 113)",
           "rgb(248, 156, 116)",
           "rgb(248, 156, 116)",
           "rgb(246, 207, 113)",
           "rgb(246, 207, 113)",
           "rgb(102, 197, 204)",
           "rgb(246, 207, 113)",
           "rgb(248, 156, 116)",
           "rgb(220, 176, 242)",
           "rgb(135, 197, 95)",
           "rgb(102, 197, 204)",
           "rgb(102, 197, 204)",
           "rgb(246, 207, 113)",
           "rgb(248, 156, 116)",
           "rgb(246, 207, 113)",
           "rgb(248, 156, 116)",
           "rgb(102, 197, 204)",
           "rgb(246, 207, 113)",
           "rgb(135, 197, 95)",
           "rgb(220, 176, 242)",
           "rgb(102, 197, 204)",
           "rgb(246, 207, 113)",
           "rgb(248, 156, 116)",
           "rgb(102, 197, 204)",
           "rgb(246, 207, 113)",
           "rgb(248, 156, 116)",
           "rgb(246, 207, 113)",
           "rgb(246, 207, 113)",
           "rgb(102, 197, 204)",
           "rgb(102, 197, 204)",
           "rgb(102, 197, 204)",
           "rgb(102, 197, 204)",
           "rgb(135, 197, 95)",
           "rgb(246, 207, 113)",
           "rgb(220, 176, 242)",
           "rgb(220, 176, 242)",
           "rgb(102, 197, 204)",
           "rgb(246, 207, 113)",
           "rgb(246, 207, 113)",
           "rgb(246, 207, 113)",
           "rgb(248, 156, 116)",
           "rgb(102, 197, 204)",
           "rgb(246, 207, 113)",
           "rgb(102, 197, 204)",
           "rgb(246, 207, 113)",
           "rgb(220, 176, 242)",
           "rgb(135, 197, 95)",
           "rgb(246, 207, 113)",
           "rgb(248, 156, 116)",
           "rgb(102, 197, 204)"
          ]
         },
         "name": "",
         "parents": [
          "Open Source Infrastructure/Databases",
          "Open Source Infrastructure/Open Source - Orchestration",
          "Infrastructure/MGMT/Monitoring",
          "Open Source Infrastructure/Databases",
          "Open Source Infrastructure/OLAP",
          "Open Source Infrastructure/Streaming & Messaging",
          "Infrastructure/Data Integration",
          "Machine Learning & Artificial Intelligence/Enterprise ML Platforms",
          "Open Source Infrastructure/Format",
          "Analytics/Log Analytics",
          "Analytics/Product Analytics",
          "Infrastructure/Storage",
          "Analytics/Product Analytics",
          "Machine Learning & Artificial Intelligence/Enterprise ML Platforms",
          "Infrastructure/Streaming/In-Memory",
          "Open Source Infrastructure/Frameworks",
          "Machine Learning & Artificial Intelligence/GPU Cloud",
          "Analytics/Customer Data Platforms",
          "Infrastructure/ETL/ELT/Data Transformation",
          "Machine Learning & Artificial Intelligence/Horizontal AI/AGI",
          "Infrastructure/RDBMs",
          "Analytics/Analytics - Visualization",
          "Infrastructure/MGMT/Monitoring",
          "Open Source Infrastructure/Frameworks",
          "Machine Learning & Artificial Intelligence/NLP",
          "Open Source Infrastructure/Logging & Monitoring",
          "Infrastructure/ETL/ELT/Data Transformation",
          "Infrastructure/Data Lakes/Lakehouses",
          "Open Source Infrastructure/Frameworks",
          "Open Source Infrastructure/Logging & Monitoring",
          "Open Source Infrastructure/Stat Tools & Languages",
          "Analytics/BI Platforms",
          "Open Source Infrastructure/Databases",
          "Open Source Infrastructure/Stat Tools & Languages",
          "Open Source Infrastructure/AI Frameworks & Libraries",
          "Infrastructure/Data Integration",
          "Machine Learning & Artificial Intelligence/Speech",
          "Open Source Infrastructure/MLOps & AI Infra",
          "Open Source Infrastructure/Open Source Infra - Visualizations",
          "Infrastructure/Data Warehouses",
          "Infrastructure/Data Lakes/Lakehouses",
          "Machine Learning & Artificial Intelligence/AI Hardware",
          "Open Source Infrastructure/AI Frameworks & Libraries",
          "Infrastructure/NoSQL Databases",
          "Open Source Infrastructure/Query/Dataflow",
          "Infrastructure/Data Integration",
          "Machine Learning & Artificial Intelligence/Data Science Notebooks",
          "Infrastructure/Data Integration",
          "Open Source Infrastructure/MLOps & AI Infra",
          "Data Sources & APIs/Location Intelligence",
          "Analytics/Analytics - Visualization",
          "Open Source Infrastructure/Frameworks",
          "Open Source Infrastructure/Open Source - Orchestration",
          "Data Sources & APIs/Data Marketplaces & Discovery",
          "Machine Learning & Artificial Intelligence/Horizontal AI/AGI",
          "Infrastructure/Graph DBs",
          "Infrastructure/Streaming/In-Memory",
          "Open Source Infrastructure/Streaming & Messaging",
          "Open Source Infrastructure/Query/Dataflow",
          "Open Source Infrastructure/Databases",
          "Infrastructure/ETL/ELT/Data Transformation",
          "Analytics/Analytics - Visualization",
          "Open Source Infrastructure/Format",
          "Open Source Infrastructure/Format",
          "Infrastructure/RDBMs",
          "Open Source Infrastructure/AI Frameworks & Libraries",
          "Infrastructure/ETL/ELT/Data Transformation",
          "Infrastructure/MGMT/Monitoring",
          "Open Source Infrastructure/Stat Tools & Languages",
          "Infrastructure/MGMT/Monitoring",
          "Open Source Infrastructure/Databases",
          "Open Source Infrastructure/AI Frameworks & Libraries",
          "Infrastructure/Data Integration",
          "Infrastructure/NoSQL Databases",
          "Machine Learning & Artificial Intelligence/Enterprise ML Platforms",
          "Infrastructure/RDBMs",
          "Infrastructure/Infrastructure - Orchestration",
          "Infrastructure/RDBMs",
          "Analytics/BI Platforms",
          "Infrastructure/ETL/ELT/Data Transformation",
          "Open Source Infrastructure/Open Source Infra - Visualizations",
          "Infrastructure/Data Integration",
          "Machine Learning & Artificial Intelligence/MLOps",
          "Infrastructure/Data Quality & Observability",
          "Infrastructure/Data Warehouses",
          "Open Source Infrastructure/Stat Tools & Languages",
          "Open Source Infrastructure/AI Frameworks & Libraries",
          "Infrastructure/Data Governance & Catalog",
          "Infrastructure/MGMT/Monitoring",
          "Infrastructure/MPP DBs",
          "Machine Learning & Artificial Intelligence/Data Science Platforms",
          "Infrastructure/Data Governance & Catalog",
          "Open Source Infrastructure/Query/Dataflow",
          "Analytics/Analytics - Visualization",
          "Analytics/Data Analyst Platforms",
          "Infrastructure/Data Lakes/Lakehouses",
          "Infrastructure/NewSQL Databases",
          "Analytics/BI Platforms",
          "Analytics/Query Engine",
          "Analytics/Product Analytics",
          "Infrastructure/Data Governance & Catalog",
          "Infrastructure/Graph DBs",
          "Infrastructure/Database Abstraction",
          "Open Source Infrastructure/Query/Dataflow",
          "Open Source Infrastructure/OLAP",
          "Open Source Infrastructure/Format",
          "Infrastructure/Graph DBs",
          "Infrastructure/Streaming/In-Memory",
          "Infrastructure/Compute",
          "Infrastructure/MPP DBs",
          "Open Source Infrastructure/Collaboration",
          "Machine Learning & Artificial Intelligence/Horizontal AI/AGI",
          "Infrastructure/ETL/ELT/Data Transformation",
          "Open Source Infrastructure/Streaming & Messaging",
          "Infrastructure/MGMT/Monitoring",
          "Analytics/Data Analyst Platforms",
          "Analytics/BI Platforms",
          "Open Source Infrastructure/Frameworks",
          "Open Source Infrastructure/Open Source Infra - Visualizations",
          "Open Source Infrastructure/Open Source Infra - Search",
          "Open Source Infrastructure/Frameworks",
          "Analytics/Enterprise Search",
          "Open Source Infrastructure/Open Source - Orchestration",
          "Open Source Infrastructure/Frameworks",
          "Open Source Infrastructure/Data Access",
          "Open Source Infrastructure/Databases",
          "Analytics/Log Analytics",
          "Infrastructure/Database Abstraction",
          "Open Source Infrastructure/Query/Dataflow",
          "Infrastructure/Data Warehouses",
          "Analytics/BI Platforms",
          "Infrastructure/Data Governance & Catalog",
          "Analytics/Product Analytics",
          "Open Source Infrastructure/Open Source Infra - Search",
          "Infrastructure/ETL/ELT/Data Transformation",
          "Open Source Infrastructure/Streaming & Messaging",
          "Analytics/Analytics - Visualization",
          "Open Source Infrastructure/Logging & Monitoring",
          "Open Source Infrastructure/Infrastructure",
          "Infrastructure/Storage",
          "Machine Learning & Artificial Intelligence/MLOps",
          "Open Source Infrastructure/Stat Tools & Languages",
          "Infrastructure/Data Integration",
          "Infrastructure/Compute",
          "Analytics/Customer Data Platforms",
          "Machine Learning & Artificial Intelligence/Data Generation & Labelling",
          "Infrastructure/MGMT/Monitoring",
          "Analytics/Data Analyst Platforms",
          "Open Source Infrastructure/AI Frameworks & Libraries",
          "Infrastructure/Reverse ETL",
          "Open Source Infrastructure/Databases",
          "Infrastructure/NewSQL Databases",
          "Infrastructure/RDBMs",
          "Analytics/Log Analytics",
          "Analytics/Analytics - Visualization",
          "Open Source Infrastructure/Streaming & Messaging",
          "Machine Learning & Artificial Intelligence/Horizontal AI/AGI",
          "Analytics/BI Platforms",
          "Infrastructure/Data Warehouses",
          "Infrastructure/Real Time Databases",
          "Machine Learning & Artificial Intelligence/Horizontal AI/AGI",
          "Open Source Infrastructure/Stat Tools & Languages",
          "Data Sources & APIs/Location Intelligence",
          "Open Source Infrastructure/Logging & Monitoring",
          "Infrastructure/Data Warehouses",
          "Machine Learning & Artificial Intelligence/Data Generation & Labelling",
          "Machine Learning & Artificial Intelligence/Data Science Platforms",
          "Infrastructure/Storage",
          "Infrastructure/ETL/ELT/Data Transformation",
          "Infrastructure/Database Abstraction",
          "Analytics/Query Engine",
          "Open Source Infrastructure/Frameworks",
          "Machine Learning & Artificial Intelligence/Horizontal AI/AGI",
          "Open Source Infrastructure/Streaming & Messaging",
          "Analytics/Log Analytics",
          "Infrastructure/NoSQL Databases",
          "Infrastructure/NoSQL Databases",
          "Machine Learning & Artificial Intelligence/MLOps",
          "Machine Learning & Artificial Intelligence/Enterprise ML Platforms",
          "Infrastructure/Streaming/In-Memory",
          "Infrastructure/Data Lakes/Lakehouses",
          "Infrastructure/Real Time Databases",
          "Analytics/Data Analyst Platforms",
          "Data Sources & APIs/Financial & Market Data",
          "Infrastructure/Data Warehouses",
          "Infrastructure/Storage",
          "Infrastructure/ETL/ELT/Data Transformation",
          "Machine Learning & Artificial Intelligence/AI Hardware",
          "Infrastructure/RDBMs",
          "Infrastructure/Compute",
          "Analytics/Data Analyst Platforms",
          "Analytics/Data Analyst Platforms",
          "Open Source Infrastructure/Open Source - Orchestration",
          "Infrastructure/NoSQL Databases",
          "Infrastructure/Fully Managed",
          "Infrastructure/Infrastructure - Orchestration",
          "Infrastructure/Compute",
          "Infrastructure/NoSQL Databases",
          "Machine Learning & Artificial Intelligence/Speech",
          "Data Sources & APIs/People/Entities",
          "Infrastructure/MPP DBs",
          "Infrastructure/Infrastructure - Orchestration",
          "Infrastructure/Data Quality & Observability",
          "Open Source Infrastructure/Logging & Monitoring",
          "Machine Learning & Artificial Intelligence/Horizontal AI/AGI",
          "Infrastructure/Privacy & Security",
          "Analytics/Analytics - Visualization",
          "Open Source Infrastructure/AI Frameworks & Libraries",
          "Analytics/BI Platforms",
          "Analytics/Crypto & Web 3 Analytics",
          "Infrastructure/ETL/ELT/Data Transformation",
          "Open Source Infrastructure/Data Ops",
          "Open Source Infrastructure/Databases",
          "Open Source Infrastructure/AI Frameworks & Libraries",
          "Open Source Infrastructure/Streaming & Messaging",
          "Open Source Infrastructure/MLOps & AI Infra",
          "Open Source Infrastructure/Logging & Monitoring",
          "Open Source Infrastructure/MLOps & AI Infra",
          "Analytics/Log Analytics",
          "Open Source Infrastructure/Collaboration",
          "Machine Learning & Artificial Intelligence/MLOps",
          "Open Source Infrastructure/Format",
          "Open Source Infrastructure/Query/Dataflow",
          "Infrastructure/ETL/ELT/Data Transformation",
          "Infrastructure/Data Quality & Observability",
          "Infrastructure/Streaming/In-Memory",
          "Infrastructure/ETL/ELT/Data Transformation",
          "Machine Learning & Artificial Intelligence/MLOps",
          "Open Source Infrastructure/Open Source - Orchestration",
          "Analytics/Analytics - Visualization",
          "Analytics/BI Platforms",
          "Open Source Infrastructure",
          "Machine Learning & Artificial Intelligence",
          "Analytics",
          "Analytics",
          "Open Source Infrastructure",
          "Infrastructure",
          "Analytics",
          "Analytics",
          "Open Source Infrastructure",
          "Analytics",
          "Machine Learning & Artificial Intelligence",
          "Infrastructure",
          "Infrastructure",
          "Infrastructure",
          "Data Sources & APIs",
          "Open Source Infrastructure",
          "Infrastructure",
          "Machine Learning & Artificial Intelligence",
          "Machine Learning & Artificial Intelligence",
          "Infrastructure",
          "Infrastructure",
          "Open Source Infrastructure",
          "Infrastructure",
          "Machine Learning & Artificial Intelligence",
          "Analytics",
          "Data Sources & APIs",
          "Open Source Infrastructure",
          "Open Source Infrastructure",
          "Infrastructure",
          "Machine Learning & Artificial Intelligence",
          "Infrastructure",
          "Machine Learning & Artificial Intelligence",
          "Open Source Infrastructure",
          "Infrastructure",
          "Data Sources & APIs",
          "Analytics",
          "Open Source Infrastructure",
          "Infrastructure",
          "Machine Learning & Artificial Intelligence",
          "Open Source Infrastructure",
          "Infrastructure",
          "Machine Learning & Artificial Intelligence",
          "Infrastructure",
          "Infrastructure",
          "Open Source Infrastructure",
          "Open Source Infrastructure",
          "Open Source Infrastructure",
          "Open Source Infrastructure",
          "Data Sources & APIs",
          "Infrastructure",
          "Analytics",
          "Analytics",
          "Open Source Infrastructure",
          "Infrastructure",
          "Infrastructure",
          "Infrastructure",
          "Machine Learning & Artificial Intelligence",
          "Open Source Infrastructure",
          "Infrastructure",
          "Open Source Infrastructure",
          "Infrastructure",
          "",
          "",
          "",
          "",
          ""
         ],
         "type": "treemap",
         "values": [
          38,
          5,
          2,
          1,
          7,
          21,
          7,
          2,
          9,
          1,
          2,
          2,
          14,
          28,
          115,
          336,
          30,
          2,
          112,
          11,
          1,
          129,
          1,
          10,
          2,
          6,
          12,
          3,
          2,
          9,
          86,
          3,
          21,
          52,
          29,
          1,
          1,
          4,
          3,
          58,
          19,
          8,
          15,
          1,
          24,
          53,
          5,
          3,
          1,
          3,
          12,
          1,
          2,
          121,
          1,
          20,
          2,
          22,
          4,
          123,
          5,
          5,
          14,
          1,
          54,
          4,
          1,
          1,
          29,
          6,
          41,
          2,
          3,
          77,
          7,
          52,
          67,
          1,
          15,
          2,
          4,
          1,
          7,
          1,
          73,
          1088,
          47,
          1,
          3,
          10,
          9,
          1,
          11,
          1,
          1,
          2,
          5,
          2,
          15,
          7,
          1,
          1,
          3,
          13,
          1,
          2,
          1,
          19,
          4,
          3,
          2,
          1,
          2,
          5,
          1,
          3,
          66,
          12,
          5,
          3,
          396,
          105,
          6,
          3,
          14,
          10,
          21,
          2,
          396,
          1,
          1,
          24,
          3,
          1,
          11,
          7,
          192,
          22,
          4,
          3,
          1,
          173,
          3,
          364,
          32,
          1,
          3,
          159,
          5,
          1,
          11,
          2,
          80,
          2,
          5,
          184,
          1,
          3,
          121,
          54,
          1,
          3,
          1,
          5,
          3,
          7,
          52,
          76,
          21,
          1,
          3,
          271,
          1,
          3,
          50,
          8,
          4,
          2,
          80,
          3,
          31,
          7,
          9,
          2,
          7,
          3,
          39,
          6,
          19,
          10,
          10,
          1,
          157,
          1,
          3,
          2,
          3,
          28,
          1,
          19,
          1,
          9,
          4,
          2,
          4,
          5,
          1,
          1,
          14,
          7,
          3,
          6,
          4,
          2,
          3,
          11,
          7,
          12,
          12,
          34,
          5,
          2,
          62,
          1,
          4,
          4,
          1,
          1,
          1,
          1,
          34,
          105,
          14,
          346,
          138,
          36,
          381,
          7,
          34,
          14,
          183,
          8,
          27,
          71,
          55,
          121,
          6,
          9,
          5,
          61,
          263,
          6,
          249,
          210,
          117,
          105,
          2,
          28,
          1031,
          3,
          30,
          22,
          20,
          4,
          78,
          4,
          86,
          51,
          17,
          16,
          28,
          14,
          2,
          7,
          119,
          8,
          171,
          4,
          12,
          19,
          5,
          26,
          18,
          510,
          207,
          61,
          1,
          2,
          1431,
          84,
          245,
          143,
          943,
          146,
          1783,
          275,
          3933
         ]
        }
       ],
       "layout": {
        "autosize": true,
        "legend": {
         "tracegroupgap": 0
        },
        "margin": {
         "t": 60
        },
        "template": {
         "data": {
          "bar": [
           {
            "error_x": {
             "color": "#2a3f5f"
            },
            "error_y": {
             "color": "#2a3f5f"
            },
            "marker": {
             "line": {
              "color": "#E5ECF6",
              "width": 0.5
             },
             "pattern": {
              "fillmode": "overlay",
              "size": 10,
              "solidity": 0.2
             }
            },
            "type": "bar"
           }
          ],
          "barpolar": [
           {
            "marker": {
             "line": {
              "color": "#E5ECF6",
              "width": 0.5
             },
             "pattern": {
              "fillmode": "overlay",
              "size": 10,
              "solidity": 0.2
             }
            },
            "type": "barpolar"
           }
          ],
          "carpet": [
           {
            "aaxis": {
             "endlinecolor": "#2a3f5f",
             "gridcolor": "white",
             "linecolor": "white",
             "minorgridcolor": "white",
             "startlinecolor": "#2a3f5f"
            },
            "baxis": {
             "endlinecolor": "#2a3f5f",
             "gridcolor": "white",
             "linecolor": "white",
             "minorgridcolor": "white",
             "startlinecolor": "#2a3f5f"
            },
            "type": "carpet"
           }
          ],
          "choropleth": [
           {
            "colorbar": {
             "outlinewidth": 0,
             "ticks": ""
            },
            "type": "choropleth"
           }
          ],
          "contour": [
           {
            "colorbar": {
             "outlinewidth": 0,
             "ticks": ""
            },
            "colorscale": [
             [
              0,
              "#0d0887"
             ],
             [
              0.1111111111111111,
              "#46039f"
             ],
             [
              0.2222222222222222,
              "#7201a8"
             ],
             [
              0.3333333333333333,
              "#9c179e"
             ],
             [
              0.4444444444444444,
              "#bd3786"
             ],
             [
              0.5555555555555556,
              "#d8576b"
             ],
             [
              0.6666666666666666,
              "#ed7953"
             ],
             [
              0.7777777777777778,
              "#fb9f3a"
             ],
             [
              0.8888888888888888,
              "#fdca26"
             ],
             [
              1,
              "#f0f921"
             ]
            ],
            "type": "contour"
           }
          ],
          "contourcarpet": [
           {
            "colorbar": {
             "outlinewidth": 0,
             "ticks": ""
            },
            "type": "contourcarpet"
           }
          ],
          "heatmap": [
           {
            "colorbar": {
             "outlinewidth": 0,
             "ticks": ""
            },
            "colorscale": [
             [
              0,
              "#0d0887"
             ],
             [
              0.1111111111111111,
              "#46039f"
             ],
             [
              0.2222222222222222,
              "#7201a8"
             ],
             [
              0.3333333333333333,
              "#9c179e"
             ],
             [
              0.4444444444444444,
              "#bd3786"
             ],
             [
              0.5555555555555556,
              "#d8576b"
             ],
             [
              0.6666666666666666,
              "#ed7953"
             ],
             [
              0.7777777777777778,
              "#fb9f3a"
             ],
             [
              0.8888888888888888,
              "#fdca26"
             ],
             [
              1,
              "#f0f921"
             ]
            ],
            "type": "heatmap"
           }
          ],
          "heatmapgl": [
           {
            "colorbar": {
             "outlinewidth": 0,
             "ticks": ""
            },
            "colorscale": [
             [
              0,
              "#0d0887"
             ],
             [
              0.1111111111111111,
              "#46039f"
             ],
             [
              0.2222222222222222,
              "#7201a8"
             ],
             [
              0.3333333333333333,
              "#9c179e"
             ],
             [
              0.4444444444444444,
              "#bd3786"
             ],
             [
              0.5555555555555556,
              "#d8576b"
             ],
             [
              0.6666666666666666,
              "#ed7953"
             ],
             [
              0.7777777777777778,
              "#fb9f3a"
             ],
             [
              0.8888888888888888,
              "#fdca26"
             ],
             [
              1,
              "#f0f921"
             ]
            ],
            "type": "heatmapgl"
           }
          ],
          "histogram": [
           {
            "marker": {
             "pattern": {
              "fillmode": "overlay",
              "size": 10,
              "solidity": 0.2
             }
            },
            "type": "histogram"
           }
          ],
          "histogram2d": [
           {
            "colorbar": {
             "outlinewidth": 0,
             "ticks": ""
            },
            "colorscale": [
             [
              0,
              "#0d0887"
             ],
             [
              0.1111111111111111,
              "#46039f"
             ],
             [
              0.2222222222222222,
              "#7201a8"
             ],
             [
              0.3333333333333333,
              "#9c179e"
             ],
             [
              0.4444444444444444,
              "#bd3786"
             ],
             [
              0.5555555555555556,
              "#d8576b"
             ],
             [
              0.6666666666666666,
              "#ed7953"
             ],
             [
              0.7777777777777778,
              "#fb9f3a"
             ],
             [
              0.8888888888888888,
              "#fdca26"
             ],
             [
              1,
              "#f0f921"
             ]
            ],
            "type": "histogram2d"
           }
          ],
          "histogram2dcontour": [
           {
            "colorbar": {
             "outlinewidth": 0,
             "ticks": ""
            },
            "colorscale": [
             [
              0,
              "#0d0887"
             ],
             [
              0.1111111111111111,
              "#46039f"
             ],
             [
              0.2222222222222222,
              "#7201a8"
             ],
             [
              0.3333333333333333,
              "#9c179e"
             ],
             [
              0.4444444444444444,
              "#bd3786"
             ],
             [
              0.5555555555555556,
              "#d8576b"
             ],
             [
              0.6666666666666666,
              "#ed7953"
             ],
             [
              0.7777777777777778,
              "#fb9f3a"
             ],
             [
              0.8888888888888888,
              "#fdca26"
             ],
             [
              1,
              "#f0f921"
             ]
            ],
            "type": "histogram2dcontour"
           }
          ],
          "mesh3d": [
           {
            "colorbar": {
             "outlinewidth": 0,
             "ticks": ""
            },
            "type": "mesh3d"
           }
          ],
          "parcoords": [
           {
            "line": {
             "colorbar": {
              "outlinewidth": 0,
              "ticks": ""
             }
            },
            "type": "parcoords"
           }
          ],
          "pie": [
           {
            "automargin": true,
            "type": "pie"
           }
          ],
          "scatter": [
           {
            "fillpattern": {
             "fillmode": "overlay",
             "size": 10,
             "solidity": 0.2
            },
            "type": "scatter"
           }
          ],
          "scatter3d": [
           {
            "line": {
             "colorbar": {
              "outlinewidth": 0,
              "ticks": ""
             }
            },
            "marker": {
             "colorbar": {
              "outlinewidth": 0,
              "ticks": ""
             }
            },
            "type": "scatter3d"
           }
          ],
          "scattercarpet": [
           {
            "marker": {
             "colorbar": {
              "outlinewidth": 0,
              "ticks": ""
             }
            },
            "type": "scattercarpet"
           }
          ],
          "scattergeo": [
           {
            "marker": {
             "colorbar": {
              "outlinewidth": 0,
              "ticks": ""
             }
            },
            "type": "scattergeo"
           }
          ],
          "scattergl": [
           {
            "marker": {
             "colorbar": {
              "outlinewidth": 0,
              "ticks": ""
             }
            },
            "type": "scattergl"
           }
          ],
          "scattermapbox": [
           {
            "marker": {
             "colorbar": {
              "outlinewidth": 0,
              "ticks": ""
             }
            },
            "type": "scattermapbox"
           }
          ],
          "scatterpolar": [
           {
            "marker": {
             "colorbar": {
              "outlinewidth": 0,
              "ticks": ""
             }
            },
            "type": "scatterpolar"
           }
          ],
          "scatterpolargl": [
           {
            "marker": {
             "colorbar": {
              "outlinewidth": 0,
              "ticks": ""
             }
            },
            "type": "scatterpolargl"
           }
          ],
          "scatterternary": [
           {
            "marker": {
             "colorbar": {
              "outlinewidth": 0,
              "ticks": ""
             }
            },
            "type": "scatterternary"
           }
          ],
          "surface": [
           {
            "colorbar": {
             "outlinewidth": 0,
             "ticks": ""
            },
            "colorscale": [
             [
              0,
              "#0d0887"
             ],
             [
              0.1111111111111111,
              "#46039f"
             ],
             [
              0.2222222222222222,
              "#7201a8"
             ],
             [
              0.3333333333333333,
              "#9c179e"
             ],
             [
              0.4444444444444444,
              "#bd3786"
             ],
             [
              0.5555555555555556,
              "#d8576b"
             ],
             [
              0.6666666666666666,
              "#ed7953"
             ],
             [
              0.7777777777777778,
              "#fb9f3a"
             ],
             [
              0.8888888888888888,
              "#fdca26"
             ],
             [
              1,
              "#f0f921"
             ]
            ],
            "type": "surface"
           }
          ],
          "table": [
           {
            "cells": {
             "fill": {
              "color": "#EBF0F8"
             },
             "line": {
              "color": "white"
             }
            },
            "header": {
             "fill": {
              "color": "#C8D4E3"
             },
             "line": {
              "color": "white"
             }
            },
            "type": "table"
           }
          ]
         },
         "layout": {
          "annotationdefaults": {
           "arrowcolor": "#2a3f5f",
           "arrowhead": 0,
           "arrowwidth": 1
          },
          "autotypenumbers": "strict",
          "coloraxis": {
           "colorbar": {
            "outlinewidth": 0,
            "ticks": ""
           }
          },
          "colorscale": {
           "diverging": [
            [
             0,
             "#8e0152"
            ],
            [
             0.1,
             "#c51b7d"
            ],
            [
             0.2,
             "#de77ae"
            ],
            [
             0.3,
             "#f1b6da"
            ],
            [
             0.4,
             "#fde0ef"
            ],
            [
             0.5,
             "#f7f7f7"
            ],
            [
             0.6,
             "#e6f5d0"
            ],
            [
             0.7,
             "#b8e186"
            ],
            [
             0.8,
             "#7fbc41"
            ],
            [
             0.9,
             "#4d9221"
            ],
            [
             1,
             "#276419"
            ]
           ],
           "sequential": [
            [
             0,
             "#0d0887"
            ],
            [
             0.1111111111111111,
             "#46039f"
            ],
            [
             0.2222222222222222,
             "#7201a8"
            ],
            [
             0.3333333333333333,
             "#9c179e"
            ],
            [
             0.4444444444444444,
             "#bd3786"
            ],
            [
             0.5555555555555556,
             "#d8576b"
            ],
            [
             0.6666666666666666,
             "#ed7953"
            ],
            [
             0.7777777777777778,
             "#fb9f3a"
            ],
            [
             0.8888888888888888,
             "#fdca26"
            ],
            [
             1,
             "#f0f921"
            ]
           ],
           "sequentialminus": [
            [
             0,
             "#0d0887"
            ],
            [
             0.1111111111111111,
             "#46039f"
            ],
            [
             0.2222222222222222,
             "#7201a8"
            ],
            [
             0.3333333333333333,
             "#9c179e"
            ],
            [
             0.4444444444444444,
             "#bd3786"
            ],
            [
             0.5555555555555556,
             "#d8576b"
            ],
            [
             0.6666666666666666,
             "#ed7953"
            ],
            [
             0.7777777777777778,
             "#fb9f3a"
            ],
            [
             0.8888888888888888,
             "#fdca26"
            ],
            [
             1,
             "#f0f921"
            ]
           ]
          },
          "colorway": [
           "#636efa",
           "#EF553B",
           "#00cc96",
           "#ab63fa",
           "#FFA15A",
           "#19d3f3",
           "#FF6692",
           "#B6E880",
           "#FF97FF",
           "#FECB52"
          ],
          "font": {
           "color": "#2a3f5f"
          },
          "geo": {
           "bgcolor": "white",
           "lakecolor": "white",
           "landcolor": "#E5ECF6",
           "showlakes": true,
           "showland": true,
           "subunitcolor": "white"
          },
          "hoverlabel": {
           "align": "left"
          },
          "hovermode": "closest",
          "mapbox": {
           "style": "light"
          },
          "paper_bgcolor": "white",
          "plot_bgcolor": "#E5ECF6",
          "polar": {
           "angularaxis": {
            "gridcolor": "white",
            "linecolor": "white",
            "ticks": ""
           },
           "bgcolor": "#E5ECF6",
           "radialaxis": {
            "gridcolor": "white",
            "linecolor": "white",
            "ticks": ""
           }
          },
          "scene": {
           "xaxis": {
            "backgroundcolor": "#E5ECF6",
            "gridcolor": "white",
            "gridwidth": 2,
            "linecolor": "white",
            "showbackground": true,
            "ticks": "",
            "zerolinecolor": "white"
           },
           "yaxis": {
            "backgroundcolor": "#E5ECF6",
            "gridcolor": "white",
            "gridwidth": 2,
            "linecolor": "white",
            "showbackground": true,
            "ticks": "",
            "zerolinecolor": "white"
           },
           "zaxis": {
            "backgroundcolor": "#E5ECF6",
            "gridcolor": "white",
            "gridwidth": 2,
            "linecolor": "white",
            "showbackground": true,
            "ticks": "",
            "zerolinecolor": "white"
           }
          },
          "shapedefaults": {
           "line": {
            "color": "#2a3f5f"
           }
          },
          "ternary": {
           "aaxis": {
            "gridcolor": "white",
            "linecolor": "white",
            "ticks": ""
           },
           "baxis": {
            "gridcolor": "white",
            "linecolor": "white",
            "ticks": ""
           },
           "bgcolor": "#E5ECF6",
           "caxis": {
            "gridcolor": "white",
            "linecolor": "white",
            "ticks": ""
           }
          },
          "title": {
           "x": 0.05
          },
          "xaxis": {
           "automargin": true,
           "gridcolor": "white",
           "linecolor": "white",
           "ticks": "",
           "title": {
            "standoff": 15
           },
           "zerolinecolor": "white",
           "zerolinewidth": 2
          },
          "yaxis": {
           "automargin": true,
           "gridcolor": "white",
           "linecolor": "white",
           "ticks": "",
           "title": {
            "standoff": 15
           },
           "zerolinecolor": "white",
           "zerolinewidth": 2
          }
         }
        },
        "treemapcolorway": [
         "rgb(102, 197, 204)",
         "rgb(246, 207, 113)",
         "rgb(248, 156, 116)",
         "rgb(220, 176, 242)",
         "rgb(135, 197, 95)",
         "rgb(158, 185, 243)",
         "rgb(254, 136, 177)",
         "rgb(201, 219, 116)",
         "rgb(139, 224, 164)",
         "rgb(180, 151, 231)",
         "rgb(179, 179, 179)"
        ]
       }
      },
      "image/png": "[encoded data removed]",
      "text/html": [
       "<div>                            <div id=\"d3886655-12b8-4a6f-8b58-c6fa13bd9882\" class=\"plotly-graph-div\" style=\"height:800px; width:100%;\"></div>            <script type=\"text/javascript\">                require([\"plotly\"], function(Plotly) {                    window.PLOTLYENV=window.PLOTLYENV || {};                                    if (document.getElementById(\"d3886655-12b8-4a6f-8b58-c6fa13bd9882\")) {                    Plotly.newPlot(                        \"d3886655-12b8-4a6f-8b58-c6fa13bd9882\",                        [{\"branchvalues\":\"total\",\"customdata\":[[\"Open Source Infrastructure\",\"Databases\",\"Cassandra\",\"Mirror of Apache Cassandra\\n\"],[\"Open Source Infrastructure\",\"Open Source - Orchestration\",\"Argo\",\"Workflow engine for Kubernetes\\n\"],[\"Infrastructure\",\"MGMT\\u002fMonitoring\",\"Dynatrace\",\"Dynatrace specializes in digital performance management, and is an AI-powered, full stack and completely automated solution that provides answers based on deep insight into every user, every transaction, across every application.\\n\"],[\"Open Source Infrastructure\",\"Databases\",\"CouchDB\",\"Seamless multi-master syncing database with an intuitive HTTP\\u002fJSON API, designed for reliability\\n\"],[\"Open Source Infrastructure\",\"OLAP\",\"Druid\",\"Apache Druid: a high performance real-time analytics database.\\n\"],[\"Open Source Infrastructure\",\"Streaming & Messaging\",\"Nifi\",\"Apache NiFi\\n\"],[\"Infrastructure\",\"Data Integration\",\"Denodo\",\"Denodo is the leader in data virtualization providing agile, high performance data integration and data abstraction across the broadest range of enterprise, cloud, big data, unstructured data sources and real-time data services at half the cost of traditional approaches. Denodo's customers across every major industry have gained significant business agility and ROI by enabling faster and easier access to unified business information for agile BI, big data analytics, Web and cloud integration, single-view applications, and enterprise data services.\\n\"],[\"Machine Learning & Artificial Intelligence\",\"Enterprise ML Platforms\",\"Azure Machine Learning\",\"Microsoft Azure is a cloud computing service created by Microsoft for building, testing, deploying, and managing applications and services through Microsoft-managed data centers.\\n\"],[\"Open Source Infrastructure\",\"Format\",\"Delta Lake\",\"An open-source storage framework that enables building a Lakehouse architecture with compute engines including Spark, PrestoDB, Flink, Trino, and Hive and APIs\\n\"],[\"Analytics\",\"Log Analytics\",\"Observe\",\"Observe is a SaaS observability company that discerns why applications and infrastructure are running the way they are from the data they emit. The company enables engineers to spend more time coding features and less time investigating incidents. The company was founded in 2017 and is based in San Mateo, California.\"],[\"Analytics\",\"Product Analytics\",\"Mixpanel\",\"Mixpanel is a real-time analytics service that helps companies understand how users interact with web applications.\\n\"],[\"Infrastructure\",\"Storage\",\"Minio\",\"Minio provides open source object storage for cloud-native and containerized applications.\\n\"],[\"Analytics\",\"Product Analytics\",\"Google Analytics\",\"Google Analytics is an American multinational technology company that specializes in Internet-related services and products. The company is based in Mountain View, California.\\n\"],[\"Machine Learning & Artificial Intelligence\",\"Enterprise ML Platforms\",\"Dataiku\",\"Dataiku is a late-stage technology firm that develops a centralized data platform that democratizes the use of data science, machine learning, and AI in the enterprise. Dataiku helps businesses move along their data journey from data preparation to analytics at scale to enterprise AI by providing a common ground for data experts and explorers, a repository of best practices, shortcuts to machine learning and AI deployment\\u002fmanagement, and a centralized, controlled environment. The firm primarily serves the retail, financial, pharmaceutical, and manufacturing industries. It was founded in 2013 and is based in New York, New York.\"],[\"Infrastructure\",\"Streaming\\u002fIn-Memory\",\"Databricks\",\"Databricks provides a data platform that aims to simplify data integration and offers data analytic services. Databricks Lakehouse Platform serves corporations in various industries worldwide. It was founded in 2013 and is based in San Francisco, California.\"],[\"Open Source Infrastructure\",\"Frameworks\",\"Kubernetes\",\"Production-Grade Container Scheduling and Management\\n\"],[\"Machine Learning & Artificial Intelligence\",\"GPU Cloud\",\"Lambda\",\"\\n\"],[\"Analytics\",\"Customer Data Platforms\",\"Tealium\",\"Tealium develops a customer data platform, comprised of an enterprise tag management solution, omnichannel customer segmentation and action engine, and suite of rich data services, creating a vendor-neutral data foundation that spans web, mobile, offline, and IoT. The firm primarily serves financial services, healthcare, retail, sports & entertainment, and hospitality industries. It was founded in 2008 and is based in San Diego, California.\"],[\"Infrastructure\",\"ETL\\u002fELT\\u002fData Transformation\",\"Talend\",\"Talend provides integration that truly scales. From small projects to enterprise-wide implementations, Talend's highly-scalable data, application, and business process integration platform maximizes the value of an organization's information assets and optimizes return on investment through a usage-based subscription model.\\n\"],[\"Machine Learning & Artificial Intelligence\",\"Horizontal AI\\u002fAGI\",\"CSM\",\"Common Sense Machines provides APIs, interfaces, and open-source software to translate multi-modal inputs and experiences into a digital simulator for AI training and content creation. The company was founded in 2020 and is based in Cambridge, Massachusetts.\"],[\"Infrastructure\",\"RDBMs\",\"IBM DB2\",\"IBM (NYSE: IBM) manufactures and sells computer hardware and software, and offers infrastructure services, hosting services, and consulting services in areas ranging from mainframe computers to nanotechnology. The company was founded in 1911 and is based in Armonk, Newyork.\"],[\"Analytics\",\"Analytics - Visualization\",\"Tableau\",\"Tableau Software is a provider of visual analysis and reporting solutions. Its flagship product is used by managers, business intelligence professionals, business analysts, strategic consultants, financial professionals, market researchers, scientists and engineers in nearly every industry. The company was founded in 2003 and is based in Seattle, Washington.\"],[\"Infrastructure\",\"MGMT\\u002fMonitoring\",\"Veeam\",\"Veeam Software is an information technology company that develops backup, disaster recovery and data management software for virtual, physical and cloud-based workloads. On January 9, 2020, Veeam Software was acquired by Insight Partners at a valuation between $5000-5548.37M.\"],[\"Open Source Infrastructure\",\"Frameworks\",\"Yarn\",\"📦🐈 Active development trunk for Yarn ⚒\\n\"],[\"Machine Learning & Artificial Intelligence\",\"NLP\",\"Amazon Comprehend\",\"Amazon Web Services (AWS) is a business unit within Amazon.com that provides an infrastructure platform for businesses in the form of cloud computing.\\n\"],[\"Open Source Infrastructure\",\"Logging & Monitoring\",\"Vector\",\"A high-performance observability data pipeline.\\n\"],[\"Infrastructure\",\"ETL\\u002fELT\\u002fData Transformation\",\"Airbyte\",\"Airbyte is an open-source data integration platform that syncs data from applications, APIs, and databases to data warehouses, lakes, and other destinations. The company was founded in 2020 and is based in San Francisco, California.\"],[\"Infrastructure\",\"Data Lakes\\u002fLakehouses\",\"Google Cloud Dataproc\",\"Google Cloud Platform, offered by Google, is a suite of cloud computing services that runs on the same infrastructure that Google uses internally for its end-user products.\\n\"],[\"Open Source Infrastructure\",\"Frameworks\",\"Ray\",\"Ray is a unified framework for scaling AI and Python applications. Ray consists of a core distributed runtime and a toolkit of libraries (Ray AIR) for accelerating ML workloads.\\n\"],[\"Open Source Infrastructure\",\"Logging & Monitoring\",\"Prometheus\",\"The Prometheus monitoring system and time series database.\\n\"],[\"Open Source Infrastructure\",\"Stat Tools & Languages\",\"R\",\"\\n\"],[\"Analytics\",\"BI Platforms\",\"Amazon QuickSight\",\"Amazon Web Services (AWS) is a business unit within Amazon.com that provides an infrastructure platform for businesses in the form of cloud computing.\\n\"],[\"Open Source Infrastructure\",\"Databases\",\"HBase\",\"Apache HBase\\n\"],[\"Open Source Infrastructure\",\"Stat Tools & Languages\",\"Pandas\",\"Flexible and powerful data analysis \\u002f manipulation library for Python, providing labeled data structures similar to R data.frame objects, statistical functions, and much more\\n\"],[\"Open Source Infrastructure\",\"AI Frameworks & Libraries\",\"PyTorch\",\"Tensors and Dynamic neural networks in Python with strong GPU acceleration\\n\"],[\"Infrastructure\",\"Data Integration\",\"Snowplow\",\"Snowplow has created a fully managed platform for creating behavioral data that’s used by companies to power artificial intelligence, machine learning and advanced analytics applications. With the Snowplow Behavioral Data Platform, data teams can access behavioral data that’s created, modeled and customized for the specific application they’re building. Snowplow was founded in 2012 and is based in London, England.\"],[\"Machine Learning & Artificial Intelligence\",\"Speech\",\"Alexa\",\"\\n\"],[\"Open Source Infrastructure\",\"MLOps & AI Infra\",\"DVC\",\"🦉Data Version Control | Git for Data & Models | ML Experiments Management\\n\"],[\"Open Source Infrastructure\",\"Open Source Infra - Visualizations\",\"Superset\",\"Apache Superset is a Data Visualization and Data Exploration Platform\\n\"],[\"Infrastructure\",\"Data Warehouses\",\"RedShift\",\"Amazon Web Services (AWS) is a business unit within Amazon.com that provides an infrastructure platform for businesses in the form of cloud computing.\\n\"],[\"Infrastructure\",\"Data Lakes\\u002fLakehouses\",\"Amazon EMR\",\"Amazon Web Services (AWS) is a business unit within Amazon.com that provides an infrastructure platform for businesses in the form of cloud computing.\\n\"],[\"Machine Learning & Artificial Intelligence\",\"AI Hardware\",\"Nvidia\",\"NVIDIA (NASDAQ: NVDA) is an advanced graphics processing company, with a product family that allows multimedia experiences for the entire desktop computer market from workstations to internet-enabled appliances.\\n\"],[\"Open Source Infrastructure\",\"AI Frameworks & Libraries\",\"Keras\",\"Deep Learning for humans\\n\"],[\"Infrastructure\",\"NoSQL Databases\",\"ScyllaDB\",\"ScyllaDB provides a real-time big data database compatible with Apache Cassandra and used for a variety of business-critical purposes, including as a key value store, time-series database, large blob store, and graph database backend.\\n\"],[\"Open Source Infrastructure\",\"Query\\u002fDataflow\",\"GraphQL\",\"GraphQL is a query language and execution engine tied to any backend service.\\n\"],[\"Infrastructure\",\"Data Integration\",\"Informatica\",\"Informatica Corporation (NYSE: INFA) is a provider of enterprise data integration software and services. With Informatica, companies can gain greater business value by integrating all their information assets from across the enterprise. More than 2,900 companies worldwide rely on Informatica to reduce the cost and expedite the time to address data integration needs of any complexity and scale.\"],[\"Machine Learning & Artificial Intelligence\",\"Data Science Notebooks\",\"Google Colab\",\"\\n\"],[\"Infrastructure\",\"Data Integration\",\"SnapLogic\",\"SnapLogic specializes in self-service integration. The company's cloud-based platform makes it fast and easy to connect data, applications, and devices, eliminating business silos and technology bottlenecks to accelerate digital business.\\n\"],[\"Open Source Infrastructure\",\"MLOps & AI Infra\",\"Langchain\",\"⚡ Building applications with LLMs through composability ⚡\\n\"],[\"Data Sources & APIs\",\"Location Intelligence\",\"mapbox\",\"Mapbox is a live location platform for developers. Mapbox provides a global map, real-time traffic, location search, and navigation via its APIs and SDKs. Mapbox enables enterprises to analyze their data, drone companies to publish flyovers, friends to find each other, real estate sites to visualize properties, satellite companies to process cloud-free imagery, and insurance companies to track assets.\\n\"],[\"Analytics\",\"Analytics - Visualization\",\"Grid\",\"Grid allows Excel users to turn spreadsheets into modern web applications without learning any new skills.\\n\"],[\"Open Source Infrastructure\",\"Frameworks\",\"Hadoop HDFS\",\"Apache Hadoop\\n\"],[\"Open Source Infrastructure\",\"Open Source - Orchestration\",\"Luigi\",\"Luigi is a Python module that helps you build complex pipelines of batch jobs. It handles dependency resolution, workflow management, visualization etc. It also comes with Hadoop support built in. \\n\"],[\"Data Sources & APIs\",\"Data Marketplaces & Discovery\",\"Snowflake Data Exchange\",null],[\"Machine Learning & Artificial Intelligence\",\"Horizontal AI\\u002fAGI\",\"IBM Watson\",\"IBM (NYSE: IBM) manufactures and sells computer hardware and software, and offers infrastructure services, hosting services, and consulting services in areas ranging from mainframe computers to nanotechnology. The company was founded in 1911 and is based in Armonk, Newyork.\"],[\"Infrastructure\",\"Graph DBs\",\"neo4j\",\"Neo4j provides websites, telcos, and bioinformatics research organizations a graph database to model and query connected data. The company, which also has a large ecosystem of partners and developers, operates offices in Germany, UK, France, Belgium, Sweden, and Malaysia.\"],[\"Infrastructure\",\"Streaming\\u002fIn-Memory\",\"SAP HANA\",\"SAP (FWB: SAP) (NYSE: SAP) is a multinational software corporation that makes enterprise software to manage business operations and customer relations.\\n\"],[\"Open Source Infrastructure\",\"Streaming & Messaging\",\"RabbitMQ\",\"Open source RabbitMQ: core server and tier 1 (built-in) plugins\"],[\"Open Source Infrastructure\",\"Query\\u002fDataflow\",\"Presto\",\"The official home of the Presto distributed SQL query engine for big data\\n\"],[\"Open Source Infrastructure\",\"Databases\",\"PostgreSQL\",\"Mirror of the official PostgreSQL GIT repository. Note that this is just a \\\\*mirror\\\\* - we don't work with pull requests on github. To contribute, please see \\u003chttps:\\u002f\\u002fwiki.postgresql.org\\u002fwiki\\u002fSubmitting_a_Patch\\u003e\\n\"],[\"Infrastructure\",\"ETL\\u002fELT\\u002fData Transformation\",\"Portable\",\"Portable offers an ELT platform to build connectors on-demand for data teams. The platform enables data teams and companies to access fully-managed connectors and custom development in a no-code solution. The company was founded in 2020 and is based New York, New York.\"],[\"Analytics\",\"Analytics - Visualization\",\"Plotly\",\"Plotly is a technical computing company that develops online data analytics and visualization tools. It is based in Montreal, Quebec.\\n\"],[\"Open Source Infrastructure\",\"Format\",\"Parquet\",\"Apache Parquet\\n\"],[\"Open Source Infrastructure\",\"Format\",\"Orc\",\"Apache ORC - the smallest, fastest columnar storage for Hadoop workloads\\n\"],[\"Infrastructure\",\"RDBMs\",\"Oracle\",\"Oracle (NYSE: ORCL) is an enterprise software company that aims to offer a complete, open, and integrated IT stack of cloud applications, platform services, and engineered systems to help clients manage business information and streamline business processes. The company was founded in 1977 and is based in Redwood City, California.\"],[\"Open Source Infrastructure\",\"AI Frameworks & Libraries\",\"OpenCV\",\"Open Source Computer Vision Library\\n\"],[\"Infrastructure\",\"ETL\\u002fELT\\u002fData Transformation\",\"Rivery\",\"Rivery offers a data ETL pipeline and integration platform service that allows businesses to aggregate, transform and automate their data systems in the cloud. Rivery provides a single end-to-end ELT (extract, load, transform) solution which covers key processes to create the optimal data stack: Ingestion, Transformation, Orchestration, and Reverse ETL. Teams can choose from the different modules to build their ideal data infrastructure. Rivery was founded in 2017 and is based in New York, New York.\"],[\"Infrastructure\",\"MGMT\\u002fMonitoring\",\"Rubrik\",\"Rubrik makes data protection software that businesses employ to ensure that business documents can be restored if they are lost due to a technical failure or a ransomware assault. Customers can store backup copies of their documents in the cloud for convenient access with Rubrik. To ensure that ransomware assaults do not damage backup copies of organizations' data, the company's products use a method known as zero-trust data management.\\n\"],[\"Open Source Infrastructure\",\"Stat Tools & Languages\",\"NumPy\",\"The fundamental package for scientific computing with Python.\\n\"],[\"Infrastructure\",\"MGMT\\u002fMonitoring\",\"New Relic\",\"New Relic (NYSE: NEWR) develops cloud-based software to help website and application owners track the performance of their services. The company's SaaS-based solution provides an interface for web and native mobile applications and consolidates the performance monitoring data for any chosen technology in an environment. The firm was founded in 2008 and is based in San Francisco, California.\"],[\"Open Source Infrastructure\",\"Databases\",\"MySQL\",\"MySQL Server, the world's most popular open source database, and MySQL Cluster, a real-time, open source transactional database.\\n\"],[\"Open Source Infrastructure\",\"AI Frameworks & Libraries\",\"Mxnet\",\"Lightweight, Portable, Flexible Distributed\\u002fMobile Deep Learning with Dynamic, Mutation-aware Dataflow Dep Scheduler; for Python, R, Julia, Scala, Go, Javascript and more\\n\"],[\"Infrastructure\",\"Data Integration\",\"MuleSoft\",\"MuleSoft provides an integration platform for connecting SaaS and enterprise applications in the cloud and on-premise. MuleSoft's Anypoint technology eliminates costly, time-intensive point-to-point integration, enabling business agility. Delivered as a packaged integration experience, Mule iON and Mule ESB are built on open source technology for fast, reliable integration without vendor lock-in. In March 2018, MuleSoft was acquired by Salesforce for $6.86B.\"],[\"Infrastructure\",\"NoSQL Databases\",\"MongoDB\",\"MongoDB is a general purpose, document-based, distributed database built for modern application developers and for the cloud era.\\n\"],[\"Machine Learning & Artificial Intelligence\",\"Enterprise ML Platforms\",\"Modular\",\"Modular offers a platform that unifies popular AI framework frontends via modular, “composable” common components. The company aims to let developers plug in custom hardware to train AI systems and deploy those systems to edge devices or servers. It was founded in 2022 and is based in San Francisco, California.\"],[\"Infrastructure\",\"RDBMs\",\"Microsoft SQL Server\",\"Microsoft (NASDAQ: MSFT) provides, develops, and licenses consumer and enterprise software. The company develops, manufactures, and sells computer software, consumer electronics, and personal computers and services. It is known for its Windows operating systems, Office productivity suite, cloud-based Azure platforms, and many more. The company was founded in 1975 and is based in Redmond, Washington.\"],[\"Infrastructure\",\"Infrastructure - Orchestration\",\"Microsoft Azure Data Factory\",\"Microsoft Azure is a cloud computing service created by Microsoft for building, testing, deploying, and managing applications and services through Microsoft-managed data centers.\\n\"],[\"Infrastructure\",\"RDBMs\",\"Microsoft Access\",\"Microsoft (NASDAQ: MSFT) provides, develops, and licenses consumer and enterprise software. The company develops, manufactures, and sells computer software, consumer electronics, and personal computers and services. It is known for its Windows operating systems, Office productivity suite, cloud-based Azure platforms, and many more. The company was founded in 1975 and is based in Redmond, Washington.\"],[\"Analytics\",\"BI Platforms\",\"Metabase\",\"Metabase is an open-source analytics and business intelligence application that can connect to the most commonly used databases. It lets anyone in a company quickly ask questions, and create dashboards or nightly emails without knowing SQL. Metabase was founded in 2014 and is based in San Francisco, California.\"],[\"Infrastructure\",\"ETL\\u002fELT\\u002fData Transformation\",\"Meltano\",\"Meltano is ELT (Extract, Load, Transform) for the DataOps era: open-source, self-hosted, CLI-first, debuggable, and extensible. Pipelines are code, ready to be version controlled, containerized and deployed continuously. Meltano lets users develop and test locally, then deploy in production along with the built-in airflow integration. Meltano was founded in 2021 and is based in Mexico.\"],[\"Open Source Infrastructure\",\"Open Source Infra - Visualizations\",\"Matplotlib\",\"matplotlib: plotting with Python\\n\"],[\"Infrastructure\",\"Data Integration\",\"SAP Data Services\",\"SAP (FWB: SAP) (NYSE: SAP) is a multinational software corporation that makes enterprise software to manage business operations and customer relations.\\n\"],[\"Machine Learning & Artificial Intelligence\",\"MLOps\",\"SageMaker\",\"Amazon Web Services (AWS) is a business unit within Amazon.com that provides an infrastructure platform for businesses in the form of cloud computing.\\n\"],[\"Infrastructure\",\"Data Quality & Observability\",\"Soda\",\"SodaData is a data monitoring platform for data owners, data engineers and data analytics teams. It's an easy-to-use, collaborative environment that tells users about important data events in real-time, across your data infrastructure.\\n\"],[\"Infrastructure\",\"Data Warehouses\",\"Google BigQuery\",\"Google Cloud Platform, offered by Google, is a suite of cloud computing services that runs on the same infrastructure that Google uses internally for its end-user products.\\n\"],[\"Open Source Infrastructure\",\"Stat Tools & Languages\",\"Python\",\"The Python programming language\\n\"],[\"Open Source Infrastructure\",\"AI Frameworks & Libraries\",\"TensorFlow\",\"An Open Source Machine Learning Framework for Everyone\\n\"],[\"Infrastructure\",\"Data Governance & Catalog\",\"Collibra\",\"Collibra is a data governance and intelligence platform that helps businesses unlock insights from disparate data sources. The company offers various products that allow both technical and business users to collaborate and combine data silos to find hidden meaning in their wealth of information.\\n\"],[\"Infrastructure\",\"MGMT\\u002fMonitoring\",\"Solarwinds\",\"SolarWinds (NYSE:SWI) is a company that develops software for businesses to help manage their networks, systems, and information technology infrastructure.\\n\"],[\"Infrastructure\",\"MPP DBs\",\"Teradata\",\"Teradata provides analytic data platforms, marketing and analytic applications, and consulting services. Teradata helps organizations collect, integrate, and analyze all of their data so they can know more about their customers and business.\\n\"],[\"Machine Learning & Artificial Intelligence\",\"Data Science Platforms\",\"Tibco\",\"TIBCO Software focuses on infrastructure and business intelligence software. It offers products such as TIBCO Cloud integration, TIBCO Cloud API management, TIBCO BusinessWorks, TIBCO BusinessConnect and more. The company caters to banking, credit union, energy, government, healthcare, insurance and more. TIBCO Software was founded in 1997 and is based in Palo Alto, California.\"],[\"Infrastructure\",\"Data Governance & Catalog\",\"Castor\",\"Castor operates a data catalog platform. It provides enterprise users with tools to collect, discover, understand and use datasets according to business needs. The solution automatically documents datasets and provides an overview of the entire data environment, giving employees the ability to search through all available data assets in the company. It was founded in 2020 and is based in Paris, France.\"],[\"Open Source Infrastructure\",\"Query\\u002fDataflow\",\"Beam\",\"Apache Beam is a unified programming model for Batch and Streaming data processing.\\n\"],[\"Analytics\",\"Analytics - Visualization\",\"Toucan Toco\",\"Toucan Toco provides a data storytelling platform that allows organizations to provide insights to non-technical business users.\\n\"],[\"Analytics\",\"Data Analyst Platforms\",\"Trace\",\"\\n\"],[\"Infrastructure\",\"Data Lakes\\u002fLakehouses\",\"Azure HD Insight\",\"Microsoft Azure is a cloud computing service created by Microsoft for building, testing, deploying, and managing applications and services through Microsoft-managed data centers.\\n\"],[\"Infrastructure\",\"NewSQL Databases\",\"Aurora\",\"Amazon Web Services (AWS) is a business unit within Amazon.com that provides an infrastructure platform for businesses in the form of cloud computing.\\n\"],[\"Analytics\",\"BI Platforms\",\"Atscale\",\"AtScale provides enterprises with a universal semantic platform for Business Intelligence on Big Data, allowing business users at corporations across financial services, healthcare, telecommunications, retail, and online industries to get interactive and multi-dimensional analysis capabilities, directly on Hadoop and cloud-based big data platforms.\\n\"],[\"Analytics\",\"Query Engine\",\"Athena\",\"Amazon Web Services (AWS) is a business unit within Amazon.com that provides an infrastructure platform for businesses in the form of cloud computing.\\n\"],[\"Analytics\",\"Product Analytics\",\"Contentsquare\",\"ContentSquare monitors touch and mouse movements on websites and apps to understand how these services are used. It leverages data to improve users' experience and increase engagement. Contentsquare helps brands everywhere transform the way they do business, allowing them to take action at enterprise scale and build customer trust with security, privacy and accessibility. Contentsquare was founded in 2012 and is based in Paris, France.\"],[\"Infrastructure\",\"Data Governance & Catalog\",\"Ataccama\",\"Ataccama is a unified data management platform provider. Combining data governance, data catalog, data quality, and master data management into a single, AI-powered fabric across hybrid and cloud environments, Ataccama gives businesses and data teams the ability to scale and accelerate business outcomes while maintaining the trust, security, and governance of data. Financial, commercial, and government organizations use Ataccama's solutions to execute and deliver business benefits. The company was founded in 2007 and is based in Toronto, Ontario.\"],[\"Infrastructure\",\"Graph DBs\",\"ArangoDB\",\"ArangoDB is an open-source database with a flexible data model for documents, graphs, and key-values. The company allows users to build high performance applications using a convenient SQL-like query language or JavaScript\\u002fRuby extensions.\\n\"],[\"Infrastructure\",\"Database Abstraction\",\"Apollo\",\"\\n\"],[\"Open Source Infrastructure\",\"Query\\u002fDataflow\",\"Apache Pig\",\"Mirror of Apache Pig\\n\"],[\"Open Source Infrastructure\",\"OLAP\",\"Apache Kylin\",\"Apache Kylin\\n\"],[\"Open Source Infrastructure\",\"Format\",\"Apache Arrow\",\"Apache Arrow is a multi-language toolbox for accelerated data interchange and in-memory processing\\n\"],[\"Infrastructure\",\"Graph DBs\",\"Amazon Neptune\",\"Amazon Web Services (AWS) is a business unit within Amazon.com that provides an infrastructure platform for businesses in the form of cloud computing.\\n\"],[\"Infrastructure\",\"Streaming\\u002fIn-Memory\",\"Amazon Kinesis\",\"Amazon Web Services (AWS) is a business unit within Amazon.com that provides an infrastructure platform for businesses in the form of cloud computing.\\n\"],[\"Infrastructure\",\"Compute\",\"Amazon EKS\",\"Amazon Web Services (AWS) is a business unit within Amazon.com that provides an infrastructure platform for businesses in the form of cloud computing.\\n\"],[\"Infrastructure\",\"MPP DBs\",\"Vertica, An OpenText Company\",\"Vertica Systems is developing an analytics database management software company. Vertica makes SQL database management software designed to derive business intelligence from complex and large sets of data, in real-time.\\n\"],[\"Open Source Infrastructure\",\"Collaboration\",\"Zeppelin\",\"Web-based notebook that enables data-driven, interactive data analytics and collaborative documents with SQL, Scala and more.\\n\"],[\"Machine Learning & Artificial Intelligence\",\"Horizontal AI\\u002fAGI\",\"Adept\",\"Adept is an ML research and product lab building general intelligence by enabling humans and computers to work together creatively. The company was founded in 2021 and is based in San Francisco, California.\"],[\"Infrastructure\",\"ETL\\u002fELT\\u002fData Transformation\",\"dbt Labs\",\"dbt Labs helps data teams work directly within the warehouse to produce trusted datasets for reporting, ML modeling, and operational workflows.\\n\"],[\"Open Source Infrastructure\",\"Streaming & Messaging\",\"fpower\",\"\\n\"],[\"Infrastructure\",\"MGMT\\u002fMonitoring\",\"VMWare Aria\",\"VMware (NYSE: VMW) is a cloud computing and virtualization technology company that enables organizations to build, run, manage and secure their apps across clouds. It serves the banking, healthcare, government, retail, telecommunications, manufacturing, and transportation industries. The company was founded in 1998 and is based in Palo Alto, California.\"],[\"Analytics\",\"Data Analyst Platforms\",\"Cube\",\"Cube Dev is a developer framework for building analytics applications. It provides a complete backend API platform over the raw data while giving full customization and flexibility on the frontend.\\n\"],[\"Analytics\",\"BI Platforms\",\"Qlik\",\"Qlik specializes in data discovery and user-driven business intelligence, delivering solutions ranging from reporting and self-service visual analysis to guided, embedded, and custom analytics, regardless of where data is located.\\n\"],[\"Open Source Infrastructure\",\"Frameworks\",\"Flink\",\"Apache Flink\\n\"],[\"Open Source Infrastructure\",\"Open Source Infra - Visualizations\",\"D3\",\"Bring data to life with SVG, Canvas and HTML. :bar\\\\_chart::chart\\\\_with\\\\_upwards\\\\_trend::tada:\\n\"],[\"Open Source Infrastructure\",\"Open Source Infra - Search\",\"Solr\",\"Apache Solr open-source search software\\n\"],[\"Open Source Infrastructure\",\"Frameworks\",\"Spark\",\"Apache Spark - A unified analytics engine for large-scale data processing\\n\"],[\"Analytics\",\"Enterprise Search\",\"Elastic\",\"Elastic is a search engine based on Lucene. It provides a distributed, multitenant-capable full-text search engine with an HTTP web interface and schema-free JSON documents.\\n\"],[\"Open Source Infrastructure\",\"Open Source - Orchestration\",\"Dagster\",\"An orchestration platform for the development, production, and observation of data assets.\\n\"],[\"Open Source Infrastructure\",\"Frameworks\",\"Dask\",\"Parallel computing with task scheduling\\n\"],[\"Open Source Infrastructure\",\"Data Access\",\"DataHub\",\"The Metadata Platform for the Modern Data Stack\\n\"],[\"Open Source Infrastructure\",\"Databases\",\"Flume\",\"Mirror of Apache Flume\\n\"],[\"Analytics\",\"Log Analytics\",\"Splunk\",\"Splunk (NASDAQ: SPLK) provides a software platform that enables organizations to gain operational intelligence. Its software collects and indexes data, regardless of format or source, and enables users to quickly and easily search, correlate, analyze, monitor, and report on this data. The company was founded in 2005 and is based in San Francisco, California.\"],[\"Infrastructure\",\"Database Abstraction\",\"Supabase\",\"Supabase develops an open-source alternative to Google's Firebase. The firm helps developers by providing a Postgres database with a self-documenting API based on the data inside. The company is based in Singapore and was founded in 2020.\"],[\"Open Source Infrastructure\",\"Query\\u002fDataflow\",\"Spark SQL\",\"Apache Spark - A unified analytics engine for large-scale data processing\\n\"],[\"Infrastructure\",\"Data Warehouses\",\"IBM Db2 Warehouse\",\"IBM (NYSE: IBM) manufactures and sells computer hardware and software, and offers infrastructure services, hosting services, and consulting services in areas ranging from mainframe computers to nanotechnology. The company was founded in 1911 and is based in Armonk, Newyork.\"],[\"Analytics\",\"BI Platforms\",\"IBM Cognos Analytics\",\"IBM (NYSE: IBM) manufactures and sells computer hardware and software, and offers infrastructure services, hosting services, and consulting services in areas ranging from mainframe computers to nanotechnology. The company was founded in 1911 and is based in Armonk, Newyork.\"],[\"Infrastructure\",\"Data Governance & Catalog\",\"IBM\",\"IBM (NYSE: IBM) manufactures and sells computer hardware and software, and offers infrastructure services, hosting services, and consulting services in areas ranging from mainframe computers to nanotechnology. The company was founded in 1911 and is based in Armonk, Newyork.\"],[\"Analytics\",\"Product Analytics\",\"Amplitude\",\"Amplitude (NASDAQ: AMPLT) provides mobile analytics that help companies leverage data to improve user growth. Amplitude provides Amplitude Analytics, a Built on Nova platform which gives companies access to user behavior analytics for mobile and web to pinpoint and act in order to reach better retention, engagement, and conversion results.\\n\"],[\"Open Source Infrastructure\",\"Open Source Infra - Search\",\"Lucene\",\"Apache Lucene open-source search software\\n\"],[\"Infrastructure\",\"ETL\\u002fELT\\u002fData Transformation\",\"Fivetran\",\"Fivetran fully automated connectors sync data from cloud applications, databases, event logs and more into the data warehouse.\\n\"],[\"Open Source Infrastructure\",\"Streaming & Messaging\",\"Storm\",\"Mirror of Apache Storm\\n\"],[\"Analytics\",\"Analytics - Visualization\",\"Power BI\",\"\\n\"],[\"Open Source Infrastructure\",\"Logging & Monitoring\",\"Grafana\",\"The open and composable observability and data visualization platform. Visualize metrics, logs, and traces from multiple sources like Prometheus, Loki, Elasticsearch, InfluxDB, Postgres and many more. \\n\"],[\"Open Source Infrastructure\",\"Infrastructure\",\"Zookeeper\",\"Apache ZooKeeper\\n\"],[\"Infrastructure\",\"Storage\",\"Google Cloud Storage\",\"Google Cloud Platform, offered by Google, is a suite of cloud computing services that runs on the same infrastructure that Google uses internally for its end-user products.\\n\"],[\"Machine Learning & Artificial Intelligence\",\"MLOps\",\"Valohai\",\"Valohai is a SaaS platform that allows international companies to accelerate machine learning development and scale their model deployment. The scalable solution allows companies to run multiple variations of machine learning ideas in parallel, leaving developers free to focus on pushing the boundaries of their research with minimal idle time. The platform, which requires no setup, meaning companies can start building large-scale ML models immediately, is designed to be used for peer review and open-source collaboration. The Valohai system can track changes, build reproducible algorithms, and ensure changes in team composition do not hinder the experiment process.\\n\"],[\"Open Source Infrastructure\",\"Stat Tools & Languages\",\"Scala\",\"Scala 2 compiler and standard library. For bugs, see scala\\u002fbug\"],[\"Infrastructure\",\"Data Integration\",\"StreamSets\",\"StreamSets provides data ingest technology for big data applications. Its enterprise-grade infrastructure accelerates data analysis and decision-making by bringing unprecedented transparency and event processing to data in motion. On February 28th, 2022, StreamSets was acquired by Software AG. The terms of the transaction were not disclosed.\"],[\"Infrastructure\",\"Compute\",\"Azure\",\"Microsoft Azure is a cloud computing service created by Microsoft for building, testing, deploying, and managing applications and services through Microsoft-managed data centers.\\n\"],[\"Analytics\",\"Customer Data Platforms\",\"Salesforce CDP\",\"Salesforce (NYSE: CRM) is an enterprise cloud computing provider. The company supplies a customer relationship management service to businesses worldwide providing a technology platform for customers and developers to build and run business applications. Its clients use salesforce.com to manage their customer, sales, and operational data. Sales Cloud, Service Cloud, Marketing Cloud, Community Cloud, Salesforce Analytics, and App Cloud are the product developed by the platform. It primarily focuses on automotive, communication, healthcare, education, financial services, non-profit, media, and other industries. The company was founded in 1999 and is based in San Francisco, California.\"],[\"Machine Learning & Artificial Intelligence\",\"Data Generation & Labelling\",\"Scale\",\"Scale AI is an API for human labor that allows developers to enter requests for humans to complete menial, repetitive tasks that cannot be done by a computer. With Scale, developers can get information screened for duplicates and mismatches and have user-generated content moderated and categorized.\\n\"],[\"Infrastructure\",\"MGMT\\u002fMonitoring\",\"Cloudwatch\",\"Amazon Web Services (AWS) is a business unit within Amazon.com that provides an infrastructure platform for businesses in the form of cloud computing.\\n\"],[\"Analytics\",\"Data Analyst Platforms\",\"Microsoft\",\"Microsoft (NASDAQ: MSFT) provides, develops, and licenses consumer and enterprise software. The company develops, manufactures, and sells computer software, consumer electronics, and personal computers and services. It is known for its Windows operating systems, Office productivity suite, cloud-based Azure platforms, and many more. The company was founded in 1975 and is based in Redmond, Washington.\"],[\"Open Source Infrastructure\",\"AI Frameworks & Libraries\",\"Scikit-learn\",\"scikit-learn: machine learning in Python\\n\"],[\"Infrastructure\",\"Reverse ETL\",\"Census\",\"Census is a data automation platform that syncs data warehouses with relevant apps.\\n\"],[\"Open Source Infrastructure\",\"Databases\",\"InfluxDB\",\"Scalable datastore for metrics, events, and real-time analytics\\n\"],[\"Infrastructure\",\"NewSQL Databases\",\"Timescale\",\"Timescale is an open-source time-series database specifically designed for ease of use and complex queries that is fully compatible with Postgres. The company focuses on developers and businesses working with machine data and IoT. The company was founded in 2015 and is based in New York, New York.\"],[\"Infrastructure\",\"RDBMs\",\"SAP ASE\",\"SAP (FWB: SAP) (NYSE: SAP) is a multinational software corporation that makes enterprise software to manage business operations and customer relations.\\n\"],[\"Analytics\",\"Log Analytics\",\"Sumologic\",\"Sumo Logic (NASDAQ: SUMO) develops software, which helps organizations address the challenges and opportunities presented by digital transformation, applications development, and cloud computing. The platform assists organizations to automate the collection, ingestion, and analysis of application, infrastructure, security, and IoT data. The company was founded in 2010 and is based in Redwood City, California.\"],[\"Analytics\",\"Analytics - Visualization\",\"Streamlit\",\"Streamlit is an app framework specifically for machine learning and data science teams. Streamlit aims to turn data scripts into shareable web apps in pure Python. On March 2nd, 2022, Streamlit was acquired by Snowflake at a valuation of $800M.\"],[\"Open Source Infrastructure\",\"Streaming & Messaging\",\"Kafka\",null],[\"Machine Learning & Artificial Intelligence\",\"Horizontal AI\\u002fAGI\",\"Stability.ai\",\"Stability AI develops open AI models for image, language, audio, video, 3D, and biology. It is the developer of Stable Diffusion, a powerful, free and open-source text-to-image generator. It was founded in 2019 and is based in London, U.K.\"],[\"Analytics\",\"BI Platforms\",\"Tibco Spotfire\",\"TIBCO Software focuses on infrastructure and business intelligence software. It offers products such as TIBCO Cloud integration, TIBCO Cloud API management, TIBCO BusinessWorks, TIBCO BusinessConnect and more. The company caters to banking, credit union, energy, government, healthcare, insurance and more. TIBCO Software was founded in 1997 and is based in Palo Alto, California.\"],[\"Infrastructure\",\"Data Warehouses\",\"Snowflake\",\"Snowflake (NYSE: SNOW) provides a cloud data warehouse enabling enterprises to access structured and semi-structured data.\\n\"],[\"Infrastructure\",\"Real Time Databases\",\"Redis\",\"Redis provides a real-time data platform. It offers solutions for enterprise caching, session management, leaderboards, fraud detection, deduplication, and more. It serves retail, gaming, healthcare, and other sectors. It was founded in 2011 and is based in Mountain View, California.\"],[\"Machine Learning & Artificial Intelligence\",\"Horizontal AI\\u002fAGI\",\"Replicate\",\"Replicate runs machine learning models in the cloud. It allows people to share the machine learning models in a way that other people can use them. The company was founded in 2019 and is based in San Francisco, California.\"],[\"Open Source Infrastructure\",\"Stat Tools & Languages\",\"SciPy\",\"SciPy library main repository\\n\"],[\"Data Sources & APIs\",\"Location Intelligence\",\"Radar\",\"Radar is the location context platform powering location-based experiences for Fortune 500 companies across verticals like shopping & retail, food & dining, travel & transportation, and entertainment & sports.\"],[\"Open Source Infrastructure\",\"Logging & Monitoring\",\"Sentry\",\"Developer-first error tracking and performance monitoring\\n\"],[\"Infrastructure\",\"Data Warehouses\",\"Tabular\",\"Tabular is a cloud-native data platform designed to automate maintenance and optimization of data. It was founded in 2021 and is based in San Jose, California.\"],[\"Machine Learning & Artificial Intelligence\",\"Data Generation & Labelling\",\"Unity\",\"Unity (NYSE: U) develops a 3D development platform, giving developers around the world the tools to create interactive 2D, 3D, VR, and AR experiences. It offers software solutions to create, run, and monetize 2D and 3D content for mobile phones, tablets, PCs, consoles, and augmented and virtual reality devices. The company was founded in 2004 and is based in San Francisco, California.\"],[\"Machine Learning & Artificial Intelligence\",\"Data Science Platforms\",\"Sas\",\"SAS provides software and solutions for business analytics, data management, and AI, used to gather, manage, and analyze corporate information. It offers business analytics SaaS for a range of industries that include agriculture, banking, education, healthcare, insurance, life sciences, manufacturing, retail and consumer goods, public sector, sports, telecommunications and utility industries. The company was founded in 1976 and is based in Cary, North Carolina.\"],[\"Infrastructure\",\"Storage\",\"S3\",\"Amazon Web Services (AWS) is a business unit within Amazon.com that provides an infrastructure platform for businesses in the form of cloud computing.\\n\"],[\"Infrastructure\",\"ETL\\u002fELT\\u002fData Transformation\",\"AWS Glue\",\"Amazon Web Services (AWS) is a business unit within Amazon.com that provides an infrastructure platform for businesses in the form of cloud computing.\\n\"],[\"Infrastructure\",\"Database Abstraction\",\"Prisma\",\"Prisma is an open-source ORM for Node.js and TypeScript that helps developers build faster and make fewer errors. It supports JavaScript and TypeScript and has supported databases including PostgreSQL, MySQL, MariaDB, SQL Server, SQLite, and more recently, MongoDB. The company was founded in 2016 and is based in Berlin, Germany.\"],[\"Analytics\",\"Query Engine\",\"Dremio\",\"Dremio provides a data analytics platform that allows business users to curate precisely the data they need, from any data source, then accelerate analytical processing for BI tools, machine learning, data science, and SQL clients. The company was founded in 2015 and is based in Santa Clara, California.\"],[\"Open Source Infrastructure\",\"Frameworks\",\"Docker\",\"Define and run multi-container applications with Docker\\n\"],[\"Machine Learning & Artificial Intelligence\",\"Horizontal AI\\u002fAGI\",\"DeepMind\",\"DeepMind is a cutting edge artificial intelligence company. The company combines the best techniques from machine learning and systems neuroscience to build powerful general-purpose learning algorithms.\\n\"],[\"Open Source Infrastructure\",\"Streaming & Messaging\",\"Debezium\",\"Change data capture for a variety of databases. Please log issues at \\u003chttps:\\u002f\\u002fissues.redhat.com\\u002fbrowse\\u002fDBZ\\u003e.\\n\"],[\"Analytics\",\"Log Analytics\",\"Datadog\",\"Datadog (NASDAQ: DDOG) offers a monitoring and security platform for developers, information technology operations teams, and business users available in the cloud. The company collects data from servers, databases, applications, tools, and services to present a unified view of the infrastructure. These capabilities are provided on a SaaS-based monitoring and data analytics platform that enables multiple teams to work collaboratively on the infrastructure to avoid downtime, resolve performance problems and ensure that development and deployment cycles finish on time. The company was founded in 2010 and is based in New York, New York.\"],[\"Infrastructure\",\"NoSQL Databases\",\"Couchbase\",\"Couchbase (NASDAQ:BASE) provides a scalable NoSQL database. The solution includes a shared nothing architecture, a single node-type, a built in caching layer, true auto-sharding and a NoSQL mobile offering: Couchbase Mobile, a NoSQL mobile solution comprised of Couchbase Server, Couchbase Sync Gateway and Couchbase Lite. Couchbase Server and all Couchbase Mobile products are open source projects.\\n\"],[\"Infrastructure\",\"NoSQL Databases\",\"CosmosDB\",\"Microsoft Azure is a cloud computing service created by Microsoft for building, testing, deploying, and managing applications and services through Microsoft-managed data centers.\\n\"],[\"Machine Learning & Artificial Intelligence\",\"MLOps\",\"Cortex\",\"cortex provides containers as a service on AWS to deploy, manage, and scale containers without worrying about Kubernetes. It was founded in 2018 and is based in Oakland, California. On April 25th, 2022, cortex was acquired by Databricks. The terms of the transaction were not disclosed.\"],[\"Machine Learning & Artificial Intelligence\",\"Enterprise ML Platforms\",\"Continual\",\"Continual brings operational AI to the modern, warehouse-centric data stack. The company was founded in 2019 and is based in San Francisco, California.\"],[\"Infrastructure\",\"Streaming\\u002fIn-Memory\",\"Confluent\",\"Confluent (NASDAQ: CFLT) provides an Apache Kafka-based streaming platform for enterprises in industries such as retail, logistics, manufacturing, financial services, technology, and media to maximize the value of their data. Confluent Platform lets enterprises move data from isolated systems into a real-time data pipeline where they can act on it immediately.\\n\"],[\"Infrastructure\",\"Data Lakes\\u002fLakehouses\",\"Cloudera\",\"Cloudera provides enterprise data management solutions that offer a unified platform for data, an enterprise data hub built on Apache Hadoop. It provides enterprises one place to store, process, and analyze all their data, empowering them to extend the value of existing investments while enabling fundamental new ways to derive value from their data.\\n\"],[\"Infrastructure\",\"Real Time Databases\",\"Clickhouse\",\"ClickHouse provides an open-source, column-oriented Online analytical processing (OLAP) database management system that allows users to generate analytical reports using SQL queries. The company was founded in 2021 and is based in Redwood City, California.\"],[\"Analytics\",\"Data Analyst Platforms\",\"Canvas\",\"Canvas is a collaborative data exploration tool that helps business teams make decisions without SQL. It automates reporting and shares insights using spreadsheet abilities. It was founded in 2020 and is based in San Francisco, California.\"],[\"Data Sources & APIs\",\"Financial & Market Data\",\"Bloomberg\",\"Bloomberg is a source of information for businesses and professionals. They offer information via the Bloomberg Professional service and multimedia platforms. Per the company, Bloomberg's media services also cover the world with more than 2,200 news and multimedia professionals at 146 bureaus in 72 countries. Bloomberg also operates the Bloomberg Television 24-hour network which per Bloomberg reaches more than 200 million homes. The firm also operates Bloomberg Radio services which broadcast via Sirius XM Radio and 1worldspace satellite radio globally and on WBBR 1130AM in New York. They also operate Bloomberg Markets magazine, Bloomberg Businessweek magazine and the Bloomberg.com financial news and information web site.\"],[\"Infrastructure\",\"Data Warehouses\",\"Azure Synapse Analytics\",\"Microsoft Azure is a cloud computing service created by Microsoft for building, testing, deploying, and managing applications and services through Microsoft-managed data centers.\\n\"],[\"Infrastructure\",\"Storage\",\"Azure Storage\",\"Microsoft Azure is a cloud computing service created by Microsoft for building, testing, deploying, and managing applications and services through Microsoft-managed data centers.\\n\"],[\"Infrastructure\",\"ETL\\u002fELT\\u002fData Transformation\",\"Azure Data Factory\",\"Microsoft Azure is a cloud computing service created by Microsoft for building, testing, deploying, and managing applications and services through Microsoft-managed data centers.\\n\"],[\"Machine Learning & Artificial Intelligence\",\"AI Hardware\",\"Arm\",\"Arm designs the technology for advanced digital products, from wireless, networking, and consumer entertainment solutions to imaging, automotive, security, and storage devices. Its product offering includes RISC microprocessors, graphics processors, video engines, enabling software, cell libraries, embedded memories, high-speed connectivity products, peripherals, and development tools. The company was founded in 1990 and is based in Cambridge, U.K. In June 2018, Telco System acquired a majority stake in Arm.\"],[\"Infrastructure\",\"RDBMs\",\"Amazon RDS\",\"Amazon Web Services (AWS) is a business unit within Amazon.com that provides an infrastructure platform for businesses in the form of cloud computing.\\n\"],[\"Infrastructure\",\"Compute\",\"Amazon ECS\",\"Amazon Web Services (AWS) is a business unit within Amazon.com that provides an infrastructure platform for businesses in the form of cloud computing.\\n\"],[\"Analytics\",\"Data Analyst Platforms\",\"Alteryx\",\"Alteryx (NYSE: AYX) serves the self-service data analytics movement with a platform that can discover, prep, and analyze data, then deploy and share analytics at scale for deeper insights. The company was founded in 2010 and is based in Irvine, California.\"],[\"Analytics\",\"Data Analyst Platforms\",\"Airtable\",\"Airtable enables teams to create apps on top of shared data to power workflows. Users can bring their data together using integrations, extensible APIs, custom scripting and more. The company provides solutions to organizational departments within Marketing, Product Operations, Human Resources, Sales, Operations, Content Operations, FInance and more. It was founded in 2013 and is based in San Francisco, California.\"],[\"Open Source Infrastructure\",\"Open Source - Orchestration\",\"Airflow\",\"Apache Airflow - A platform to programmatically author, schedule, and monitor workflows\\n\"],[\"Infrastructure\",\"NoSQL Databases\",\"Aerospike\",\"Aerospike specializes in real-time NoSQL data solutions for any scale. Aerospike enterprises overcome seemingly impossible data bottlenecks to compete and win with a fraction of the infrastructure complexity and cost of legacy NoSQL databases. Aerospike empowers customers to instantly fight fraud; dramatically increase shopping cart size; deploy global digital payment networks; and deliver instant, one-to-one personalization for millions of customers.\\n\"],[\"Infrastructure\",\"Fully Managed\",\"Adverity\",\"Adverity offers a marketing and ETL platform that can connect and manage data sources, create data stack with data normalization, and calculate and clean up functionalities.\\n\"],[\"Infrastructure\",\"Infrastructure - Orchestration\",\"AWS Step Functions\",\"Amazon Web Services (AWS) is a business unit within Amazon.com that provides an infrastructure platform for businesses in the form of cloud computing.\\n\"],[\"Infrastructure\",\"Compute\",\"AWS Lambda\",\"Amazon Web Services (AWS) is a business unit within Amazon.com that provides an infrastructure platform for businesses in the form of cloud computing.\\n\"],[\"Infrastructure\",\"NoSQL Databases\",\"DynamoDB\",\"Amazon Web Services (AWS) is a business unit within Amazon.com that provides an infrastructure platform for businesses in the form of cloud computing.\\n\"],[\"Machine Learning & Artificial Intelligence\",\"Speech\",\"Eleven Labs\",\"Eleven Labs offers a platform for generating long-format speech in any voice and in any language. The company engages in the research and development of novel methods in voice artificial intelligence (AI) to make content in any language and voice. Eleven Labs was founded in 2022 and is based in Brooklyn, New York.\"],[\"Data Sources & APIs\",\"People\\u002fEntities\",\"Epsilon\",\"Epsilon provides marketing solutions that integrate data, creativity, and technologies for advertisers. The company was founded in 1969 and is based in Lafayette, Colorado.\"],[\"Infrastructure\",\"MPP DBs\",\"Exasol\",\"Exasol develops an in-memory database for analytics and data warehousing, and offers expertise in data insight and analytics. The in-memory analytic database combines in-memory, columnar compression and massively parallel processing. The company was founded in 2000 and is based in Nuremberg, Germany.\"],[\"Infrastructure\",\"Infrastructure - Orchestration\",\"Prefect\",\"Prefect Technologies is a workflow management system designed for modern infrastructure and powered by the open-source Prefect Core workflow engine.\\n\"],[\"Infrastructure\",\"Data Quality & Observability\",\"Precisely\",\"Precisely specializes in data integrity, providing accuracy and consistency in data for customers in more than 100 countries. Precisely’s data integration, data quality, location intelligence, and data enrichment products power better business decisions to create better outcomes. The company was founded in 1992 and is based in Burlington, Massachusetts.\"],[\"Open Source Infrastructure\",\"Logging & Monitoring\",\"OpenTelemetry\",\"OpenTelemetry makes robust, portable telemetry a built-in feature of cloud-native software.\\n\"],[\"Machine Learning & Artificial Intelligence\",\"Horizontal AI\\u002fAGI\",\"OpenAI\",\"OpenAI is an AI research and deployment company that discovers and enacts the path to safe artificial general intelligence. Focused on generative AI, the company is the creator of GPT, Dall-E, and chatGPT. Its Generative Pre-trained Transformer (GPT) products offer a large language model (LLM) that uses deep learning to produce human-like text. The company was founded in 2015 and is based in San Francisco, California.\"],[\"Infrastructure\",\"Privacy & Security\",\"OneTrust\",\"OneTrust operates as a software platform for privacy professionals. The platform operationalizes data privacy compliance and Privacy by Design. The web-based console helps automate privacy impact assessments and data mapping, identify privacy risks, and enforce risk management and control activities in an integrated and agile approach. The result is the ability to demonstrate accountability and compliance with EU's data protection requirements globally across privacy jurisdictions and frameworks. The company serves customers across a range of industries. The company was founded in 2016 and is based in Atlanta, Georgia.\"],[\"Analytics\",\"Analytics - Visualization\",\"Observable\",\"Observable empowers everyone to create, collaborate, and learn with data. People can discover insights faster and collaborate seamlessly with interactive Observable notebooks built for data analysis, visualization, and exploration. It is based in San Francisco, California.\\n\"],[\"Open Source Infrastructure\",\"AI Frameworks & Libraries\",\"ONNX\",\"Open standard for machine learning interoperability\\n\"],[\"Analytics\",\"BI Platforms\",\"Microstrategy\",\"MicroStrategy (Nasdaq: MSTR) is an independent business intelligence company with an enterprise analytics platform. It provides modern analytics on an open, comprehensive enterprise platform used by global brands in the Fortune Global 500. Optimized for cloud and on-premises deployments, the platform features HyperIntelligence®, a technology that overlays actionable enterprise data on popular business applications to help users make smarter and faster decisions. The company was founded in 1989 and is based in Vienna, Virginia.\"],[\"Analytics\",\"Crypto & Web 3 Analytics\",\"Merlin\",\"\\n\"],[\"Infrastructure\",\"ETL\\u002fELT\\u002fData Transformation\",\"Matillion\",\"Matillion provides data integration and transformation solution for cloud and cloud data warehouses. Its solutions include data transformation, data analytics, data integration, data lakes, data preparation, and data governance. The company serves enterprises and small and midsize businesses (SMBs). Matillion was founded in 2011 and is based in Altrincham, U.K.\"],[\"Open Source Infrastructure\",\"Data Ops\",\"Marquez\",\"Collect, aggregate, and visualize a data ecosystem's metadata\\n\"],[\"Open Source Infrastructure\",\"Databases\",\"MariaDB\",\"MariaDB server is a community developed fork of MySQL server. Started by core members of the original MySQL team, MariaDB actively works with outside developers to deliver the most featureful, stable, and sanely licensed open SQL server in the industry.\\n\"],[\"Open Source Infrastructure\",\"AI Frameworks & Libraries\",\"MLLib\",\"Apache Spark - A unified analytics engine for large-scale data processing\\n\"],[\"Open Source Infrastructure\",\"Streaming & Messaging\",\"Pulsar\",\"Apache Pulsar - distributed pub-sub messaging system\\n\"],[\"Open Source Infrastructure\",\"MLOps & AI Infra\",\"MLFlow\",\"Open source platform for the machine learning lifecycle\\n\"],[\"Open Source Infrastructure\",\"Logging & Monitoring\",\"Logstash\",\"Logstash - transport and process your logs, events, or other data\\n\"],[\"Open Source Infrastructure\",\"MLOps & AI Infra\",\"KubeFlow\",\"Machine Learning Toolkit for Kubernetes\\n\"],[\"Analytics\",\"Log Analytics\",\"Kibana\",\"Elastic is a search engine based on Lucene. It provides a distributed, multitenant-capable full-text search engine with an HTTP web interface and schema-free JSON documents.\\n\"],[\"Open Source Infrastructure\",\"Collaboration\",\"Jupyter\",\"Jupyter Interactive Notebook\\n\"],[\"Machine Learning & Artificial Intelligence\",\"MLOps\",\"Iterative\",\"Iterative offers DVC.org as an open source tool for data and models versioning for ML projects.\\n\"],[\"Open Source Infrastructure\",\"Format\",\"Iceberg\",\"Apache Iceberg\\n\"],[\"Open Source Infrastructure\",\"Query\\u002fDataflow\",\"Hive\",\"Apache Hive\\n\"],[\"Infrastructure\",\"ETL\\u002fELT\\u002fData Transformation\",\"Hevo Data\",\"Hevo Data is a fully automated, no-code data pipeline platform that helps organizations leverage data effortlessly. Hevo's end-to-end data pipeline platform enables users to pull data from all sources to the warehouse and run transformations for analytics to generate real-time data-driven business insights. The platform supports ready-to-use integrations across databases, SaaS applications, cloud storage, SDKs, and streaming services. The company was founded in 2017 and is based in San Francisco, California.\"],[\"Infrastructure\",\"Data Quality & Observability\",\"Great Expectations\",\"Great Expectations is a tool for validating, documenting, and profiling data to maintain quality and improve communication between teams. Its features include expectations, tests are docs and docs are tests, automated data profiling, battery-included data validation, pluggable and extensible. It was founded in 2017 and is based in San Francisco, California.\"],[\"Infrastructure\",\"Streaming\\u002fIn-Memory\",\"Google Cloud Dataflow\",\"Google Cloud Platform, offered by Google, is a suite of cloud computing services that runs on the same infrastructure that Google uses internally for its end-user products.\\n\"],[\"Infrastructure\",\"ETL\\u002fELT\\u002fData Transformation\",\"Google Cloud Data Fusion\",\"Google Cloud Platform, offered by Google, is a suite of cloud computing services that runs on the same infrastructure that Google uses internally for its end-user products.\\n\"],[\"Machine Learning & Artificial Intelligence\",\"MLOps\",\"Giskard\",\"Giskard offers a collaborative and open-source software platform to ensure the quality of AI models. Its continuous integration and continuous delivery (CI\\u002fCD) platform help in the integration, uploading, evaluation, testing, and deployment of machine learning (ML) models. The company was founded in 2021 and is based in Paris, France.\"],[\"Open Source Infrastructure\",\"Open Source - Orchestration\",\"Flyte\",\"Kubernetes-native workflow automation platform for complex, mission-critical data and ML processes at scale. It has been battle-tested at Lyft, Spotify, Freenome, and others and is truly open-source.\\n\"],[\"Analytics\",\"Analytics - Visualization\",\"Looker Studio\",\"\\n\"],[\"Analytics\",\"BI Platforms\",\"Looker\",\"Looker provides a SaaS unified platform for data that delivers business insights to every employee at the point of decision. It delivers applications through its platform, including Business Intelligence, business-specific solutions such as Digital Marketing Analytics and Web Event Analytics, and a flexible, embedded analytics framework. The solution also integrates data into the daily workflows of users to allow organizations to extract value from data at web scale. The company was founded in 2012 and is based in Santa Cruz, California.\"],[\"Open Source Infrastructure\",\"AI Frameworks & Libraries\",\"(?)\",\"(?)\"],[\"Machine Learning & Artificial Intelligence\",\"AI Hardware\",\"(?)\",\"(?)\"],[\"Analytics\",\"Analytics - Visualization\",\"(?)\",\"(?)\"],[\"Analytics\",\"BI Platforms\",\"(?)\",\"(?)\"],[\"Open Source Infrastructure\",\"Collaboration\",\"(?)\",\"(?)\"],[\"Infrastructure\",\"Compute\",\"(?)\",\"(?)\"],[\"Analytics\",\"Crypto & Web 3 Analytics\",\"Merlin\",\"\\n\"],[\"Analytics\",\"Customer Data Platforms\",\"(?)\",\"(?)\"],[\"Open Source Infrastructure\",\"Data Access\",\"DataHub\",\"The Metadata Platform for the Modern Data Stack\\n\"],[\"Analytics\",\"Data Analyst Platforms\",\"(?)\",\"(?)\"],[\"Machine Learning & Artificial Intelligence\",\"Data Generation & Labelling\",\"(?)\",\"(?)\"],[\"Infrastructure\",\"Data Governance & Catalog\",\"(?)\",\"(?)\"],[\"Infrastructure\",\"Data Integration\",\"(?)\",\"(?)\"],[\"Infrastructure\",\"Data Lakes\\u002fLakehouses\",\"(?)\",\"(?)\"],[\"Data Sources & APIs\",\"Data Marketplaces & Discovery\",\"Snowflake Data Exchange\",null],[\"Open Source Infrastructure\",\"Data Ops\",\"Marquez\",\"Collect, aggregate, and visualize a data ecosystem's metadata\\n\"],[\"Infrastructure\",\"Data Quality & Observability\",\"(?)\",\"(?)\"],[\"Machine Learning & Artificial Intelligence\",\"Data Science Notebooks\",\"Google Colab\",\"\\n\"],[\"Machine Learning & Artificial Intelligence\",\"Data Science Platforms\",\"(?)\",\"(?)\"],[\"Infrastructure\",\"Data Warehouses\",\"(?)\",\"(?)\"],[\"Infrastructure\",\"Database Abstraction\",\"(?)\",\"(?)\"],[\"Open Source Infrastructure\",\"Databases\",\"(?)\",\"(?)\"],[\"Infrastructure\",\"ETL\\u002fELT\\u002fData Transformation\",\"(?)\",\"(?)\"],[\"Machine Learning & Artificial Intelligence\",\"Enterprise ML Platforms\",\"(?)\",\"(?)\"],[\"Analytics\",\"Enterprise Search\",\"Elastic\",\"Elastic is a search engine based on Lucene. It provides a distributed, multitenant-capable full-text search engine with an HTTP web interface and schema-free JSON documents.\\n\"],[\"Data Sources & APIs\",\"Financial & Market Data\",\"Bloomberg\",\"Bloomberg is a source of information for businesses and professionals. They offer information via the Bloomberg Professional service and multimedia platforms. Per the company, Bloomberg's media services also cover the world with more than 2,200 news and multimedia professionals at 146 bureaus in 72 countries. Bloomberg also operates the Bloomberg Television 24-hour network which per Bloomberg reaches more than 200 million homes. The firm also operates Bloomberg Radio services which broadcast via Sirius XM Radio and 1worldspace satellite radio globally and on WBBR 1130AM in New York. They also operate Bloomberg Markets magazine, Bloomberg Businessweek magazine and the Bloomberg.com financial news and information web site.\"],[\"Open Source Infrastructure\",\"Format\",\"(?)\",\"(?)\"],[\"Open Source Infrastructure\",\"Frameworks\",\"(?)\",\"(?)\"],[\"Infrastructure\",\"Fully Managed\",\"Adverity\",\"Adverity offers a marketing and ETL platform that can connect and manage data sources, create data stack with data normalization, and calculate and clean up functionalities.\\n\"],[\"Machine Learning & Artificial Intelligence\",\"GPU Cloud\",\"Lambda\",\"\\n\"],[\"Infrastructure\",\"Graph DBs\",\"(?)\",\"(?)\"],[\"Machine Learning & Artificial Intelligence\",\"Horizontal AI\\u002fAGI\",\"(?)\",\"(?)\"],[\"Open Source Infrastructure\",\"Infrastructure\",\"Zookeeper\",\"Apache ZooKeeper\\n\"],[\"Infrastructure\",\"Infrastructure - Orchestration\",\"(?)\",\"(?)\"],[\"Data Sources & APIs\",\"Location Intelligence\",\"(?)\",\"(?)\"],[\"Analytics\",\"Log Analytics\",\"(?)\",\"(?)\"],[\"Open Source Infrastructure\",\"Logging & Monitoring\",\"(?)\",\"(?)\"],[\"Infrastructure\",\"MGMT\\u002fMonitoring\",\"(?)\",\"(?)\"],[\"Machine Learning & Artificial Intelligence\",\"MLOps\",\"(?)\",\"(?)\"],[\"Open Source Infrastructure\",\"MLOps & AI Infra\",\"(?)\",\"(?)\"],[\"Infrastructure\",\"MPP DBs\",\"(?)\",\"(?)\"],[\"Machine Learning & Artificial Intelligence\",\"NLP\",\"Amazon Comprehend\",\"Amazon Web Services (AWS) is a business unit within Amazon.com that provides an infrastructure platform for businesses in the form of cloud computing.\\n\"],[\"Infrastructure\",\"NewSQL Databases\",\"(?)\",\"(?)\"],[\"Infrastructure\",\"NoSQL Databases\",\"(?)\",\"(?)\"],[\"Open Source Infrastructure\",\"OLAP\",\"(?)\",\"(?)\"],[\"Open Source Infrastructure\",\"Open Source - Orchestration\",\"(?)\",\"(?)\"],[\"Open Source Infrastructure\",\"Open Source Infra - Search\",\"(?)\",\"(?)\"],[\"Open Source Infrastructure\",\"Open Source Infra - Visualizations\",\"(?)\",\"(?)\"],[\"Data Sources & APIs\",\"People\\u002fEntities\",\"Epsilon\",\"Epsilon provides marketing solutions that integrate data, creativity, and technologies for advertisers. The company was founded in 1969 and is based in Lafayette, Colorado.\"],[\"Infrastructure\",\"Privacy & Security\",\"OneTrust\",\"OneTrust operates as a software platform for privacy professionals. The platform operationalizes data privacy compliance and Privacy by Design. The web-based console helps automate privacy impact assessments and data mapping, identify privacy risks, and enforce risk management and control activities in an integrated and agile approach. The result is the ability to demonstrate accountability and compliance with EU's data protection requirements globally across privacy jurisdictions and frameworks. The company serves customers across a range of industries. The company was founded in 2016 and is based in Atlanta, Georgia.\"],[\"Analytics\",\"Product Analytics\",\"(?)\",\"(?)\"],[\"Analytics\",\"Query Engine\",\"(?)\",\"(?)\"],[\"Open Source Infrastructure\",\"Query\\u002fDataflow\",\"(?)\",\"(?)\"],[\"Infrastructure\",\"RDBMs\",\"(?)\",\"(?)\"],[\"Infrastructure\",\"Real Time Databases\",\"(?)\",\"(?)\"],[\"Infrastructure\",\"Reverse ETL\",\"Census\",\"Census is a data automation platform that syncs data warehouses with relevant apps.\\n\"],[\"Machine Learning & Artificial Intelligence\",\"Speech\",\"(?)\",\"(?)\"],[\"Open Source Infrastructure\",\"Stat Tools & Languages\",\"(?)\",\"(?)\"],[\"Infrastructure\",\"Storage\",\"(?)\",\"(?)\"],[\"Open Source Infrastructure\",\"Streaming & Messaging\",\"(?)\",\"(?)\"],[\"Infrastructure\",\"Streaming\\u002fIn-Memory\",\"(?)\",\"(?)\"],[\"Analytics\",\"(?)\",\"(?)\",\"(?)\"],[\"Data Sources & APIs\",\"(?)\",\"(?)\",\"(?)\"],[\"Infrastructure\",\"(?)\",\"(?)\",\"(?)\"],[\"Machine Learning & Artificial Intelligence\",\"(?)\",\"(?)\",\"(?)\"],[\"Open Source Infrastructure\",\"(?)\",\"(?)\",\"(?)\"]],\"domain\":{\"x\":[0.0,1.0],\"y\":[0.0,1.0]},\"hovertemplate\":\"labels=%{label}\\u003cbr\\u003etotal=%{value}\\u003cbr\\u003eparent=%{parent}\\u003cbr\\u003eid=%{id}\\u003cextra\\u003e\\u003c\\u002fextra\\u003e\",\"ids\":[\"Open Source Infrastructure\\u002fDatabases\\u002fCassandra\",\"Open Source Infrastructure\\u002fOpen Source - Orchestration\\u002fArgo\",\"Infrastructure\\u002fMGMT\\u002fMonitoring\\u002fDynatrace\",\"Open Source Infrastructure\\u002fDatabases\\u002fCouchDB\",\"Open Source Infrastructure\\u002fOLAP\\u002fDruid\",\"Open Source Infrastructure\\u002fStreaming & Messaging\\u002fNifi\",\"Infrastructure\\u002fData Integration\\u002fDenodo\",\"Machine Learning & Artificial Intelligence\\u002fEnterprise ML Platforms\\u002fAzure Machine Learning\",\"Open Source Infrastructure\\u002fFormat\\u002fDelta Lake\",\"Analytics\\u002fLog Analytics\\u002fObserve\",\"Analytics\\u002fProduct Analytics\\u002fMixpanel\",\"Infrastructure\\u002fStorage\\u002fMinio\",\"Analytics\\u002fProduct Analytics\\u002fGoogle Analytics\",\"Machine Learning & Artificial Intelligence\\u002fEnterprise ML Platforms\\u002fDataiku\",\"Infrastructure\\u002fStreaming\\u002fIn-Memory\\u002fDatabricks\",\"Open Source Infrastructure\\u002fFrameworks\\u002fKubernetes\",\"Machine Learning & Artificial Intelligence\\u002fGPU Cloud\\u002fLambda\",\"Analytics\\u002fCustomer Data Platforms\\u002fTealium\",\"Infrastructure\\u002fETL\\u002fELT\\u002fData Transformation\\u002fTalend\",\"Machine Learning & Artificial Intelligence\\u002fHorizontal AI\\u002fAGI\\u002fCSM\",\"Infrastructure\\u002fRDBMs\\u002fIBM DB2\",\"Analytics\\u002fAnalytics - Visualization\\u002fTableau\",\"Infrastructure\\u002fMGMT\\u002fMonitoring\\u002fVeeam\",\"Open Source Infrastructure\\u002fFrameworks\\u002fYarn\",\"Machine Learning & Artificial Intelligence\\u002fNLP\\u002fAmazon Comprehend\",\"Open Source Infrastructure\\u002fLogging & Monitoring\\u002fVector\",\"Infrastructure\\u002fETL\\u002fELT\\u002fData Transformation\\u002fAirbyte\",\"Infrastructure\\u002fData Lakes\\u002fLakehouses\\u002fGoogle Cloud Dataproc\",\"Open Source Infrastructure\\u002fFrameworks\\u002fRay\",\"Open Source Infrastructure\\u002fLogging & Monitoring\\u002fPrometheus\",\"Open Source Infrastructure\\u002fStat Tools & Languages\\u002fR\",\"Analytics\\u002fBI Platforms\\u002fAmazon QuickSight\",\"Open Source Infrastructure\\u002fDatabases\\u002fHBase\",\"Open Source Infrastructure\\u002fStat Tools & Languages\\u002fPandas\",\"Open Source Infrastructure\\u002fAI Frameworks & Libraries\\u002fPyTorch\",\"Infrastructure\\u002fData Integration\\u002fSnowplow\",\"Machine Learning & Artificial Intelligence\\u002fSpeech\\u002fAlexa\",\"Open Source Infrastructure\\u002fMLOps & AI Infra\\u002fDVC\",\"Open Source Infrastructure\\u002fOpen Source Infra - Visualizations\\u002fSuperset\",\"Infrastructure\\u002fData Warehouses\\u002fRedShift\",\"Infrastructure\\u002fData Lakes\\u002fLakehouses\\u002fAmazon EMR\",\"Machine Learning & Artificial Intelligence\\u002fAI Hardware\\u002fNvidia\",\"Open Source Infrastructure\\u002fAI Frameworks & Libraries\\u002fKeras\",\"Infrastructure\\u002fNoSQL Databases\\u002fScyllaDB\",\"Open Source Infrastructure\\u002fQuery\\u002fDataflow\\u002fGraphQL\",\"Infrastructure\\u002fData Integration\\u002fInformatica\",\"Machine Learning & Artificial Intelligence\\u002fData Science Notebooks\\u002fGoogle Colab\",\"Infrastructure\\u002fData Integration\\u002fSnapLogic\",\"Open Source Infrastructure\\u002fMLOps & AI Infra\\u002fLangchain\",\"Data Sources & APIs\\u002fLocation Intelligence\\u002fmapbox\",\"Analytics\\u002fAnalytics - Visualization\\u002fGrid\",\"Open Source Infrastructure\\u002fFrameworks\\u002fHadoop HDFS\",\"Open Source Infrastructure\\u002fOpen Source - Orchestration\\u002fLuigi\",\"Data Sources & APIs\\u002fData Marketplaces & Discovery\\u002fSnowflake Data Exchange\",\"Machine Learning & Artificial Intelligence\\u002fHorizontal AI\\u002fAGI\\u002fIBM Watson\",\"Infrastructure\\u002fGraph DBs\\u002fneo4j\",\"Infrastructure\\u002fStreaming\\u002fIn-Memory\\u002fSAP HANA\",\"Open Source Infrastructure\\u002fStreaming & Messaging\\u002fRabbitMQ\",\"Open Source Infrastructure\\u002fQuery\\u002fDataflow\\u002fPresto\",\"Open Source Infrastructure\\u002fDatabases\\u002fPostgreSQL\",\"Infrastructure\\u002fETL\\u002fELT\\u002fData Transformation\\u002fPortable\",\"Analytics\\u002fAnalytics - Visualization\\u002fPlotly\",\"Open Source Infrastructure\\u002fFormat\\u002fParquet\",\"Open Source Infrastructure\\u002fFormat\\u002fOrc\",\"Infrastructure\\u002fRDBMs\\u002fOracle\",\"Open Source Infrastructure\\u002fAI Frameworks & Libraries\\u002fOpenCV\",\"Infrastructure\\u002fETL\\u002fELT\\u002fData Transformation\\u002fRivery\",\"Infrastructure\\u002fMGMT\\u002fMonitoring\\u002fRubrik\",\"Open Source Infrastructure\\u002fStat Tools & Languages\\u002fNumPy\",\"Infrastructure\\u002fMGMT\\u002fMonitoring\\u002fNew Relic\",\"Open Source Infrastructure\\u002fDatabases\\u002fMySQL\",\"Open Source Infrastructure\\u002fAI Frameworks & Libraries\\u002fMxnet\",\"Infrastructure\\u002fData Integration\\u002fMuleSoft\",\"Infrastructure\\u002fNoSQL Databases\\u002fMongoDB\",\"Machine Learning & Artificial Intelligence\\u002fEnterprise ML Platforms\\u002fModular\",\"Infrastructure\\u002fRDBMs\\u002fMicrosoft SQL Server\",\"Infrastructure\\u002fInfrastructure - Orchestration\\u002fMicrosoft Azure Data Factory\",\"Infrastructure\\u002fRDBMs\\u002fMicrosoft Access\",\"Analytics\\u002fBI Platforms\\u002fMetabase\",\"Infrastructure\\u002fETL\\u002fELT\\u002fData Transformation\\u002fMeltano\",\"Open Source Infrastructure\\u002fOpen Source Infra - Visualizations\\u002fMatplotlib\",\"Infrastructure\\u002fData Integration\\u002fSAP Data Services\",\"Machine Learning & Artificial Intelligence\\u002fMLOps\\u002fSageMaker\",\"Infrastructure\\u002fData Quality & Observability\\u002fSoda\",\"Infrastructure\\u002fData Warehouses\\u002fGoogle BigQuery\",\"Open Source Infrastructure\\u002fStat Tools & Languages\\u002fPython\",\"Open Source Infrastructure\\u002fAI Frameworks & Libraries\\u002fTensorFlow\",\"Infrastructure\\u002fData Governance & Catalog\\u002fCollibra\",\"Infrastructure\\u002fMGMT\\u002fMonitoring\\u002fSolarwinds\",\"Infrastructure\\u002fMPP DBs\\u002fTeradata\",\"Machine Learning & Artificial Intelligence\\u002fData Science Platforms\\u002fTibco\",\"Infrastructure\\u002fData Governance & Catalog\\u002fCastor\",\"Open Source Infrastructure\\u002fQuery\\u002fDataflow\\u002fBeam\",\"Analytics\\u002fAnalytics - Visualization\\u002fToucan Toco\",\"Analytics\\u002fData Analyst Platforms\\u002fTrace\",\"Infrastructure\\u002fData Lakes\\u002fLakehouses\\u002fAzure HD Insight\",\"Infrastructure\\u002fNewSQL Databases\\u002fAurora\",\"Analytics\\u002fBI Platforms\\u002fAtscale\",\"Analytics\\u002fQuery Engine\\u002fAthena\",\"Analytics\\u002fProduct Analytics\\u002fContentsquare\",\"Infrastructure\\u002fData Governance & Catalog\\u002fAtaccama\",\"Infrastructure\\u002fGraph DBs\\u002fArangoDB\",\"Infrastructure\\u002fDatabase Abstraction\\u002fApollo\",\"Open Source Infrastructure\\u002fQuery\\u002fDataflow\\u002fApache Pig\",\"Open Source Infrastructure\\u002fOLAP\\u002fApache Kylin\",\"Open Source Infrastructure\\u002fFormat\\u002fApache Arrow\",\"Infrastructure\\u002fGraph DBs\\u002fAmazon Neptune\",\"Infrastructure\\u002fStreaming\\u002fIn-Memory\\u002fAmazon Kinesis\",\"Infrastructure\\u002fCompute\\u002fAmazon EKS\",\"Infrastructure\\u002fMPP DBs\\u002fVertica, An OpenText Company\",\"Open Source Infrastructure\\u002fCollaboration\\u002fZeppelin\",\"Machine Learning & Artificial Intelligence\\u002fHorizontal AI\\u002fAGI\\u002fAdept\",\"Infrastructure\\u002fETL\\u002fELT\\u002fData Transformation\\u002fdbt Labs\",\"Open Source Infrastructure\\u002fStreaming & Messaging\\u002ffpower\",\"Infrastructure\\u002fMGMT\\u002fMonitoring\\u002fVMWare Aria\",\"Analytics\\u002fData Analyst Platforms\\u002fCube\",\"Analytics\\u002fBI Platforms\\u002fQlik\",\"Open Source Infrastructure\\u002fFrameworks\\u002fFlink\",\"Open Source Infrastructure\\u002fOpen Source Infra - Visualizations\\u002fD3\",\"Open Source Infrastructure\\u002fOpen Source Infra - Search\\u002fSolr\",\"Open Source Infrastructure\\u002fFrameworks\\u002fSpark\",\"Analytics\\u002fEnterprise Search\\u002fElastic\",\"Open Source Infrastructure\\u002fOpen Source - Orchestration\\u002fDagster\",\"Open Source Infrastructure\\u002fFrameworks\\u002fDask\",\"Open Source Infrastructure\\u002fData Access\\u002fDataHub\",\"Open Source Infrastructure\\u002fDatabases\\u002fFlume\",\"Analytics\\u002fLog Analytics\\u002fSplunk\",\"Infrastructure\\u002fDatabase Abstraction\\u002fSupabase\",\"Open Source Infrastructure\\u002fQuery\\u002fDataflow\\u002fSpark SQL\",\"Infrastructure\\u002fData Warehouses\\u002fIBM Db2 Warehouse\",\"Analytics\\u002fBI Platforms\\u002fIBM Cognos Analytics\",\"Infrastructure\\u002fData Governance & Catalog\\u002fIBM\",\"Analytics\\u002fProduct Analytics\\u002fAmplitude\",\"Open Source Infrastructure\\u002fOpen Source Infra - Search\\u002fLucene\",\"Infrastructure\\u002fETL\\u002fELT\\u002fData Transformation\\u002fFivetran\",\"Open Source Infrastructure\\u002fStreaming & Messaging\\u002fStorm\",\"Analytics\\u002fAnalytics - Visualization\\u002fPower BI\",\"Open Source Infrastructure\\u002fLogging & Monitoring\\u002fGrafana\",\"Open Source Infrastructure\\u002fInfrastructure\\u002fZookeeper\",\"Infrastructure\\u002fStorage\\u002fGoogle Cloud Storage\",\"Machine Learning & Artificial Intelligence\\u002fMLOps\\u002fValohai\",\"Open Source Infrastructure\\u002fStat Tools & Languages\\u002fScala\",\"Infrastructure\\u002fData Integration\\u002fStreamSets\",\"Infrastructure\\u002fCompute\\u002fAzure\",\"Analytics\\u002fCustomer Data Platforms\\u002fSalesforce CDP\",\"Machine Learning & Artificial Intelligence\\u002fData Generation & Labelling\\u002fScale\",\"Infrastructure\\u002fMGMT\\u002fMonitoring\\u002fCloudwatch\",\"Analytics\\u002fData Analyst Platforms\\u002fMicrosoft\",\"Open Source Infrastructure\\u002fAI Frameworks & Libraries\\u002fScikit-learn\",\"Infrastructure\\u002fReverse ETL\\u002fCensus\",\"Open Source Infrastructure\\u002fDatabases\\u002fInfluxDB\",\"Infrastructure\\u002fNewSQL Databases\\u002fTimescale\",\"Infrastructure\\u002fRDBMs\\u002fSAP ASE\",\"Analytics\\u002fLog Analytics\\u002fSumologic\",\"Analytics\\u002fAnalytics - Visualization\\u002fStreamlit\",\"Open Source Infrastructure\\u002fStreaming & Messaging\\u002fKafka\",\"Machine Learning & Artificial Intelligence\\u002fHorizontal AI\\u002fAGI\\u002fStability.ai\",\"Analytics\\u002fBI Platforms\\u002fTibco Spotfire\",\"Infrastructure\\u002fData Warehouses\\u002fSnowflake\",\"Infrastructure\\u002fReal Time Databases\\u002fRedis\",\"Machine Learning & Artificial Intelligence\\u002fHorizontal AI\\u002fAGI\\u002fReplicate\",\"Open Source Infrastructure\\u002fStat Tools & Languages\\u002fSciPy\",\"Data Sources & APIs\\u002fLocation Intelligence\\u002fRadar\",\"Open Source Infrastructure\\u002fLogging & Monitoring\\u002fSentry\",\"Infrastructure\\u002fData Warehouses\\u002fTabular\",\"Machine Learning & Artificial Intelligence\\u002fData Generation & Labelling\\u002fUnity\",\"Machine Learning & Artificial Intelligence\\u002fData Science Platforms\\u002fSas\",\"Infrastructure\\u002fStorage\\u002fS3\",\"Infrastructure\\u002fETL\\u002fELT\\u002fData Transformation\\u002fAWS Glue\",\"Infrastructure\\u002fDatabase Abstraction\\u002fPrisma\",\"Analytics\\u002fQuery Engine\\u002fDremio\",\"Open Source Infrastructure\\u002fFrameworks\\u002fDocker\",\"Machine Learning & Artificial Intelligence\\u002fHorizontal AI\\u002fAGI\\u002fDeepMind\",\"Open Source Infrastructure\\u002fStreaming & Messaging\\u002fDebezium\",\"Analytics\\u002fLog Analytics\\u002fDatadog\",\"Infrastructure\\u002fNoSQL Databases\\u002fCouchbase\",\"Infrastructure\\u002fNoSQL Databases\\u002fCosmosDB\",\"Machine Learning & Artificial Intelligence\\u002fMLOps\\u002fCortex\",\"Machine Learning & Artificial Intelligence\\u002fEnterprise ML Platforms\\u002fContinual\",\"Infrastructure\\u002fStreaming\\u002fIn-Memory\\u002fConfluent\",\"Infrastructure\\u002fData Lakes\\u002fLakehouses\\u002fCloudera\",\"Infrastructure\\u002fReal Time Databases\\u002fClickhouse\",\"Analytics\\u002fData Analyst Platforms\\u002fCanvas\",\"Data Sources & APIs\\u002fFinancial & Market Data\\u002fBloomberg\",\"Infrastructure\\u002fData Warehouses\\u002fAzure Synapse Analytics\",\"Infrastructure\\u002fStorage\\u002fAzure Storage\",\"Infrastructure\\u002fETL\\u002fELT\\u002fData Transformation\\u002fAzure Data Factory\",\"Machine Learning & Artificial Intelligence\\u002fAI Hardware\\u002fArm\",\"Infrastructure\\u002fRDBMs\\u002fAmazon RDS\",\"Infrastructure\\u002fCompute\\u002fAmazon ECS\",\"Analytics\\u002fData Analyst Platforms\\u002fAlteryx\",\"Analytics\\u002fData Analyst Platforms\\u002fAirtable\",\"Open Source Infrastructure\\u002fOpen Source - Orchestration\\u002fAirflow\",\"Infrastructure\\u002fNoSQL Databases\\u002fAerospike\",\"Infrastructure\\u002fFully Managed\\u002fAdverity\",\"Infrastructure\\u002fInfrastructure - Orchestration\\u002fAWS Step Functions\",\"Infrastructure\\u002fCompute\\u002fAWS Lambda\",\"Infrastructure\\u002fNoSQL Databases\\u002fDynamoDB\",\"Machine Learning & Artificial Intelligence\\u002fSpeech\\u002fEleven Labs\",\"Data Sources & APIs\\u002fPeople\\u002fEntities\\u002fEpsilon\",\"Infrastructure\\u002fMPP DBs\\u002fExasol\",\"Infrastructure\\u002fInfrastructure - Orchestration\\u002fPrefect\",\"Infrastructure\\u002fData Quality & Observability\\u002fPrecisely\",\"Open Source Infrastructure\\u002fLogging & Monitoring\\u002fOpenTelemetry\",\"Machine Learning & Artificial Intelligence\\u002fHorizontal AI\\u002fAGI\\u002fOpenAI\",\"Infrastructure\\u002fPrivacy & Security\\u002fOneTrust\",\"Analytics\\u002fAnalytics - Visualization\\u002fObservable\",\"Open Source Infrastructure\\u002fAI Frameworks & Libraries\\u002fONNX\",\"Analytics\\u002fBI Platforms\\u002fMicrostrategy\",\"Analytics\\u002fCrypto & Web 3 Analytics\\u002fMerlin\",\"Infrastructure\\u002fETL\\u002fELT\\u002fData Transformation\\u002fMatillion\",\"Open Source Infrastructure\\u002fData Ops\\u002fMarquez\",\"Open Source Infrastructure\\u002fDatabases\\u002fMariaDB\",\"Open Source Infrastructure\\u002fAI Frameworks & Libraries\\u002fMLLib\",\"Open Source Infrastructure\\u002fStreaming & Messaging\\u002fPulsar\",\"Open Source Infrastructure\\u002fMLOps & AI Infra\\u002fMLFlow\",\"Open Source Infrastructure\\u002fLogging & Monitoring\\u002fLogstash\",\"Open Source Infrastructure\\u002fMLOps & AI Infra\\u002fKubeFlow\",\"Analytics\\u002fLog Analytics\\u002fKibana\",\"Open Source Infrastructure\\u002fCollaboration\\u002fJupyter\",\"Machine Learning & Artificial Intelligence\\u002fMLOps\\u002fIterative\",\"Open Source Infrastructure\\u002fFormat\\u002fIceberg\",\"Open Source Infrastructure\\u002fQuery\\u002fDataflow\\u002fHive\",\"Infrastructure\\u002fETL\\u002fELT\\u002fData Transformation\\u002fHevo Data\",\"Infrastructure\\u002fData Quality & Observability\\u002fGreat Expectations\",\"Infrastructure\\u002fStreaming\\u002fIn-Memory\\u002fGoogle Cloud Dataflow\",\"Infrastructure\\u002fETL\\u002fELT\\u002fData Transformation\\u002fGoogle Cloud Data Fusion\",\"Machine Learning & Artificial Intelligence\\u002fMLOps\\u002fGiskard\",\"Open Source Infrastructure\\u002fOpen Source - Orchestration\\u002fFlyte\",\"Analytics\\u002fAnalytics - Visualization\\u002fLooker Studio\",\"Analytics\\u002fBI Platforms\\u002fLooker\",\"Open Source Infrastructure\\u002fAI Frameworks & Libraries\",\"Machine Learning & Artificial Intelligence\\u002fAI Hardware\",\"Analytics\\u002fAnalytics - Visualization\",\"Analytics\\u002fBI Platforms\",\"Open Source Infrastructure\\u002fCollaboration\",\"Infrastructure\\u002fCompute\",\"Analytics\\u002fCrypto & Web 3 Analytics\",\"Analytics\\u002fCustomer Data Platforms\",\"Open Source Infrastructure\\u002fData Access\",\"Analytics\\u002fData Analyst Platforms\",\"Machine Learning & Artificial Intelligence\\u002fData Generation & Labelling\",\"Infrastructure\\u002fData Governance & Catalog\",\"Infrastructure\\u002fData Integration\",\"Infrastructure\\u002fData Lakes\\u002fLakehouses\",\"Data Sources & APIs\\u002fData Marketplaces & Discovery\",\"Open Source Infrastructure\\u002fData Ops\",\"Infrastructure\\u002fData Quality & Observability\",\"Machine Learning & Artificial Intelligence\\u002fData Science Notebooks\",\"Machine Learning & Artificial Intelligence\\u002fData Science Platforms\",\"Infrastructure\\u002fData Warehouses\",\"Infrastructure\\u002fDatabase Abstraction\",\"Open Source Infrastructure\\u002fDatabases\",\"Infrastructure\\u002fETL\\u002fELT\\u002fData Transformation\",\"Machine Learning & Artificial Intelligence\\u002fEnterprise ML Platforms\",\"Analytics\\u002fEnterprise Search\",\"Data Sources & APIs\\u002fFinancial & Market Data\",\"Open Source Infrastructure\\u002fFormat\",\"Open Source Infrastructure\\u002fFrameworks\",\"Infrastructure\\u002fFully Managed\",\"Machine Learning & Artificial Intelligence\\u002fGPU Cloud\",\"Infrastructure\\u002fGraph DBs\",\"Machine Learning & Artificial Intelligence\\u002fHorizontal AI\\u002fAGI\",\"Open Source Infrastructure\\u002fInfrastructure\",\"Infrastructure\\u002fInfrastructure - Orchestration\",\"Data Sources & APIs\\u002fLocation Intelligence\",\"Analytics\\u002fLog Analytics\",\"Open Source Infrastructure\\u002fLogging & Monitoring\",\"Infrastructure\\u002fMGMT\\u002fMonitoring\",\"Machine Learning & Artificial Intelligence\\u002fMLOps\",\"Open Source Infrastructure\\u002fMLOps & AI Infra\",\"Infrastructure\\u002fMPP DBs\",\"Machine Learning & Artificial Intelligence\\u002fNLP\",\"Infrastructure\\u002fNewSQL Databases\",\"Infrastructure\\u002fNoSQL Databases\",\"Open Source Infrastructure\\u002fOLAP\",\"Open Source Infrastructure\\u002fOpen Source - Orchestration\",\"Open Source Infrastructure\\u002fOpen Source Infra - Search\",\"Open Source Infrastructure\\u002fOpen Source Infra - Visualizations\",\"Data Sources & APIs\\u002fPeople\\u002fEntities\",\"Infrastructure\\u002fPrivacy & Security\",\"Analytics\\u002fProduct Analytics\",\"Analytics\\u002fQuery Engine\",\"Open Source Infrastructure\\u002fQuery\\u002fDataflow\",\"Infrastructure\\u002fRDBMs\",\"Infrastructure\\u002fReal Time Databases\",\"Infrastructure\\u002fReverse ETL\",\"Machine Learning & Artificial Intelligence\\u002fSpeech\",\"Open Source Infrastructure\\u002fStat Tools & Languages\",\"Infrastructure\\u002fStorage\",\"Open Source Infrastructure\\u002fStreaming & Messaging\",\"Infrastructure\\u002fStreaming\\u002fIn-Memory\",\"Analytics\",\"Data Sources & APIs\",\"Infrastructure\",\"Machine Learning & Artificial Intelligence\",\"Open Source Infrastructure\"],\"labels\":[\"Cassandra\",\"Argo\",\"Dynatrace\",\"CouchDB\",\"Druid\",\"Nifi\",\"Denodo\",\"Azure Machine Learning\",\"Delta Lake\",\"Observe\",\"Mixpanel\",\"Minio\",\"Google Analytics\",\"Dataiku\",\"Databricks\",\"Kubernetes\",\"Lambda\",\"Tealium\",\"Talend\",\"CSM\",\"IBM DB2\",\"Tableau\",\"Veeam\",\"Yarn\",\"Amazon Comprehend\",\"Vector\",\"Airbyte\",\"Google Cloud Dataproc\",\"Ray\",\"Prometheus\",\"R\",\"Amazon QuickSight\",\"HBase\",\"Pandas\",\"PyTorch\",\"Snowplow\",\"Alexa\",\"DVC\",\"Superset\",\"RedShift\",\"Amazon EMR\",\"Nvidia\",\"Keras\",\"ScyllaDB\",\"GraphQL\",\"Informatica\",\"Google Colab\",\"SnapLogic\",\"Langchain\",\"mapbox\",\"Grid\",\"Hadoop HDFS\",\"Luigi\",\"Snowflake Data Exchange\",\"IBM Watson\",\"neo4j\",\"SAP HANA\",\"RabbitMQ\",\"Presto\",\"PostgreSQL\",\"Portable\",\"Plotly\",\"Parquet\",\"Orc\",\"Oracle\",\"OpenCV\",\"Rivery\",\"Rubrik\",\"NumPy\",\"New Relic\",\"MySQL\",\"Mxnet\",\"MuleSoft\",\"MongoDB\",\"Modular\",\"Microsoft SQL Server\",\"Microsoft Azure Data Factory\",\"Microsoft Access\",\"Metabase\",\"Meltano\",\"Matplotlib\",\"SAP Data Services\",\"SageMaker\",\"Soda\",\"Google BigQuery\",\"Python\",\"TensorFlow\",\"Collibra\",\"Solarwinds\",\"Teradata\",\"Tibco\",\"Castor\",\"Beam\",\"Toucan Toco\",\"Trace\",\"Azure HD Insight\",\"Aurora\",\"Atscale\",\"Athena\",\"Contentsquare\",\"Ataccama\",\"ArangoDB\",\"Apollo\",\"Apache Pig\",\"Apache Kylin\",\"Apache Arrow\",\"Amazon Neptune\",\"Amazon Kinesis\",\"Amazon EKS\",\"Vertica, An OpenText Company\",\"Zeppelin\",\"Adept\",\"dbt Labs\",\"fpower\",\"VMWare Aria\",\"Cube\",\"Qlik\",\"Flink\",\"D3\",\"Solr\",\"Spark\",\"Elastic\",\"Dagster\",\"Dask\",\"DataHub\",\"Flume\",\"Splunk\",\"Supabase\",\"Spark SQL\",\"IBM Db2 Warehouse\",\"IBM Cognos Analytics\",\"IBM\",\"Amplitude\",\"Lucene\",\"Fivetran\",\"Storm\",\"Power BI\",\"Grafana\",\"Zookeeper\",\"Google Cloud Storage\",\"Valohai\",\"Scala\",\"StreamSets\",\"Azure\",\"Salesforce CDP\",\"Scale\",\"Cloudwatch\",\"Microsoft\",\"Scikit-learn\",\"Census\",\"InfluxDB\",\"Timescale\",\"SAP ASE\",\"Sumologic\",\"Streamlit\",\"Kafka\",\"Stability.ai\",\"Tibco Spotfire\",\"Snowflake\",\"Redis\",\"Replicate\",\"SciPy\",\"Radar\",\"Sentry\",\"Tabular\",\"Unity\",\"Sas\",\"S3\",\"AWS Glue\",\"Prisma\",\"Dremio\",\"Docker\",\"DeepMind\",\"Debezium\",\"Datadog\",\"Couchbase\",\"CosmosDB\",\"Cortex\",\"Continual\",\"Confluent\",\"Cloudera\",\"Clickhouse\",\"Canvas\",\"Bloomberg\",\"Azure Synapse Analytics\",\"Azure Storage\",\"Azure Data Factory\",\"Arm\",\"Amazon RDS\",\"Amazon ECS\",\"Alteryx\",\"Airtable\",\"Airflow\",\"Aerospike\",\"Adverity\",\"AWS Step Functions\",\"AWS Lambda\",\"DynamoDB\",\"Eleven Labs\",\"Epsilon\",\"Exasol\",\"Prefect\",\"Precisely\",\"OpenTelemetry\",\"OpenAI\",\"OneTrust\",\"Observable\",\"ONNX\",\"Microstrategy\",\"Merlin\",\"Matillion\",\"Marquez\",\"MariaDB\",\"MLLib\",\"Pulsar\",\"MLFlow\",\"Logstash\",\"KubeFlow\",\"Kibana\",\"Jupyter\",\"Iterative\",\"Iceberg\",\"Hive\",\"Hevo Data\",\"Great Expectations\",\"Google Cloud Dataflow\",\"Google Cloud Data Fusion\",\"Giskard\",\"Flyte\",\"Looker Studio\",\"Looker\",\"AI Frameworks & Libraries\",\"AI Hardware\",\"Analytics - Visualization\",\"BI Platforms\",\"Collaboration\",\"Compute\",\"Crypto & Web 3 Analytics\",\"Customer Data Platforms\",\"Data Access\",\"Data Analyst Platforms\",\"Data Generation & Labelling\",\"Data Governance & Catalog\",\"Data Integration\",\"Data Lakes\\u002fLakehouses\",\"Data Marketplaces & Discovery\",\"Data Ops\",\"Data Quality & Observability\",\"Data Science Notebooks\",\"Data Science Platforms\",\"Data Warehouses\",\"Database Abstraction\",\"Databases\",\"ETL\\u002fELT\\u002fData Transformation\",\"Enterprise ML Platforms\",\"Enterprise Search\",\"Financial & Market Data\",\"Format\",\"Frameworks\",\"Fully Managed\",\"GPU Cloud\",\"Graph DBs\",\"Horizontal AI\\u002fAGI\",\"Infrastructure\",\"Infrastructure - Orchestration\",\"Location Intelligence\",\"Log Analytics\",\"Logging & Monitoring\",\"MGMT\\u002fMonitoring\",\"MLOps\",\"MLOps & AI Infra\",\"MPP DBs\",\"NLP\",\"NewSQL Databases\",\"NoSQL Databases\",\"OLAP\",\"Open Source - Orchestration\",\"Open Source Infra - Search\",\"Open Source Infra - Visualizations\",\"People\\u002fEntities\",\"Privacy & Security\",\"Product Analytics\",\"Query Engine\",\"Query\\u002fDataflow\",\"RDBMs\",\"Real Time Databases\",\"Reverse ETL\",\"Speech\",\"Stat Tools & Languages\",\"Storage\",\"Streaming & Messaging\",\"Streaming\\u002fIn-Memory\",\"Analytics\",\"Data Sources & APIs\",\"Infrastructure\",\"Machine Learning & Artificial Intelligence\",\"Open Source Infrastructure\"],\"marker\":{\"colors\":[\"rgb(102, 197, 204)\",\"rgb(102, 197, 204)\",\"rgb(246, 207, 113)\",\"rgb(102, 197, 204)\",\"rgb(102, 197, 204)\",\"rgb(102, 197, 204)\",\"rgb(246, 207, 113)\",\"rgb(248, 156, 116)\",\"rgb(102, 197, 204)\",\"rgb(220, 176, 242)\",\"rgb(220, 176, 242)\",\"rgb(246, 207, 113)\",\"rgb(220, 176, 242)\",\"rgb(248, 156, 116)\",\"rgb(246, 207, 113)\",\"rgb(102, 197, 204)\",\"rgb(248, 156, 116)\",\"rgb(220, 176, 242)\",\"rgb(246, 207, 113)\",\"rgb(248, 156, 116)\",\"rgb(246, 207, 113)\",\"rgb(220, 176, 242)\",\"rgb(246, 207, 113)\",\"rgb(102, 197, 204)\",\"rgb(248, 156, 116)\",\"rgb(102, 197, 204)\",\"rgb(246, 207, 113)\",\"rgb(246, 207, 113)\",\"rgb(102, 197, 204)\",\"rgb(102, 197, 204)\",\"rgb(102, 197, 204)\",\"rgb(220, 176, 242)\",\"rgb(102, 197, 204)\",\"rgb(102, 197, 204)\",\"rgb(102, 197, 204)\",\"rgb(246, 207, 113)\",\"rgb(248, 156, 116)\",\"rgb(102, 197, 204)\",\"rgb(102, 197, 204)\",\"rgb(246, 207, 113)\",\"rgb(246, 207, 113)\",\"rgb(248, 156, 116)\",\"rgb(102, 197, 204)\",\"rgb(246, 207, 113)\",\"rgb(102, 197, 204)\",\"rgb(246, 207, 113)\",\"rgb(248, 156, 116)\",\"rgb(246, 207, 113)\",\"rgb(102, 197, 204)\",\"rgb(135, 197, 95)\",\"rgb(220, 176, 242)\",\"rgb(102, 197, 204)\",\"rgb(102, 197, 204)\",\"rgb(135, 197, 95)\",\"rgb(248, 156, 116)\",\"rgb(246, 207, 113)\",\"rgb(246, 207, 113)\",\"rgb(102, 197, 204)\",\"rgb(102, 197, 204)\",\"rgb(102, 197, 204)\",\"rgb(246, 207, 113)\",\"rgb(220, 176, 242)\",\"rgb(102, 197, 204)\",\"rgb(102, 197, 204)\",\"rgb(246, 207, 113)\",\"rgb(102, 197, 204)\",\"rgb(246, 207, 113)\",\"rgb(246, 207, 113)\",\"rgb(102, 197, 204)\",\"rgb(246, 207, 113)\",\"rgb(102, 197, 204)\",\"rgb(102, 197, 204)\",\"rgb(246, 207, 113)\",\"rgb(246, 207, 113)\",\"rgb(248, 156, 116)\",\"rgb(246, 207, 113)\",\"rgb(246, 207, 113)\",\"rgb(246, 207, 113)\",\"rgb(220, 176, 242)\",\"rgb(246, 207, 113)\",\"rgb(102, 197, 204)\",\"rgb(246, 207, 113)\",\"rgb(248, 156, 116)\",\"rgb(246, 207, 113)\",\"rgb(246, 207, 113)\",\"rgb(102, 197, 204)\",\"rgb(102, 197, 204)\",\"rgb(246, 207, 113)\",\"rgb(246, 207, 113)\",\"rgb(246, 207, 113)\",\"rgb(248, 156, 116)\",\"rgb(246, 207, 113)\",\"rgb(102, 197, 204)\",\"rgb(220, 176, 242)\",\"rgb(220, 176, 242)\",\"rgb(246, 207, 113)\",\"rgb(246, 207, 113)\",\"rgb(220, 176, 242)\",\"rgb(220, 176, 242)\",\"rgb(220, 176, 242)\",\"rgb(246, 207, 113)\",\"rgb(246, 207, 113)\",\"rgb(246, 207, 113)\",\"rgb(102, 197, 204)\",\"rgb(102, 197, 204)\",\"rgb(102, 197, 204)\",\"rgb(246, 207, 113)\",\"rgb(246, 207, 113)\",\"rgb(246, 207, 113)\",\"rgb(246, 207, 113)\",\"rgb(102, 197, 204)\",\"rgb(248, 156, 116)\",\"rgb(246, 207, 113)\",\"rgb(102, 197, 204)\",\"rgb(246, 207, 113)\",\"rgb(220, 176, 242)\",\"rgb(220, 176, 242)\",\"rgb(102, 197, 204)\",\"rgb(102, 197, 204)\",\"rgb(102, 197, 204)\",\"rgb(102, 197, 204)\",\"rgb(220, 176, 242)\",\"rgb(102, 197, 204)\",\"rgb(102, 197, 204)\",\"rgb(102, 197, 204)\",\"rgb(102, 197, 204)\",\"rgb(220, 176, 242)\",\"rgb(246, 207, 113)\",\"rgb(102, 197, 204)\",\"rgb(246, 207, 113)\",\"rgb(220, 176, 242)\",\"rgb(246, 207, 113)\",\"rgb(220, 176, 242)\",\"rgb(102, 197, 204)\",\"rgb(246, 207, 113)\",\"rgb(102, 197, 204)\",\"rgb(220, 176, 242)\",\"rgb(102, 197, 204)\",\"rgb(102, 197, 204)\",\"rgb(246, 207, 113)\",\"rgb(248, 156, 116)\",\"rgb(102, 197, 204)\",\"rgb(246, 207, 113)\",\"rgb(246, 207, 113)\",\"rgb(220, 176, 242)\",\"rgb(248, 156, 116)\",\"rgb(246, 207, 113)\",\"rgb(220, 176, 242)\",\"rgb(102, 197, 204)\",\"rgb(246, 207, 113)\",\"rgb(102, 197, 204)\",\"rgb(246, 207, 113)\",\"rgb(246, 207, 113)\",\"rgb(220, 176, 242)\",\"rgb(220, 176, 242)\",\"rgb(102, 197, 204)\",\"rgb(248, 156, 116)\",\"rgb(220, 176, 242)\",\"rgb(246, 207, 113)\",\"rgb(246, 207, 113)\",\"rgb(248, 156, 116)\",\"rgb(102, 197, 204)\",\"rgb(135, 197, 95)\",\"rgb(102, 197, 204)\",\"rgb(246, 207, 113)\",\"rgb(248, 156, 116)\",\"rgb(248, 156, 116)\",\"rgb(246, 207, 113)\",\"rgb(246, 207, 113)\",\"rgb(246, 207, 113)\",\"rgb(220, 176, 242)\",\"rgb(102, 197, 204)\",\"rgb(248, 156, 116)\",\"rgb(102, 197, 204)\",\"rgb(220, 176, 242)\",\"rgb(246, 207, 113)\",\"rgb(246, 207, 113)\",\"rgb(248, 156, 116)\",\"rgb(248, 156, 116)\",\"rgb(246, 207, 113)\",\"rgb(246, 207, 113)\",\"rgb(246, 207, 113)\",\"rgb(220, 176, 242)\",\"rgb(135, 197, 95)\",\"rgb(246, 207, 113)\",\"rgb(246, 207, 113)\",\"rgb(246, 207, 113)\",\"rgb(248, 156, 116)\",\"rgb(246, 207, 113)\",\"rgb(246, 207, 113)\",\"rgb(220, 176, 242)\",\"rgb(220, 176, 242)\",\"rgb(102, 197, 204)\",\"rgb(246, 207, 113)\",\"rgb(246, 207, 113)\",\"rgb(246, 207, 113)\",\"rgb(246, 207, 113)\",\"rgb(246, 207, 113)\",\"rgb(248, 156, 116)\",\"rgb(135, 197, 95)\",\"rgb(246, 207, 113)\",\"rgb(246, 207, 113)\",\"rgb(246, 207, 113)\",\"rgb(102, 197, 204)\",\"rgb(248, 156, 116)\",\"rgb(246, 207, 113)\",\"rgb(220, 176, 242)\",\"rgb(102, 197, 204)\",\"rgb(220, 176, 242)\",\"rgb(220, 176, 242)\",\"rgb(246, 207, 113)\",\"rgb(102, 197, 204)\",\"rgb(102, 197, 204)\",\"rgb(102, 197, 204)\",\"rgb(102, 197, 204)\",\"rgb(102, 197, 204)\",\"rgb(102, 197, 204)\",\"rgb(102, 197, 204)\",\"rgb(220, 176, 242)\",\"rgb(102, 197, 204)\",\"rgb(248, 156, 116)\",\"rgb(102, 197, 204)\",\"rgb(102, 197, 204)\",\"rgb(246, 207, 113)\",\"rgb(246, 207, 113)\",\"rgb(246, 207, 113)\",\"rgb(246, 207, 113)\",\"rgb(248, 156, 116)\",\"rgb(102, 197, 204)\",\"rgb(220, 176, 242)\",\"rgb(220, 176, 242)\",\"rgb(102, 197, 204)\",\"rgb(248, 156, 116)\",\"rgb(220, 176, 242)\",\"rgb(220, 176, 242)\",\"rgb(102, 197, 204)\",\"rgb(246, 207, 113)\",\"rgb(220, 176, 242)\",\"rgb(220, 176, 242)\",\"rgb(102, 197, 204)\",\"rgb(220, 176, 242)\",\"rgb(248, 156, 116)\",\"rgb(246, 207, 113)\",\"rgb(246, 207, 113)\",\"rgb(246, 207, 113)\",\"rgb(135, 197, 95)\",\"rgb(102, 197, 204)\",\"rgb(246, 207, 113)\",\"rgb(248, 156, 116)\",\"rgb(248, 156, 116)\",\"rgb(246, 207, 113)\",\"rgb(246, 207, 113)\",\"rgb(102, 197, 204)\",\"rgb(246, 207, 113)\",\"rgb(248, 156, 116)\",\"rgb(220, 176, 242)\",\"rgb(135, 197, 95)\",\"rgb(102, 197, 204)\",\"rgb(102, 197, 204)\",\"rgb(246, 207, 113)\",\"rgb(248, 156, 116)\",\"rgb(246, 207, 113)\",\"rgb(248, 156, 116)\",\"rgb(102, 197, 204)\",\"rgb(246, 207, 113)\",\"rgb(135, 197, 95)\",\"rgb(220, 176, 242)\",\"rgb(102, 197, 204)\",\"rgb(246, 207, 113)\",\"rgb(248, 156, 116)\",\"rgb(102, 197, 204)\",\"rgb(246, 207, 113)\",\"rgb(248, 156, 116)\",\"rgb(246, 207, 113)\",\"rgb(246, 207, 113)\",\"rgb(102, 197, 204)\",\"rgb(102, 197, 204)\",\"rgb(102, 197, 204)\",\"rgb(102, 197, 204)\",\"rgb(135, 197, 95)\",\"rgb(246, 207, 113)\",\"rgb(220, 176, 242)\",\"rgb(220, 176, 242)\",\"rgb(102, 197, 204)\",\"rgb(246, 207, 113)\",\"rgb(246, 207, 113)\",\"rgb(246, 207, 113)\",\"rgb(248, 156, 116)\",\"rgb(102, 197, 204)\",\"rgb(246, 207, 113)\",\"rgb(102, 197, 204)\",\"rgb(246, 207, 113)\",\"rgb(220, 176, 242)\",\"rgb(135, 197, 95)\",\"rgb(246, 207, 113)\",\"rgb(248, 156, 116)\",\"rgb(102, 197, 204)\"]},\"name\":\"\",\"parents\":[\"Open Source Infrastructure\\u002fDatabases\",\"Open Source Infrastructure\\u002fOpen Source - Orchestration\",\"Infrastructure\\u002fMGMT\\u002fMonitoring\",\"Open Source Infrastructure\\u002fDatabases\",\"Open Source Infrastructure\\u002fOLAP\",\"Open Source Infrastructure\\u002fStreaming & Messaging\",\"Infrastructure\\u002fData Integration\",\"Machine Learning & Artificial Intelligence\\u002fEnterprise ML Platforms\",\"Open Source Infrastructure\\u002fFormat\",\"Analytics\\u002fLog Analytics\",\"Analytics\\u002fProduct Analytics\",\"Infrastructure\\u002fStorage\",\"Analytics\\u002fProduct Analytics\",\"Machine Learning & Artificial Intelligence\\u002fEnterprise ML Platforms\",\"Infrastructure\\u002fStreaming\\u002fIn-Memory\",\"Open Source Infrastructure\\u002fFrameworks\",\"Machine Learning & Artificial Intelligence\\u002fGPU Cloud\",\"Analytics\\u002fCustomer Data Platforms\",\"Infrastructure\\u002fETL\\u002fELT\\u002fData Transformation\",\"Machine Learning & Artificial Intelligence\\u002fHorizontal AI\\u002fAGI\",\"Infrastructure\\u002fRDBMs\",\"Analytics\\u002fAnalytics - Visualization\",\"Infrastructure\\u002fMGMT\\u002fMonitoring\",\"Open Source Infrastructure\\u002fFrameworks\",\"Machine Learning & Artificial Intelligence\\u002fNLP\",\"Open Source Infrastructure\\u002fLogging & Monitoring\",\"Infrastructure\\u002fETL\\u002fELT\\u002fData Transformation\",\"Infrastructure\\u002fData Lakes\\u002fLakehouses\",\"Open Source Infrastructure\\u002fFrameworks\",\"Open Source Infrastructure\\u002fLogging & Monitoring\",\"Open Source Infrastructure\\u002fStat Tools & Languages\",\"Analytics\\u002fBI Platforms\",\"Open Source Infrastructure\\u002fDatabases\",\"Open Source Infrastructure\\u002fStat Tools & Languages\",\"Open Source Infrastructure\\u002fAI Frameworks & Libraries\",\"Infrastructure\\u002fData Integration\",\"Machine Learning & Artificial Intelligence\\u002fSpeech\",\"Open Source Infrastructure\\u002fMLOps & AI Infra\",\"Open Source Infrastructure\\u002fOpen Source Infra - Visualizations\",\"Infrastructure\\u002fData Warehouses\",\"Infrastructure\\u002fData Lakes\\u002fLakehouses\",\"Machine Learning & Artificial Intelligence\\u002fAI Hardware\",\"Open Source Infrastructure\\u002fAI Frameworks & Libraries\",\"Infrastructure\\u002fNoSQL Databases\",\"Open Source Infrastructure\\u002fQuery\\u002fDataflow\",\"Infrastructure\\u002fData Integration\",\"Machine Learning & Artificial Intelligence\\u002fData Science Notebooks\",\"Infrastructure\\u002fData Integration\",\"Open Source Infrastructure\\u002fMLOps & AI Infra\",\"Data Sources & APIs\\u002fLocation Intelligence\",\"Analytics\\u002fAnalytics - Visualization\",\"Open Source Infrastructure\\u002fFrameworks\",\"Open Source Infrastructure\\u002fOpen Source - Orchestration\",\"Data Sources & APIs\\u002fData Marketplaces & Discovery\",\"Machine Learning & Artificial Intelligence\\u002fHorizontal AI\\u002fAGI\",\"Infrastructure\\u002fGraph DBs\",\"Infrastructure\\u002fStreaming\\u002fIn-Memory\",\"Open Source Infrastructure\\u002fStreaming & Messaging\",\"Open Source Infrastructure\\u002fQuery\\u002fDataflow\",\"Open Source Infrastructure\\u002fDatabases\",\"Infrastructure\\u002fETL\\u002fELT\\u002fData Transformation\",\"Analytics\\u002fAnalytics - Visualization\",\"Open Source Infrastructure\\u002fFormat\",\"Open Source Infrastructure\\u002fFormat\",\"Infrastructure\\u002fRDBMs\",\"Open Source Infrastructure\\u002fAI Frameworks & Libraries\",\"Infrastructure\\u002fETL\\u002fELT\\u002fData Transformation\",\"Infrastructure\\u002fMGMT\\u002fMonitoring\",\"Open Source Infrastructure\\u002fStat Tools & Languages\",\"Infrastructure\\u002fMGMT\\u002fMonitoring\",\"Open Source Infrastructure\\u002fDatabases\",\"Open Source Infrastructure\\u002fAI Frameworks & Libraries\",\"Infrastructure\\u002fData Integration\",\"Infrastructure\\u002fNoSQL Databases\",\"Machine Learning & Artificial Intelligence\\u002fEnterprise ML Platforms\",\"Infrastructure\\u002fRDBMs\",\"Infrastructure\\u002fInfrastructure - Orchestration\",\"Infrastructure\\u002fRDBMs\",\"Analytics\\u002fBI Platforms\",\"Infrastructure\\u002fETL\\u002fELT\\u002fData Transformation\",\"Open Source Infrastructure\\u002fOpen Source Infra - Visualizations\",\"Infrastructure\\u002fData Integration\",\"Machine Learning & Artificial Intelligence\\u002fMLOps\",\"Infrastructure\\u002fData Quality & Observability\",\"Infrastructure\\u002fData Warehouses\",\"Open Source Infrastructure\\u002fStat Tools & Languages\",\"Open Source Infrastructure\\u002fAI Frameworks & Libraries\",\"Infrastructure\\u002fData Governance & Catalog\",\"Infrastructure\\u002fMGMT\\u002fMonitoring\",\"Infrastructure\\u002fMPP DBs\",\"Machine Learning & Artificial Intelligence\\u002fData Science Platforms\",\"Infrastructure\\u002fData Governance & Catalog\",\"Open Source Infrastructure\\u002fQuery\\u002fDataflow\",\"Analytics\\u002fAnalytics - Visualization\",\"Analytics\\u002fData Analyst Platforms\",\"Infrastructure\\u002fData Lakes\\u002fLakehouses\",\"Infrastructure\\u002fNewSQL Databases\",\"Analytics\\u002fBI Platforms\",\"Analytics\\u002fQuery Engine\",\"Analytics\\u002fProduct Analytics\",\"Infrastructure\\u002fData Governance & Catalog\",\"Infrastructure\\u002fGraph DBs\",\"Infrastructure\\u002fDatabase Abstraction\",\"Open Source Infrastructure\\u002fQuery\\u002fDataflow\",\"Open Source Infrastructure\\u002fOLAP\",\"Open Source Infrastructure\\u002fFormat\",\"Infrastructure\\u002fGraph DBs\",\"Infrastructure\\u002fStreaming\\u002fIn-Memory\",\"Infrastructure\\u002fCompute\",\"Infrastructure\\u002fMPP DBs\",\"Open Source Infrastructure\\u002fCollaboration\",\"Machine Learning & Artificial Intelligence\\u002fHorizontal AI\\u002fAGI\",\"Infrastructure\\u002fETL\\u002fELT\\u002fData Transformation\",\"Open Source Infrastructure\\u002fStreaming & Messaging\",\"Infrastructure\\u002fMGMT\\u002fMonitoring\",\"Analytics\\u002fData Analyst Platforms\",\"Analytics\\u002fBI Platforms\",\"Open Source Infrastructure\\u002fFrameworks\",\"Open Source Infrastructure\\u002fOpen Source Infra - Visualizations\",\"Open Source Infrastructure\\u002fOpen Source Infra - Search\",\"Open Source Infrastructure\\u002fFrameworks\",\"Analytics\\u002fEnterprise Search\",\"Open Source Infrastructure\\u002fOpen Source - Orchestration\",\"Open Source Infrastructure\\u002fFrameworks\",\"Open Source Infrastructure\\u002fData Access\",\"Open Source Infrastructure\\u002fDatabases\",\"Analytics\\u002fLog Analytics\",\"Infrastructure\\u002fDatabase Abstraction\",\"Open Source Infrastructure\\u002fQuery\\u002fDataflow\",\"Infrastructure\\u002fData Warehouses\",\"Analytics\\u002fBI Platforms\",\"Infrastructure\\u002fData Governance & Catalog\",\"Analytics\\u002fProduct Analytics\",\"Open Source Infrastructure\\u002fOpen Source Infra - Search\",\"Infrastructure\\u002fETL\\u002fELT\\u002fData Transformation\",\"Open Source Infrastructure\\u002fStreaming & Messaging\",\"Analytics\\u002fAnalytics - Visualization\",\"Open Source Infrastructure\\u002fLogging & Monitoring\",\"Open Source Infrastructure\\u002fInfrastructure\",\"Infrastructure\\u002fStorage\",\"Machine Learning & Artificial Intelligence\\u002fMLOps\",\"Open Source Infrastructure\\u002fStat Tools & Languages\",\"Infrastructure\\u002fData Integration\",\"Infrastructure\\u002fCompute\",\"Analytics\\u002fCustomer Data Platforms\",\"Machine Learning & Artificial Intelligence\\u002fData Generation & Labelling\",\"Infrastructure\\u002fMGMT\\u002fMonitoring\",\"Analytics\\u002fData Analyst Platforms\",\"Open Source Infrastructure\\u002fAI Frameworks & Libraries\",\"Infrastructure\\u002fReverse ETL\",\"Open Source Infrastructure\\u002fDatabases\",\"Infrastructure\\u002fNewSQL Databases\",\"Infrastructure\\u002fRDBMs\",\"Analytics\\u002fLog Analytics\",\"Analytics\\u002fAnalytics - Visualization\",\"Open Source Infrastructure\\u002fStreaming & Messaging\",\"Machine Learning & Artificial Intelligence\\u002fHorizontal AI\\u002fAGI\",\"Analytics\\u002fBI Platforms\",\"Infrastructure\\u002fData Warehouses\",\"Infrastructure\\u002fReal Time Databases\",\"Machine Learning & Artificial Intelligence\\u002fHorizontal AI\\u002fAGI\",\"Open Source Infrastructure\\u002fStat Tools & Languages\",\"Data Sources & APIs\\u002fLocation Intelligence\",\"Open Source Infrastructure\\u002fLogging & Monitoring\",\"Infrastructure\\u002fData Warehouses\",\"Machine Learning & Artificial Intelligence\\u002fData Generation & Labelling\",\"Machine Learning & Artificial Intelligence\\u002fData Science Platforms\",\"Infrastructure\\u002fStorage\",\"Infrastructure\\u002fETL\\u002fELT\\u002fData Transformation\",\"Infrastructure\\u002fDatabase Abstraction\",\"Analytics\\u002fQuery Engine\",\"Open Source Infrastructure\\u002fFrameworks\",\"Machine Learning & Artificial Intelligence\\u002fHorizontal AI\\u002fAGI\",\"Open Source Infrastructure\\u002fStreaming & Messaging\",\"Analytics\\u002fLog Analytics\",\"Infrastructure\\u002fNoSQL Databases\",\"Infrastructure\\u002fNoSQL Databases\",\"Machine Learning & Artificial Intelligence\\u002fMLOps\",\"Machine Learning & Artificial Intelligence\\u002fEnterprise ML Platforms\",\"Infrastructure\\u002fStreaming\\u002fIn-Memory\",\"Infrastructure\\u002fData Lakes\\u002fLakehouses\",\"Infrastructure\\u002fReal Time Databases\",\"Analytics\\u002fData Analyst Platforms\",\"Data Sources & APIs\\u002fFinancial & Market Data\",\"Infrastructure\\u002fData Warehouses\",\"Infrastructure\\u002fStorage\",\"Infrastructure\\u002fETL\\u002fELT\\u002fData Transformation\",\"Machine Learning & Artificial Intelligence\\u002fAI Hardware\",\"Infrastructure\\u002fRDBMs\",\"Infrastructure\\u002fCompute\",\"Analytics\\u002fData Analyst Platforms\",\"Analytics\\u002fData Analyst Platforms\",\"Open Source Infrastructure\\u002fOpen Source - Orchestration\",\"Infrastructure\\u002fNoSQL Databases\",\"Infrastructure\\u002fFully Managed\",\"Infrastructure\\u002fInfrastructure - Orchestration\",\"Infrastructure\\u002fCompute\",\"Infrastructure\\u002fNoSQL Databases\",\"Machine Learning & Artificial Intelligence\\u002fSpeech\",\"Data Sources & APIs\\u002fPeople\\u002fEntities\",\"Infrastructure\\u002fMPP DBs\",\"Infrastructure\\u002fInfrastructure - Orchestration\",\"Infrastructure\\u002fData Quality & Observability\",\"Open Source Infrastructure\\u002fLogging & Monitoring\",\"Machine Learning & Artificial Intelligence\\u002fHorizontal AI\\u002fAGI\",\"Infrastructure\\u002fPrivacy & Security\",\"Analytics\\u002fAnalytics - Visualization\",\"Open Source Infrastructure\\u002fAI Frameworks & Libraries\",\"Analytics\\u002fBI Platforms\",\"Analytics\\u002fCrypto & Web 3 Analytics\",\"Infrastructure\\u002fETL\\u002fELT\\u002fData Transformation\",\"Open Source Infrastructure\\u002fData Ops\",\"Open Source Infrastructure\\u002fDatabases\",\"Open Source Infrastructure\\u002fAI Frameworks & Libraries\",\"Open Source Infrastructure\\u002fStreaming & Messaging\",\"Open Source Infrastructure\\u002fMLOps & AI Infra\",\"Open Source Infrastructure\\u002fLogging & Monitoring\",\"Open Source Infrastructure\\u002fMLOps & AI Infra\",\"Analytics\\u002fLog Analytics\",\"Open Source Infrastructure\\u002fCollaboration\",\"Machine Learning & Artificial Intelligence\\u002fMLOps\",\"Open Source Infrastructure\\u002fFormat\",\"Open Source Infrastructure\\u002fQuery\\u002fDataflow\",\"Infrastructure\\u002fETL\\u002fELT\\u002fData Transformation\",\"Infrastructure\\u002fData Quality & Observability\",\"Infrastructure\\u002fStreaming\\u002fIn-Memory\",\"Infrastructure\\u002fETL\\u002fELT\\u002fData Transformation\",\"Machine Learning & Artificial Intelligence\\u002fMLOps\",\"Open Source Infrastructure\\u002fOpen Source - Orchestration\",\"Analytics\\u002fAnalytics - Visualization\",\"Analytics\\u002fBI Platforms\",\"Open Source Infrastructure\",\"Machine Learning & Artificial Intelligence\",\"Analytics\",\"Analytics\",\"Open Source Infrastructure\",\"Infrastructure\",\"Analytics\",\"Analytics\",\"Open Source Infrastructure\",\"Analytics\",\"Machine Learning & Artificial Intelligence\",\"Infrastructure\",\"Infrastructure\",\"Infrastructure\",\"Data Sources & APIs\",\"Open Source Infrastructure\",\"Infrastructure\",\"Machine Learning & Artificial Intelligence\",\"Machine Learning & Artificial Intelligence\",\"Infrastructure\",\"Infrastructure\",\"Open Source Infrastructure\",\"Infrastructure\",\"Machine Learning & Artificial Intelligence\",\"Analytics\",\"Data Sources & APIs\",\"Open Source Infrastructure\",\"Open Source Infrastructure\",\"Infrastructure\",\"Machine Learning & Artificial Intelligence\",\"Infrastructure\",\"Machine Learning & Artificial Intelligence\",\"Open Source Infrastructure\",\"Infrastructure\",\"Data Sources & APIs\",\"Analytics\",\"Open Source Infrastructure\",\"Infrastructure\",\"Machine Learning & Artificial Intelligence\",\"Open Source Infrastructure\",\"Infrastructure\",\"Machine Learning & Artificial Intelligence\",\"Infrastructure\",\"Infrastructure\",\"Open Source Infrastructure\",\"Open Source Infrastructure\",\"Open Source Infrastructure\",\"Open Source Infrastructure\",\"Data Sources & APIs\",\"Infrastructure\",\"Analytics\",\"Analytics\",\"Open Source Infrastructure\",\"Infrastructure\",\"Infrastructure\",\"Infrastructure\",\"Machine Learning & Artificial Intelligence\",\"Open Source Infrastructure\",\"Infrastructure\",\"Open Source Infrastructure\",\"Infrastructure\",\"\",\"\",\"\",\"\",\"\"],\"values\":[38,5,2,1,7,21,7,2,9,1,2,2,14,28,115,336,30,2,112,11,1,129,1,10,2,6,12,3,2,9,86,3,21,52,29,1,1,4,3,58,19,8,15,1,24,53,5,3,1,3,12,1,2,121,1,20,2,22,4,123,5,5,14,1,54,4,1,1,29,6,41,2,3,77,7,52,67,1,15,2,4,1,7,1,73,1088,47,1,3,10,9,1,11,1,1,2,5,2,15,7,1,1,3,13,1,2,1,19,4,3,2,1,2,5,1,3,66,12,5,3,396,105,6,3,14,10,21,2,396,1,1,24,3,1,11,7,192,22,4,3,1,173,3,364,32,1,3,159,5,1,11,2,80,2,5,184,1,3,121,54,1,3,1,5,3,7,52,76,21,1,3,271,1,3,50,8,4,2,80,3,31,7,9,2,7,3,39,6,19,10,10,1,157,1,3,2,3,28,1,19,1,9,4,2,4,5,1,1,14,7,3,6,4,2,3,11,7,12,12,34,5,2,62,1,4,4,1,1,1,1,34,105,14,346,138,36,381,7,34,14,183,8,27,71,55,121,6,9,5,61,263,6,249,210,117,105,2,28,1031,3,30,22,20,4,78,4,86,51,17,16,28,14,2,7,119,8,171,4,12,19,5,26,18,510,207,61,1,2,1431,84,245,143,943,146,1783,275,3933],\"type\":\"treemap\"}],                        {\"template\":{\"data\":{\"histogram2dcontour\":[{\"type\":\"histogram2dcontour\",\"colorbar\":{\"outlinewidth\":0,\"ticks\":\"\"},\"colorscale\":[[0.0,\"#0d0887\"],[0.1111111111111111,\"#46039f\"],[0.2222222222222222,\"#7201a8\"],[0.3333333333333333,\"#9c179e\"],[0.4444444444444444,\"#bd3786\"],[0.5555555555555556,\"#d8576b\"],[0.6666666666666666,\"#ed7953\"],[0.7777777777777778,\"#fb9f3a\"],[0.8888888888888888,\"#fdca26\"],[1.0,\"#f0f921\"]]}],\"choropleth\":[{\"type\":\"choropleth\",\"colorbar\":{\"outlinewidth\":0,\"ticks\":\"\"}}],\"histogram2d\":[{\"type\":\"histogram2d\",\"colorbar\":{\"outlinewidth\":0,\"ticks\":\"\"},\"colorscale\":[[0.0,\"#0d0887\"],[0.1111111111111111,\"#46039f\"],[0.2222222222222222,\"#7201a8\"],[0.3333333333333333,\"#9c179e\"],[0.4444444444444444,\"#bd3786\"],[0.5555555555555556,\"#d8576b\"],[0.6666666666666666,\"#ed7953\"],[0.7777777777777778,\"#fb9f3a\"],[0.8888888888888888,\"#fdca26\"],[1.0,\"#f0f921\"]]}],\"heatmap\":[{\"type\":\"heatmap\",\"colorbar\":{\"outlinewidth\":0,\"ticks\":\"\"},\"colorscale\":[[0.0,\"#0d0887\"],[0.1111111111111111,\"#46039f\"],[0.2222222222222222,\"#7201a8\"],[0.3333333333333333,\"#9c179e\"],[0.4444444444444444,\"#bd3786\"],[0.5555555555555556,\"#d8576b\"],[0.6666666666666666,\"#ed7953\"],[0.7777777777777778,\"#fb9f3a\"],[0.8888888888888888,\"#fdca26\"],[1.0,\"#f0f921\"]]}],\"heatmapgl\":[{\"type\":\"heatmapgl\",\"colorbar\":{\"outlinewidth\":0,\"ticks\":\"\"},\"colorscale\":[[0.0,\"#0d0887\"],[0.1111111111111111,\"#46039f\"],[0.2222222222222222,\"#7201a8\"],[0.3333333333333333,\"#9c179e\"],[0.4444444444444444,\"#bd3786\"],[0.5555555555555556,\"#d8576b\"],[0.6666666666666666,\"#ed7953\"],[0.7777777777777778,\"#fb9f3a\"],[0.8888888888888888,\"#fdca26\"],[1.0,\"#f0f921\"]]}],\"contourcarpet\":[{\"type\":\"contourcarpet\",\"colorbar\":{\"outlinewidth\":0,\"ticks\":\"\"}}],\"contour\":[{\"type\":\"contour\",\"colorbar\":{\"outlinewidth\":0,\"ticks\":\"\"},\"colorscale\":[[0.0,\"#0d0887\"],[0.1111111111111111,\"#46039f\"],[0.2222222222222222,\"#7201a8\"],[0.3333333333333333,\"#9c179e\"],[0.4444444444444444,\"#bd3786\"],[0.5555555555555556,\"#d8576b\"],[0.6666666666666666,\"#ed7953\"],[0.7777777777777778,\"#fb9f3a\"],[0.8888888888888888,\"#fdca26\"],[1.0,\"#f0f921\"]]}],\"surface\":[{\"type\":\"surface\",\"colorbar\":{\"outlinewidth\":0,\"ticks\":\"\"},\"colorscale\":[[0.0,\"#0d0887\"],[0.1111111111111111,\"#46039f\"],[0.2222222222222222,\"#7201a8\"],[0.3333333333333333,\"#9c179e\"],[0.4444444444444444,\"#bd3786\"],[0.5555555555555556,\"#d8576b\"],[0.6666666666666666,\"#ed7953\"],[0.7777777777777778,\"#fb9f3a\"],[0.8888888888888888,\"#fdca26\"],[1.0,\"#f0f921\"]]}],\"mesh3d\":[{\"type\":\"mesh3d\",\"colorbar\":{\"outlinewidth\":0,\"ticks\":\"\"}}],\"scatter\":[{\"fillpattern\":{\"fillmode\":\"overlay\",\"size\":10,\"solidity\":0.2},\"type\":\"scatter\"}],\"parcoords\":[{\"type\":\"parcoords\",\"line\":{\"colorbar\":{\"outlinewidth\":0,\"ticks\":\"\"}}}],\"scatterpolargl\":[{\"type\":\"scatterpolargl\",\"marker\":{\"colorbar\":{\"outlinewidth\":0,\"ticks\":\"\"}}}],\"bar\":[{\"error_x\":{\"color\":\"#2a3f5f\"},\"error_y\":{\"color\":\"#2a3f5f\"},\"marker\":{\"line\":{\"color\":\"#E5ECF6\",\"width\":0.5},\"pattern\":{\"fillmode\":\"overlay\",\"size\":10,\"solidity\":0.2}},\"type\":\"bar\"}],\"scattergeo\":[{\"type\":\"scattergeo\",\"marker\":{\"colorbar\":{\"outlinewidth\":0,\"ticks\":\"\"}}}],\"scatterpolar\":[{\"type\":\"scatterpolar\",\"marker\":{\"colorbar\":{\"outlinewidth\":0,\"ticks\":\"\"}}}],\"histogram\":[{\"marker\":{\"pattern\":{\"fillmode\":\"overlay\",\"size\":10,\"solidity\":0.2}},\"type\":\"histogram\"}],\"scattergl\":[{\"type\":\"scattergl\",\"marker\":{\"colorbar\":{\"outlinewidth\":0,\"ticks\":\"\"}}}],\"scatter3d\":[{\"type\":\"scatter3d\",\"line\":{\"colorbar\":{\"outlinewidth\":0,\"ticks\":\"\"}},\"marker\":{\"colorbar\":{\"outlinewidth\":0,\"ticks\":\"\"}}}],\"scattermapbox\":[{\"type\":\"scattermapbox\",\"marker\":{\"colorbar\":{\"outlinewidth\":0,\"ticks\":\"\"}}}],\"scatterternary\":[{\"type\":\"scatterternary\",\"marker\":{\"colorbar\":{\"outlinewidth\":0,\"ticks\":\"\"}}}],\"scattercarpet\":[{\"type\":\"scattercarpet\",\"marker\":{\"colorbar\":{\"outlinewidth\":0,\"ticks\":\"\"}}}],\"carpet\":[{\"aaxis\":{\"endlinecolor\":\"#2a3f5f\",\"gridcolor\":\"white\",\"linecolor\":\"white\",\"minorgridcolor\":\"white\",\"startlinecolor\":\"#2a3f5f\"},\"baxis\":{\"endlinecolor\":\"#2a3f5f\",\"gridcolor\":\"white\",\"linecolor\":\"white\",\"minorgridcolor\":\"white\",\"startlinecolor\":\"#2a3f5f\"},\"type\":\"carpet\"}],\"table\":[{\"cells\":{\"fill\":{\"color\":\"#EBF0F8\"},\"line\":{\"color\":\"white\"}},\"header\":{\"fill\":{\"color\":\"#C8D4E3\"},\"line\":{\"color\":\"white\"}},\"type\":\"table\"}],\"barpolar\":[{\"marker\":{\"line\":{\"color\":\"#E5ECF6\",\"width\":0.5},\"pattern\":{\"fillmode\":\"overlay\",\"size\":10,\"solidity\":0.2}},\"type\":\"barpolar\"}],\"pie\":[{\"automargin\":true,\"type\":\"pie\"}]},\"layout\":{\"autotypenumbers\":\"strict\",\"colorway\":[\"#636efa\",\"#EF553B\",\"#00cc96\",\"#ab63fa\",\"#FFA15A\",\"#19d3f3\",\"#FF6692\",\"#B6E880\",\"#FF97FF\",\"#FECB52\"],\"font\":{\"color\":\"#2a3f5f\"},\"hovermode\":\"closest\",\"hoverlabel\":{\"align\":\"left\"},\"paper_bgcolor\":\"white\",\"plot_bgcolor\":\"#E5ECF6\",\"polar\":{\"bgcolor\":\"#E5ECF6\",\"angularaxis\":{\"gridcolor\":\"white\",\"linecolor\":\"white\",\"ticks\":\"\"},\"radialaxis\":{\"gridcolor\":\"white\",\"linecolor\":\"white\",\"ticks\":\"\"}},\"ternary\":{\"bgcolor\":\"#E5ECF6\",\"aaxis\":{\"gridcolor\":\"white\",\"linecolor\":\"white\",\"ticks\":\"\"},\"baxis\":{\"gridcolor\":\"white\",\"linecolor\":\"white\",\"ticks\":\"\"},\"caxis\":{\"gridcolor\":\"white\",\"linecolor\":\"white\",\"ticks\":\"\"}},\"coloraxis\":{\"colorbar\":{\"outlinewidth\":0,\"ticks\":\"\"}},\"colorscale\":{\"sequential\":[[0.0,\"#0d0887\"],[0.1111111111111111,\"#46039f\"],[0.2222222222222222,\"#7201a8\"],[0.3333333333333333,\"#9c179e\"],[0.4444444444444444,\"#bd3786\"],[0.5555555555555556,\"#d8576b\"],[0.6666666666666666,\"#ed7953\"],[0.7777777777777778,\"#fb9f3a\"],[0.8888888888888888,\"#fdca26\"],[1.0,\"#f0f921\"]],\"sequentialminus\":[[0.0,\"#0d0887\"],[0.1111111111111111,\"#46039f\"],[0.2222222222222222,\"#7201a8\"],[0.3333333333333333,\"#9c179e\"],[0.4444444444444444,\"#bd3786\"],[0.5555555555555556,\"#d8576b\"],[0.6666666666666666,\"#ed7953\"],[0.7777777777777778,\"#fb9f3a\"],[0.8888888888888888,\"#fdca26\"],[1.0,\"#f0f921\"]],\"diverging\":[[0,\"#8e0152\"],[0.1,\"#c51b7d\"],[0.2,\"#de77ae\"],[0.3,\"#f1b6da\"],[0.4,\"#fde0ef\"],[0.5,\"#f7f7f7\"],[0.6,\"#e6f5d0\"],[0.7,\"#b8e186\"],[0.8,\"#7fbc41\"],[0.9,\"#4d9221\"],[1,\"#276419\"]]},\"xaxis\":{\"gridcolor\":\"white\",\"linecolor\":\"white\",\"ticks\":\"\",\"title\":{\"standoff\":15},\"zerolinecolor\":\"white\",\"automargin\":true,\"zerolinewidth\":2},\"yaxis\":{\"gridcolor\":\"white\",\"linecolor\":\"white\",\"ticks\":\"\",\"title\":{\"standoff\":15},\"zerolinecolor\":\"white\",\"automargin\":true,\"zerolinewidth\":2},\"scene\":{\"xaxis\":{\"backgroundcolor\":\"#E5ECF6\",\"gridcolor\":\"white\",\"linecolor\":\"white\",\"showbackground\":true,\"ticks\":\"\",\"zerolinecolor\":\"white\",\"gridwidth\":2},\"yaxis\":{\"backgroundcolor\":\"#E5ECF6\",\"gridcolor\":\"white\",\"linecolor\":\"white\",\"showbackground\":true,\"ticks\":\"\",\"zerolinecolor\":\"white\",\"gridwidth\":2},\"zaxis\":{\"backgroundcolor\":\"#E5ECF6\",\"gridcolor\":\"white\",\"linecolor\":\"white\",\"showbackground\":true,\"ticks\":\"\",\"zerolinecolor\":\"white\",\"gridwidth\":2}},\"shapedefaults\":{\"line\":{\"color\":\"#2a3f5f\"}},\"annotationdefaults\":{\"arrowcolor\":\"#2a3f5f\",\"arrowhead\":0,\"arrowwidth\":1},\"geo\":{\"bgcolor\":\"white\",\"landcolor\":\"#E5ECF6\",\"subunitcolor\":\"white\",\"showland\":true,\"showlakes\":true,\"lakecolor\":\"white\"},\"title\":{\"x\":0.05},\"mapbox\":{\"style\":\"light\"}}},\"legend\":{\"tracegroupgap\":0},\"margin\":{\"t\":60},\"treemapcolorway\":[\"rgb(102, 197, 204)\",\"rgb(246, 207, 113)\",\"rgb(248, 156, 116)\",\"rgb(220, 176, 242)\",\"rgb(135, 197, 95)\",\"rgb(158, 185, 243)\",\"rgb(254, 136, 177)\",\"rgb(201, 219, 116)\",\"rgb(139, 224, 164)\",\"rgb(180, 151, 231)\",\"rgb(179, 179, 179)\"],\"height\":800},                        {\"responsive\": true}                    ).then(function(){\n",
       "                            \n",
       "var gd = document.getElementById('d3886655-12b8-4a6f-8b58-c6fa13bd9882');\n",
       "var x = new MutationObserver(function (mutations, observer) {{\n",
       "        var display = window.getComputedStyle(gd).display;\n",
       "        if (!display || display === 'none') {{\n",
       "            console.log([gd, 'removed!']);\n",
       "            Plotly.purge(gd);\n",
       "            observer.disconnect();\n",
       "        }}\n",
       "}});\n",
       "\n",
       "// Listen for the removal of the full notebook cells\n",
       "var notebookContainer = gd.closest('#notebook-container');\n",
       "if (notebookContainer) {{\n",
       "    x.observe(notebookContainer, {childList: true});\n",
       "}}\n",
       "\n",
       "// Listen for the clearing of the current output cell\n",
       "var outputEl = gd.closest('.output');\n",
       "if (outputEl) {{\n",
       "    x.observe(outputEl, {childList: true});\n",
       "}}\n",
       "\n",
       "                        })                };                });            </script>        </div>"
      ]
     },
     "metadata": {},
     "output_type": "display_data"
    }
   ],
   "source": [
    "fig = px.treemap(df, path=['category', 'subcategory', 'techno'], values='total', \n",
    "                 hover_data={'category':False, 'subcategory':False, 'techno':False, 'description': False},\n",
    "                height=800, color='category',\n",
    "                 color_discrete_sequence=px.colors.qualitative.Pastel)\n",
    "fig.show()"
   ]
  },
  {
   "cell_type": "code",
   "execution_count": 99,
   "id": "d3f7b02c-5845-42d9-93f1-389e3a3fef87",
   "metadata": {},
   "outputs": [
    {
     "data": {
      "text/plain": [
       "['Alphabet',\n",
       " 'Alphabet_r',\n",
       " 'Antique',\n",
       " 'Antique_r',\n",
       " 'Bold',\n",
       " 'Bold_r',\n",
       " 'D3',\n",
       " 'D3_r',\n",
       " 'Dark2',\n",
       " 'Dark24',\n",
       " 'Dark24_r',\n",
       " 'Dark2_r',\n",
       " 'G10',\n",
       " 'G10_r',\n",
       " 'Light24',\n",
       " 'Light24_r',\n",
       " 'Pastel',\n",
       " 'Pastel1',\n",
       " 'Pastel1_r',\n",
       " 'Pastel2',\n",
       " 'Pastel2_r',\n",
       " 'Pastel_r',\n",
       " 'Plotly',\n",
       " 'Plotly_r',\n",
       " 'Prism',\n",
       " 'Prism_r',\n",
       " 'Safe',\n",
       " 'Safe_r',\n",
       " 'Set1',\n",
       " 'Set1_r',\n",
       " 'Set2',\n",
       " 'Set2_r',\n",
       " 'Set3',\n",
       " 'Set3_r',\n",
       " 'T10',\n",
       " 'T10_r',\n",
       " 'Vivid',\n",
       " 'Vivid_r',\n",
       " '__all__',\n",
       " '__builtins__',\n",
       " '__cached__',\n",
       " '__doc__',\n",
       " '__file__',\n",
       " '__loader__',\n",
       " '__name__',\n",
       " '__package__',\n",
       " '__spec__',\n",
       " '_swatches',\n",
       " 'swatches']"
      ]
     },
     "execution_count": 99,
     "metadata": {},
     "output_type": "execute_result"
    }
   ],
   "source": [
    "dir(px.colors.qualitative)"
   ]
  },
  {
   "cell_type": "code",
   "execution_count": 75,
   "id": "b4ade81f-fd90-4159-ad28-4ed577c18f41",
   "metadata": {},
   "outputs": [
    {
     "data": {
      "application/vnd.plotly.v1+json": {
       "config": {
        "plotlyServerURL": "https://plot.ly"
       },
       "data": [
        {
         "branchvalues": "total",
         "domain": {
          "x": [
           0,
           1
          ],
          "y": [
           0,
           1
          ]
         },
         "hovertemplate": "labels=%{label}<br>total_bill=%{value}<br>parent=%{parent}<br>id=%{id}<extra></extra>",
         "ids": [
          "all/Fri/Dinner/Female",
          "all/Sat/Dinner/Female",
          "all/Sun/Dinner/Female",
          "all/Thur/Dinner/Female",
          "all/Fri/Lunch/Female",
          "all/Thur/Lunch/Female",
          "all/Fri/Dinner/Male",
          "all/Sat/Dinner/Male",
          "all/Sun/Dinner/Male",
          "all/Fri/Lunch/Male",
          "all/Thur/Lunch/Male",
          "all/Fri/Dinner",
          "all/Sat/Dinner",
          "all/Sun/Dinner",
          "all/Thur/Dinner",
          "all/Fri/Lunch",
          "all/Thur/Lunch",
          "all/Fri",
          "all/Sat",
          "all/Sun",
          "all/Thur",
          "all"
         ],
         "labels": [
          "Female",
          "Female",
          "Female",
          "Female",
          "Female",
          "Female",
          "Male",
          "Male",
          "Male",
          "Male",
          "Male",
          "Dinner",
          "Dinner",
          "Dinner",
          "Dinner",
          "Lunch",
          "Lunch",
          "Fri",
          "Sat",
          "Sun",
          "Thur",
          "all"
         ],
         "name": "",
         "parents": [
          "all/Fri/Dinner",
          "all/Sat/Dinner",
          "all/Sun/Dinner",
          "all/Thur/Dinner",
          "all/Fri/Lunch",
          "all/Thur/Lunch",
          "all/Fri/Dinner",
          "all/Sat/Dinner",
          "all/Sun/Dinner",
          "all/Fri/Lunch",
          "all/Thur/Lunch",
          "all/Fri",
          "all/Sat",
          "all/Sun",
          "all/Thur",
          "all/Fri",
          "all/Thur",
          "all",
          "all",
          "all",
          "all",
          ""
         ],
         "root": {
          "color": "lightgrey"
         },
         "type": "treemap",
         "values": [
          71.55,
          551.05,
          357.7,
          18.78,
          55.760000000000005,
          516.11,
          164.41,
          1227.35,
          1269.46,
          34.16,
          561.4399999999999,
          235.96,
          1778.4,
          1627.16,
          18.78,
          89.92,
          1077.55,
          325.88,
          1778.4,
          1627.16,
          1096.33,
          4827.7699999999995
         ]
        }
       ],
       "layout": {
        "autosize": true,
        "legend": {
         "tracegroupgap": 0
        },
        "margin": {
         "b": 25,
         "l": 25,
         "r": 25,
         "t": 50
        },
        "template": {
         "data": {
          "bar": [
           {
            "error_x": {
             "color": "#2a3f5f"
            },
            "error_y": {
             "color": "#2a3f5f"
            },
            "marker": {
             "line": {
              "color": "#E5ECF6",
              "width": 0.5
             },
             "pattern": {
              "fillmode": "overlay",
              "size": 10,
              "solidity": 0.2
             }
            },
            "type": "bar"
           }
          ],
          "barpolar": [
           {
            "marker": {
             "line": {
              "color": "#E5ECF6",
              "width": 0.5
             },
             "pattern": {
              "fillmode": "overlay",
              "size": 10,
              "solidity": 0.2
             }
            },
            "type": "barpolar"
           }
          ],
          "carpet": [
           {
            "aaxis": {
             "endlinecolor": "#2a3f5f",
             "gridcolor": "white",
             "linecolor": "white",
             "minorgridcolor": "white",
             "startlinecolor": "#2a3f5f"
            },
            "baxis": {
             "endlinecolor": "#2a3f5f",
             "gridcolor": "white",
             "linecolor": "white",
             "minorgridcolor": "white",
             "startlinecolor": "#2a3f5f"
            },
            "type": "carpet"
           }
          ],
          "choropleth": [
           {
            "colorbar": {
             "outlinewidth": 0,
             "ticks": ""
            },
            "type": "choropleth"
           }
          ],
          "contour": [
           {
            "colorbar": {
             "outlinewidth": 0,
             "ticks": ""
            },
            "colorscale": [
             [
              0,
              "#0d0887"
             ],
             [
              0.1111111111111111,
              "#46039f"
             ],
             [
              0.2222222222222222,
              "#7201a8"
             ],
             [
              0.3333333333333333,
              "#9c179e"
             ],
             [
              0.4444444444444444,
              "#bd3786"
             ],
             [
              0.5555555555555556,
              "#d8576b"
             ],
             [
              0.6666666666666666,
              "#ed7953"
             ],
             [
              0.7777777777777778,
              "#fb9f3a"
             ],
             [
              0.8888888888888888,
              "#fdca26"
             ],
             [
              1,
              "#f0f921"
             ]
            ],
            "type": "contour"
           }
          ],
          "contourcarpet": [
           {
            "colorbar": {
             "outlinewidth": 0,
             "ticks": ""
            },
            "type": "contourcarpet"
           }
          ],
          "heatmap": [
           {
            "colorbar": {
             "outlinewidth": 0,
             "ticks": ""
            },
            "colorscale": [
             [
              0,
              "#0d0887"
             ],
             [
              0.1111111111111111,
              "#46039f"
             ],
             [
              0.2222222222222222,
              "#7201a8"
             ],
             [
              0.3333333333333333,
              "#9c179e"
             ],
             [
              0.4444444444444444,
              "#bd3786"
             ],
             [
              0.5555555555555556,
              "#d8576b"
             ],
             [
              0.6666666666666666,
              "#ed7953"
             ],
             [
              0.7777777777777778,
              "#fb9f3a"
             ],
             [
              0.8888888888888888,
              "#fdca26"
             ],
             [
              1,
              "#f0f921"
             ]
            ],
            "type": "heatmap"
           }
          ],
          "heatmapgl": [
           {
            "colorbar": {
             "outlinewidth": 0,
             "ticks": ""
            },
            "colorscale": [
             [
              0,
              "#0d0887"
             ],
             [
              0.1111111111111111,
              "#46039f"
             ],
             [
              0.2222222222222222,
              "#7201a8"
             ],
             [
              0.3333333333333333,
              "#9c179e"
             ],
             [
              0.4444444444444444,
              "#bd3786"
             ],
             [
              0.5555555555555556,
              "#d8576b"
             ],
             [
              0.6666666666666666,
              "#ed7953"
             ],
             [
              0.7777777777777778,
              "#fb9f3a"
             ],
             [
              0.8888888888888888,
              "#fdca26"
             ],
             [
              1,
              "#f0f921"
             ]
            ],
            "type": "heatmapgl"
           }
          ],
          "histogram": [
           {
            "marker": {
             "pattern": {
              "fillmode": "overlay",
              "size": 10,
              "solidity": 0.2
             }
            },
            "type": "histogram"
           }
          ],
          "histogram2d": [
           {
            "colorbar": {
             "outlinewidth": 0,
             "ticks": ""
            },
            "colorscale": [
             [
              0,
              "#0d0887"
             ],
             [
              0.1111111111111111,
              "#46039f"
             ],
             [
              0.2222222222222222,
              "#7201a8"
             ],
             [
              0.3333333333333333,
              "#9c179e"
             ],
             [
              0.4444444444444444,
              "#bd3786"
             ],
             [
              0.5555555555555556,
              "#d8576b"
             ],
             [
              0.6666666666666666,
              "#ed7953"
             ],
             [
              0.7777777777777778,
              "#fb9f3a"
             ],
             [
              0.8888888888888888,
              "#fdca26"
             ],
             [
              1,
              "#f0f921"
             ]
            ],
            "type": "histogram2d"
           }
          ],
          "histogram2dcontour": [
           {
            "colorbar": {
             "outlinewidth": 0,
             "ticks": ""
            },
            "colorscale": [
             [
              0,
              "#0d0887"
             ],
             [
              0.1111111111111111,
              "#46039f"
             ],
             [
              0.2222222222222222,
              "#7201a8"
             ],
             [
              0.3333333333333333,
              "#9c179e"
             ],
             [
              0.4444444444444444,
              "#bd3786"
             ],
             [
              0.5555555555555556,
              "#d8576b"
             ],
             [
              0.6666666666666666,
              "#ed7953"
             ],
             [
              0.7777777777777778,
              "#fb9f3a"
             ],
             [
              0.8888888888888888,
              "#fdca26"
             ],
             [
              1,
              "#f0f921"
             ]
            ],
            "type": "histogram2dcontour"
           }
          ],
          "mesh3d": [
           {
            "colorbar": {
             "outlinewidth": 0,
             "ticks": ""
            },
            "type": "mesh3d"
           }
          ],
          "parcoords": [
           {
            "line": {
             "colorbar": {
              "outlinewidth": 0,
              "ticks": ""
             }
            },
            "type": "parcoords"
           }
          ],
          "pie": [
           {
            "automargin": true,
            "type": "pie"
           }
          ],
          "scatter": [
           {
            "fillpattern": {
             "fillmode": "overlay",
             "size": 10,
             "solidity": 0.2
            },
            "type": "scatter"
           }
          ],
          "scatter3d": [
           {
            "line": {
             "colorbar": {
              "outlinewidth": 0,
              "ticks": ""
             }
            },
            "marker": {
             "colorbar": {
              "outlinewidth": 0,
              "ticks": ""
             }
            },
            "type": "scatter3d"
           }
          ],
          "scattercarpet": [
           {
            "marker": {
             "colorbar": {
              "outlinewidth": 0,
              "ticks": ""
             }
            },
            "type": "scattercarpet"
           }
          ],
          "scattergeo": [
           {
            "marker": {
             "colorbar": {
              "outlinewidth": 0,
              "ticks": ""
             }
            },
            "type": "scattergeo"
           }
          ],
          "scattergl": [
           {
            "marker": {
             "colorbar": {
              "outlinewidth": 0,
              "ticks": ""
             }
            },
            "type": "scattergl"
           }
          ],
          "scattermapbox": [
           {
            "marker": {
             "colorbar": {
              "outlinewidth": 0,
              "ticks": ""
             }
            },
            "type": "scattermapbox"
           }
          ],
          "scatterpolar": [
           {
            "marker": {
             "colorbar": {
              "outlinewidth": 0,
              "ticks": ""
             }
            },
            "type": "scatterpolar"
           }
          ],
          "scatterpolargl": [
           {
            "marker": {
             "colorbar": {
              "outlinewidth": 0,
              "ticks": ""
             }
            },
            "type": "scatterpolargl"
           }
          ],
          "scatterternary": [
           {
            "marker": {
             "colorbar": {
              "outlinewidth": 0,
              "ticks": ""
             }
            },
            "type": "scatterternary"
           }
          ],
          "surface": [
           {
            "colorbar": {
             "outlinewidth": 0,
             "ticks": ""
            },
            "colorscale": [
             [
              0,
              "#0d0887"
             ],
             [
              0.1111111111111111,
              "#46039f"
             ],
             [
              0.2222222222222222,
              "#7201a8"
             ],
             [
              0.3333333333333333,
              "#9c179e"
             ],
             [
              0.4444444444444444,
              "#bd3786"
             ],
             [
              0.5555555555555556,
              "#d8576b"
             ],
             [
              0.6666666666666666,
              "#ed7953"
             ],
             [
              0.7777777777777778,
              "#fb9f3a"
             ],
             [
              0.8888888888888888,
              "#fdca26"
             ],
             [
              1,
              "#f0f921"
             ]
            ],
            "type": "surface"
           }
          ],
          "table": [
           {
            "cells": {
             "fill": {
              "color": "#EBF0F8"
             },
             "line": {
              "color": "white"
             }
            },
            "header": {
             "fill": {
              "color": "#C8D4E3"
             },
             "line": {
              "color": "white"
             }
            },
            "type": "table"
           }
          ]
         },
         "layout": {
          "annotationdefaults": {
           "arrowcolor": "#2a3f5f",
           "arrowhead": 0,
           "arrowwidth": 1
          },
          "autotypenumbers": "strict",
          "coloraxis": {
           "colorbar": {
            "outlinewidth": 0,
            "ticks": ""
           }
          },
          "colorscale": {
           "diverging": [
            [
             0,
             "#8e0152"
            ],
            [
             0.1,
             "#c51b7d"
            ],
            [
             0.2,
             "#de77ae"
            ],
            [
             0.3,
             "#f1b6da"
            ],
            [
             0.4,
             "#fde0ef"
            ],
            [
             0.5,
             "#f7f7f7"
            ],
            [
             0.6,
             "#e6f5d0"
            ],
            [
             0.7,
             "#b8e186"
            ],
            [
             0.8,
             "#7fbc41"
            ],
            [
             0.9,
             "#4d9221"
            ],
            [
             1,
             "#276419"
            ]
           ],
           "sequential": [
            [
             0,
             "#0d0887"
            ],
            [
             0.1111111111111111,
             "#46039f"
            ],
            [
             0.2222222222222222,
             "#7201a8"
            ],
            [
             0.3333333333333333,
             "#9c179e"
            ],
            [
             0.4444444444444444,
             "#bd3786"
            ],
            [
             0.5555555555555556,
             "#d8576b"
            ],
            [
             0.6666666666666666,
             "#ed7953"
            ],
            [
             0.7777777777777778,
             "#fb9f3a"
            ],
            [
             0.8888888888888888,
             "#fdca26"
            ],
            [
             1,
             "#f0f921"
            ]
           ],
           "sequentialminus": [
            [
             0,
             "#0d0887"
            ],
            [
             0.1111111111111111,
             "#46039f"
            ],
            [
             0.2222222222222222,
             "#7201a8"
            ],
            [
             0.3333333333333333,
             "#9c179e"
            ],
            [
             0.4444444444444444,
             "#bd3786"
            ],
            [
             0.5555555555555556,
             "#d8576b"
            ],
            [
             0.6666666666666666,
             "#ed7953"
            ],
            [
             0.7777777777777778,
             "#fb9f3a"
            ],
            [
             0.8888888888888888,
             "#fdca26"
            ],
            [
             1,
             "#f0f921"
            ]
           ]
          },
          "colorway": [
           "#636efa",
           "#EF553B",
           "#00cc96",
           "#ab63fa",
           "#FFA15A",
           "#19d3f3",
           "#FF6692",
           "#B6E880",
           "#FF97FF",
           "#FECB52"
          ],
          "font": {
           "color": "#2a3f5f"
          },
          "geo": {
           "bgcolor": "white",
           "lakecolor": "white",
           "landcolor": "#E5ECF6",
           "showlakes": true,
           "showland": true,
           "subunitcolor": "white"
          },
          "hoverlabel": {
           "align": "left"
          },
          "hovermode": "closest",
          "mapbox": {
           "style": "light"
          },
          "paper_bgcolor": "white",
          "plot_bgcolor": "#E5ECF6",
          "polar": {
           "angularaxis": {
            "gridcolor": "white",
            "linecolor": "white",
            "ticks": ""
           },
           "bgcolor": "#E5ECF6",
           "radialaxis": {
            "gridcolor": "white",
            "linecolor": "white",
            "ticks": ""
           }
          },
          "scene": {
           "xaxis": {
            "backgroundcolor": "#E5ECF6",
            "gridcolor": "white",
            "gridwidth": 2,
            "linecolor": "white",
            "showbackground": true,
            "ticks": "",
            "zerolinecolor": "white"
           },
           "yaxis": {
            "backgroundcolor": "#E5ECF6",
            "gridcolor": "white",
            "gridwidth": 2,
            "linecolor": "white",
            "showbackground": true,
            "ticks": "",
            "zerolinecolor": "white"
           },
           "zaxis": {
            "backgroundcolor": "#E5ECF6",
            "gridcolor": "white",
            "gridwidth": 2,
            "linecolor": "white",
            "showbackground": true,
            "ticks": "",
            "zerolinecolor": "white"
           }
          },
          "shapedefaults": {
           "line": {
            "color": "#2a3f5f"
           }
          },
          "ternary": {
           "aaxis": {
            "gridcolor": "white",
            "linecolor": "white",
            "ticks": ""
           },
           "baxis": {
            "gridcolor": "white",
            "linecolor": "white",
            "ticks": ""
           },
           "bgcolor": "#E5ECF6",
           "caxis": {
            "gridcolor": "white",
            "linecolor": "white",
            "ticks": ""
           }
          },
          "title": {
           "x": 0.05
          },
          "xaxis": {
           "automargin": true,
           "gridcolor": "white",
           "linecolor": "white",
           "ticks": "",
           "title": {
            "standoff": 15
           },
           "zerolinecolor": "white",
           "zerolinewidth": 2
          },
          "yaxis": {
           "automargin": true,
           "gridcolor": "white",
           "linecolor": "white",
           "ticks": "",
           "title": {
            "standoff": 15
           },
           "zerolinecolor": "white",
           "zerolinewidth": 2
          }
         }
        }
       }
      },
      "image/png": "[encoded data removed]",
      "text/html": [
       "<div>                            <div id=\"7ce9725b-c549-49cd-b752-05032ced381b\" class=\"plotly-graph-div\" style=\"height:525px; width:100%;\"></div>            <script type=\"text/javascript\">                require([\"plotly\"], function(Plotly) {                    window.PLOTLYENV=window.PLOTLYENV || {};                                    if (document.getElementById(\"7ce9725b-c549-49cd-b752-05032ced381b\")) {                    Plotly.newPlot(                        \"7ce9725b-c549-49cd-b752-05032ced381b\",                        [{\"branchvalues\":\"total\",\"domain\":{\"x\":[0.0,1.0],\"y\":[0.0,1.0]},\"hovertemplate\":\"labels=%{label}\\u003cbr\\u003etotal_bill=%{value}\\u003cbr\\u003eparent=%{parent}\\u003cbr\\u003eid=%{id}\\u003cextra\\u003e\\u003c\\u002fextra\\u003e\",\"ids\":[\"all\\u002fFri\\u002fDinner\\u002fFemale\",\"all\\u002fSat\\u002fDinner\\u002fFemale\",\"all\\u002fSun\\u002fDinner\\u002fFemale\",\"all\\u002fThur\\u002fDinner\\u002fFemale\",\"all\\u002fFri\\u002fLunch\\u002fFemale\",\"all\\u002fThur\\u002fLunch\\u002fFemale\",\"all\\u002fFri\\u002fDinner\\u002fMale\",\"all\\u002fSat\\u002fDinner\\u002fMale\",\"all\\u002fSun\\u002fDinner\\u002fMale\",\"all\\u002fFri\\u002fLunch\\u002fMale\",\"all\\u002fThur\\u002fLunch\\u002fMale\",\"all\\u002fFri\\u002fDinner\",\"all\\u002fSat\\u002fDinner\",\"all\\u002fSun\\u002fDinner\",\"all\\u002fThur\\u002fDinner\",\"all\\u002fFri\\u002fLunch\",\"all\\u002fThur\\u002fLunch\",\"all\\u002fFri\",\"all\\u002fSat\",\"all\\u002fSun\",\"all\\u002fThur\",\"all\"],\"labels\":[\"Female\",\"Female\",\"Female\",\"Female\",\"Female\",\"Female\",\"Male\",\"Male\",\"Male\",\"Male\",\"Male\",\"Dinner\",\"Dinner\",\"Dinner\",\"Dinner\",\"Lunch\",\"Lunch\",\"Fri\",\"Sat\",\"Sun\",\"Thur\",\"all\"],\"name\":\"\",\"parents\":[\"all\\u002fFri\\u002fDinner\",\"all\\u002fSat\\u002fDinner\",\"all\\u002fSun\\u002fDinner\",\"all\\u002fThur\\u002fDinner\",\"all\\u002fFri\\u002fLunch\",\"all\\u002fThur\\u002fLunch\",\"all\\u002fFri\\u002fDinner\",\"all\\u002fSat\\u002fDinner\",\"all\\u002fSun\\u002fDinner\",\"all\\u002fFri\\u002fLunch\",\"all\\u002fThur\\u002fLunch\",\"all\\u002fFri\",\"all\\u002fSat\",\"all\\u002fSun\",\"all\\u002fThur\",\"all\\u002fFri\",\"all\\u002fThur\",\"all\",\"all\",\"all\",\"all\",\"\"],\"values\":[71.55,551.05,357.7,18.78,55.760000000000005,516.11,164.41,1227.35,1269.46,34.16,561.4399999999999,235.96,1778.4,1627.16,18.78,89.92,1077.55,325.88,1778.4,1627.16,1096.33,4827.7699999999995],\"type\":\"treemap\",\"root\":{\"color\":\"lightgrey\"}}],                        {\"template\":{\"data\":{\"histogram2dcontour\":[{\"type\":\"histogram2dcontour\",\"colorbar\":{\"outlinewidth\":0,\"ticks\":\"\"},\"colorscale\":[[0.0,\"#0d0887\"],[0.1111111111111111,\"#46039f\"],[0.2222222222222222,\"#7201a8\"],[0.3333333333333333,\"#9c179e\"],[0.4444444444444444,\"#bd3786\"],[0.5555555555555556,\"#d8576b\"],[0.6666666666666666,\"#ed7953\"],[0.7777777777777778,\"#fb9f3a\"],[0.8888888888888888,\"#fdca26\"],[1.0,\"#f0f921\"]]}],\"choropleth\":[{\"type\":\"choropleth\",\"colorbar\":{\"outlinewidth\":0,\"ticks\":\"\"}}],\"histogram2d\":[{\"type\":\"histogram2d\",\"colorbar\":{\"outlinewidth\":0,\"ticks\":\"\"},\"colorscale\":[[0.0,\"#0d0887\"],[0.1111111111111111,\"#46039f\"],[0.2222222222222222,\"#7201a8\"],[0.3333333333333333,\"#9c179e\"],[0.4444444444444444,\"#bd3786\"],[0.5555555555555556,\"#d8576b\"],[0.6666666666666666,\"#ed7953\"],[0.7777777777777778,\"#fb9f3a\"],[0.8888888888888888,\"#fdca26\"],[1.0,\"#f0f921\"]]}],\"heatmap\":[{\"type\":\"heatmap\",\"colorbar\":{\"outlinewidth\":0,\"ticks\":\"\"},\"colorscale\":[[0.0,\"#0d0887\"],[0.1111111111111111,\"#46039f\"],[0.2222222222222222,\"#7201a8\"],[0.3333333333333333,\"#9c179e\"],[0.4444444444444444,\"#bd3786\"],[0.5555555555555556,\"#d8576b\"],[0.6666666666666666,\"#ed7953\"],[0.7777777777777778,\"#fb9f3a\"],[0.8888888888888888,\"#fdca26\"],[1.0,\"#f0f921\"]]}],\"heatmapgl\":[{\"type\":\"heatmapgl\",\"colorbar\":{\"outlinewidth\":0,\"ticks\":\"\"},\"colorscale\":[[0.0,\"#0d0887\"],[0.1111111111111111,\"#46039f\"],[0.2222222222222222,\"#7201a8\"],[0.3333333333333333,\"#9c179e\"],[0.4444444444444444,\"#bd3786\"],[0.5555555555555556,\"#d8576b\"],[0.6666666666666666,\"#ed7953\"],[0.7777777777777778,\"#fb9f3a\"],[0.8888888888888888,\"#fdca26\"],[1.0,\"#f0f921\"]]}],\"contourcarpet\":[{\"type\":\"contourcarpet\",\"colorbar\":{\"outlinewidth\":0,\"ticks\":\"\"}}],\"contour\":[{\"type\":\"contour\",\"colorbar\":{\"outlinewidth\":0,\"ticks\":\"\"},\"colorscale\":[[0.0,\"#0d0887\"],[0.1111111111111111,\"#46039f\"],[0.2222222222222222,\"#7201a8\"],[0.3333333333333333,\"#9c179e\"],[0.4444444444444444,\"#bd3786\"],[0.5555555555555556,\"#d8576b\"],[0.6666666666666666,\"#ed7953\"],[0.7777777777777778,\"#fb9f3a\"],[0.8888888888888888,\"#fdca26\"],[1.0,\"#f0f921\"]]}],\"surface\":[{\"type\":\"surface\",\"colorbar\":{\"outlinewidth\":0,\"ticks\":\"\"},\"colorscale\":[[0.0,\"#0d0887\"],[0.1111111111111111,\"#46039f\"],[0.2222222222222222,\"#7201a8\"],[0.3333333333333333,\"#9c179e\"],[0.4444444444444444,\"#bd3786\"],[0.5555555555555556,\"#d8576b\"],[0.6666666666666666,\"#ed7953\"],[0.7777777777777778,\"#fb9f3a\"],[0.8888888888888888,\"#fdca26\"],[1.0,\"#f0f921\"]]}],\"mesh3d\":[{\"type\":\"mesh3d\",\"colorbar\":{\"outlinewidth\":0,\"ticks\":\"\"}}],\"scatter\":[{\"fillpattern\":{\"fillmode\":\"overlay\",\"size\":10,\"solidity\":0.2},\"type\":\"scatter\"}],\"parcoords\":[{\"type\":\"parcoords\",\"line\":{\"colorbar\":{\"outlinewidth\":0,\"ticks\":\"\"}}}],\"scatterpolargl\":[{\"type\":\"scatterpolargl\",\"marker\":{\"colorbar\":{\"outlinewidth\":0,\"ticks\":\"\"}}}],\"bar\":[{\"error_x\":{\"color\":\"#2a3f5f\"},\"error_y\":{\"color\":\"#2a3f5f\"},\"marker\":{\"line\":{\"color\":\"#E5ECF6\",\"width\":0.5},\"pattern\":{\"fillmode\":\"overlay\",\"size\":10,\"solidity\":0.2}},\"type\":\"bar\"}],\"scattergeo\":[{\"type\":\"scattergeo\",\"marker\":{\"colorbar\":{\"outlinewidth\":0,\"ticks\":\"\"}}}],\"scatterpolar\":[{\"type\":\"scatterpolar\",\"marker\":{\"colorbar\":{\"outlinewidth\":0,\"ticks\":\"\"}}}],\"histogram\":[{\"marker\":{\"pattern\":{\"fillmode\":\"overlay\",\"size\":10,\"solidity\":0.2}},\"type\":\"histogram\"}],\"scattergl\":[{\"type\":\"scattergl\",\"marker\":{\"colorbar\":{\"outlinewidth\":0,\"ticks\":\"\"}}}],\"scatter3d\":[{\"type\":\"scatter3d\",\"line\":{\"colorbar\":{\"outlinewidth\":0,\"ticks\":\"\"}},\"marker\":{\"colorbar\":{\"outlinewidth\":0,\"ticks\":\"\"}}}],\"scattermapbox\":[{\"type\":\"scattermapbox\",\"marker\":{\"colorbar\":{\"outlinewidth\":0,\"ticks\":\"\"}}}],\"scatterternary\":[{\"type\":\"scatterternary\",\"marker\":{\"colorbar\":{\"outlinewidth\":0,\"ticks\":\"\"}}}],\"scattercarpet\":[{\"type\":\"scattercarpet\",\"marker\":{\"colorbar\":{\"outlinewidth\":0,\"ticks\":\"\"}}}],\"carpet\":[{\"aaxis\":{\"endlinecolor\":\"#2a3f5f\",\"gridcolor\":\"white\",\"linecolor\":\"white\",\"minorgridcolor\":\"white\",\"startlinecolor\":\"#2a3f5f\"},\"baxis\":{\"endlinecolor\":\"#2a3f5f\",\"gridcolor\":\"white\",\"linecolor\":\"white\",\"minorgridcolor\":\"white\",\"startlinecolor\":\"#2a3f5f\"},\"type\":\"carpet\"}],\"table\":[{\"cells\":{\"fill\":{\"color\":\"#EBF0F8\"},\"line\":{\"color\":\"white\"}},\"header\":{\"fill\":{\"color\":\"#C8D4E3\"},\"line\":{\"color\":\"white\"}},\"type\":\"table\"}],\"barpolar\":[{\"marker\":{\"line\":{\"color\":\"#E5ECF6\",\"width\":0.5},\"pattern\":{\"fillmode\":\"overlay\",\"size\":10,\"solidity\":0.2}},\"type\":\"barpolar\"}],\"pie\":[{\"automargin\":true,\"type\":\"pie\"}]},\"layout\":{\"autotypenumbers\":\"strict\",\"colorway\":[\"#636efa\",\"#EF553B\",\"#00cc96\",\"#ab63fa\",\"#FFA15A\",\"#19d3f3\",\"#FF6692\",\"#B6E880\",\"#FF97FF\",\"#FECB52\"],\"font\":{\"color\":\"#2a3f5f\"},\"hovermode\":\"closest\",\"hoverlabel\":{\"align\":\"left\"},\"paper_bgcolor\":\"white\",\"plot_bgcolor\":\"#E5ECF6\",\"polar\":{\"bgcolor\":\"#E5ECF6\",\"angularaxis\":{\"gridcolor\":\"white\",\"linecolor\":\"white\",\"ticks\":\"\"},\"radialaxis\":{\"gridcolor\":\"white\",\"linecolor\":\"white\",\"ticks\":\"\"}},\"ternary\":{\"bgcolor\":\"#E5ECF6\",\"aaxis\":{\"gridcolor\":\"white\",\"linecolor\":\"white\",\"ticks\":\"\"},\"baxis\":{\"gridcolor\":\"white\",\"linecolor\":\"white\",\"ticks\":\"\"},\"caxis\":{\"gridcolor\":\"white\",\"linecolor\":\"white\",\"ticks\":\"\"}},\"coloraxis\":{\"colorbar\":{\"outlinewidth\":0,\"ticks\":\"\"}},\"colorscale\":{\"sequential\":[[0.0,\"#0d0887\"],[0.1111111111111111,\"#46039f\"],[0.2222222222222222,\"#7201a8\"],[0.3333333333333333,\"#9c179e\"],[0.4444444444444444,\"#bd3786\"],[0.5555555555555556,\"#d8576b\"],[0.6666666666666666,\"#ed7953\"],[0.7777777777777778,\"#fb9f3a\"],[0.8888888888888888,\"#fdca26\"],[1.0,\"#f0f921\"]],\"sequentialminus\":[[0.0,\"#0d0887\"],[0.1111111111111111,\"#46039f\"],[0.2222222222222222,\"#7201a8\"],[0.3333333333333333,\"#9c179e\"],[0.4444444444444444,\"#bd3786\"],[0.5555555555555556,\"#d8576b\"],[0.6666666666666666,\"#ed7953\"],[0.7777777777777778,\"#fb9f3a\"],[0.8888888888888888,\"#fdca26\"],[1.0,\"#f0f921\"]],\"diverging\":[[0,\"#8e0152\"],[0.1,\"#c51b7d\"],[0.2,\"#de77ae\"],[0.3,\"#f1b6da\"],[0.4,\"#fde0ef\"],[0.5,\"#f7f7f7\"],[0.6,\"#e6f5d0\"],[0.7,\"#b8e186\"],[0.8,\"#7fbc41\"],[0.9,\"#4d9221\"],[1,\"#276419\"]]},\"xaxis\":{\"gridcolor\":\"white\",\"linecolor\":\"white\",\"ticks\":\"\",\"title\":{\"standoff\":15},\"zerolinecolor\":\"white\",\"automargin\":true,\"zerolinewidth\":2},\"yaxis\":{\"gridcolor\":\"white\",\"linecolor\":\"white\",\"ticks\":\"\",\"title\":{\"standoff\":15},\"zerolinecolor\":\"white\",\"automargin\":true,\"zerolinewidth\":2},\"scene\":{\"xaxis\":{\"backgroundcolor\":\"#E5ECF6\",\"gridcolor\":\"white\",\"linecolor\":\"white\",\"showbackground\":true,\"ticks\":\"\",\"zerolinecolor\":\"white\",\"gridwidth\":2},\"yaxis\":{\"backgroundcolor\":\"#E5ECF6\",\"gridcolor\":\"white\",\"linecolor\":\"white\",\"showbackground\":true,\"ticks\":\"\",\"zerolinecolor\":\"white\",\"gridwidth\":2},\"zaxis\":{\"backgroundcolor\":\"#E5ECF6\",\"gridcolor\":\"white\",\"linecolor\":\"white\",\"showbackground\":true,\"ticks\":\"\",\"zerolinecolor\":\"white\",\"gridwidth\":2}},\"shapedefaults\":{\"line\":{\"color\":\"#2a3f5f\"}},\"annotationdefaults\":{\"arrowcolor\":\"#2a3f5f\",\"arrowhead\":0,\"arrowwidth\":1},\"geo\":{\"bgcolor\":\"white\",\"landcolor\":\"#E5ECF6\",\"subunitcolor\":\"white\",\"showland\":true,\"showlakes\":true,\"lakecolor\":\"white\"},\"title\":{\"x\":0.05},\"mapbox\":{\"style\":\"light\"}}},\"legend\":{\"tracegroupgap\":0},\"margin\":{\"t\":50,\"l\":25,\"r\":25,\"b\":25}},                        {\"responsive\": true}                    ).then(function(){\n",
       "                            \n",
       "var gd = document.getElementById('7ce9725b-c549-49cd-b752-05032ced381b');\n",
       "var x = new MutationObserver(function (mutations, observer) {{\n",
       "        var display = window.getComputedStyle(gd).display;\n",
       "        if (!display || display === 'none') {{\n",
       "            console.log([gd, 'removed!']);\n",
       "            Plotly.purge(gd);\n",
       "            observer.disconnect();\n",
       "        }}\n",
       "}});\n",
       "\n",
       "// Listen for the removal of the full notebook cells\n",
       "var notebookContainer = gd.closest('#notebook-container');\n",
       "if (notebookContainer) {{\n",
       "    x.observe(notebookContainer, {childList: true});\n",
       "}}\n",
       "\n",
       "// Listen for the clearing of the current output cell\n",
       "var outputEl = gd.closest('.output');\n",
       "if (outputEl) {{\n",
       "    x.observe(outputEl, {childList: true});\n",
       "}}\n",
       "\n",
       "                        })                };                });            </script>        </div>"
      ]
     },
     "metadata": {},
     "output_type": "display_data"
    }
   ],
   "source": [
    "fig = px.treemap(df, path=[px.Constant(\"all\"), 'day', 'time', 'sex'], values='total_bill')\n",
    "fig.update_traces(root_color=\"lightgrey\")\n",
    "fig.update_layout(margin = dict(t=50, l=25, r=25, b=25))\n",
    "fig.show()"
   ]
  },
  {
   "cell_type": "code",
   "execution_count": null,
   "id": "76e5f8ab-25be-4253-b2b6-1ed2008fbf4d",
   "metadata": {},
   "outputs": [],
   "source": []
  }
 ],
 "metadata": {
  "kernelspec": {
   "display_name": "Python 3 (ipykernel)",
   "language": "python",
   "name": "python3"
  },
  "language_info": {
   "codemirror_mode": {
    "name": "ipython",
    "version": 3
   },
   "file_extension": ".py",
   "mimetype": "text/x-python",
   "name": "python",
   "nbconvert_exporter": "python",
   "pygments_lexer": "ipython3",
   "version": "3.10.10"
  }
 },
 "nbformat": 4,
 "nbformat_minor": 5
}
