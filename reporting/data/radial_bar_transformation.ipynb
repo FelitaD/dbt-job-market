{
 "cells": [
  {
   "cell_type": "code",
   "execution_count": 1,
   "id": "26cadeb3-5435-461d-a033-31d72fb8c739",
   "metadata": {},
   "outputs": [],
   "source": [
    "import json\n",
    "import pandas as pd"
   ]
  },
  {
   "cell_type": "markdown",
   "id": "83259846-59d1-48a1-83ce-20e376c75da3",
   "metadata": {},
   "source": [
    "remote, website, rating_score, seniority_score"
   ]
  },
  {
   "cell_type": "code",
   "execution_count": 10,
   "id": "9747332c-b7da-429a-97b5-ef6dc62b4fdc",
   "metadata": {},
   "outputs": [
    {
     "data": {
      "text/html": [
       "<div>\n",
       "<style scoped>\n",
       "    .dataframe tbody tr th:only-of-type {\n",
       "        vertical-align: middle;\n",
       "    }\n",
       "\n",
       "    .dataframe tbody tr th {\n",
       "        vertical-align: top;\n",
       "    }\n",
       "\n",
       "    .dataframe thead th {\n",
       "        text-align: right;\n",
       "    }\n",
       "</style>\n",
       "<table border=\"1\" class=\"dataframe\">\n",
       "  <thead>\n",
       "    <tr style=\"text-align: right;\">\n",
       "      <th></th>\n",
       "      <th>remote</th>\n",
       "      <th>rating_score</th>\n",
       "      <th>seniority_score</th>\n",
       "    </tr>\n",
       "  </thead>\n",
       "  <tbody>\n",
       "    <tr>\n",
       "      <th>0</th>\n",
       "      <td>partial</td>\n",
       "      <td>3.0</td>\n",
       "      <td>3.0</td>\n",
       "    </tr>\n",
       "    <tr>\n",
       "      <th>1</th>\n",
       "      <td>total</td>\n",
       "      <td>1.0</td>\n",
       "      <td>4.0</td>\n",
       "    </tr>\n",
       "    <tr>\n",
       "      <th>2</th>\n",
       "      <td>None</td>\n",
       "      <td>-1.0</td>\n",
       "      <td>-1.0</td>\n",
       "    </tr>\n",
       "  </tbody>\n",
       "</table>\n",
       "</div>"
      ],
      "text/plain": [
       "    remote  rating_score  seniority_score\n",
       "0  partial           3.0              3.0\n",
       "1    total           1.0              4.0\n",
       "2     None          -1.0             -1.0"
      ]
     },
     "execution_count": 10,
     "metadata": {},
     "output_type": "execute_result"
    }
   ],
   "source": [
    "data = {\n",
    "    'remote': ['partial', 'total', None],\n",
    "    'rating_score': [3.0, 1.0, -1.0],\n",
    "    'seniority_score': [3.0, 4.0, -1.0]\n",
    "}\n",
    "source = pd.DataFrame(data)\n",
    "source"
   ]
  },
  {
   "cell_type": "code",
   "execution_count": 8,
   "id": "be62324f-1c61-41a8-af76-506da373489c",
   "metadata": {},
   "outputs": [],
   "source": [
    "target = [\n",
    "    {\"id\":\"remote\",\n",
    "     \"data\":[{\"x\":\"total\",\"y\":1},{\"x\":\"partial\",\"y\":1},{\"x\":\"ponctual\",\"y\":1}]},\n",
    "    {\"id\":\"rating_score\",\n",
    "    \"data\":[{\"x\":\"3.0\",\"y\":1},{\"x\":\"1.0\",\"y\":1},{\"x\":\"-1.0\",\"y\":1}]},\n",
    "    {\"id\":\"seniority_score\",\n",
    "    \"data\":[{\"x\":\"3.0\",\"y\":1},{\"x\":\"4.0\",\"y\":1},{\"x\":\"-1.0\",\"y\":1}]}\n",
    "]"
   ]
  },
  {
   "cell_type": "code",
   "execution_count": 12,
   "id": "e8169c47-6c7b-4369-b7ce-7397b452aacf",
   "metadata": {},
   "outputs": [
    {
     "name": "stdout",
     "output_type": "stream",
     "text": [
      "[{'id': 'remote', 'data': [{'x': 'partial', 'y': 1}, {'x': 'total', 'y': 1}]}, {'id': 'rating_score', 'data': [{'x': '3.0', 'y': 1}, {'x': '1.0', 'y': 1}, {'x': '-1.0', 'y': 1}]}, {'id': 'seniority_score', 'data': [{'x': '3.0', 'y': 1}, {'x': '4.0', 'y': 1}, {'x': '-1.0', 'y': 1}]}]\n"
     ]
    }
   ],
   "source": [
    "target = []\n",
    "for col in source.columns:\n",
    "    # Get the unique values and their counts in the current column\n",
    "    value_counts = source[col].value_counts()\n",
    "\n",
    "    # Convert the value counts to a list of dictionaries\n",
    "    data_list = [{\"x\": str(value), \"y\": count} for value, count in value_counts.items()]\n",
    "\n",
    "    # Append the data for the current column to the target list\n",
    "    target.append({\"id\": col, \"data\": data_list})\n",
    "\n",
    "# Print the target data\n",
    "print(target)"
   ]
  }
 ],
 "metadata": {
  "kernelspec": {
   "display_name": "Python 3 (ipykernel)",
   "language": "python",
   "name": "python3"
  },
  "language_info": {
   "codemirror_mode": {
    "name": "ipython",
    "version": 3
   },
   "file_extension": ".py",
   "mimetype": "text/x-python",
   "name": "python",
   "nbconvert_exporter": "python",
   "pygments_lexer": "ipython3",
   "version": "3.10.10"
  }
 },
 "nbformat": 4,
 "nbformat_minor": 5
}
