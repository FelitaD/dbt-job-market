{
 "cells": [
  {
   "cell_type": "code",
   "execution_count": 1,
   "id": "9cdceb59-f90b-4ede-b31c-308711f7fb5a",
   "metadata": {},
   "outputs": [],
   "source": [
    "import json\n",
    "import pandas as pd"
   ]
  },
  {
   "cell_type": "code",
   "execution_count": 6,
   "id": "2eeeb1f7-64a0-4ac7-a0f4-89eaea24a144",
   "metadata": {},
   "outputs": [],
   "source": [
    "target = [\n",
    "    {\"id\": \"group A\",\n",
    "     \"data\": [{\"x\": 3, \"y\": 4}, {\"x\": 96, \"y\": 81}, {\"x\": 64, \"y\": 51}, {\"x\": 65, \"y\": 76}, {\"x\": 5, \"y\": 41},\n",
    "              {\"x\": 33, \"y\": 29}, {\"x\": 2, \"y\": 52}, {\"x\": 20, \"y\": 84}, {\"x\": 61, \"y\": 97}, {\"x\": 49, \"y\": 96}]},\n",
    "    {\"id\": \"group B\",\n",
    "     \"data\": [{\"x\": 58, \"y\": 52}, {\"x\": 91, \"y\": 69}, {\"x\": 35, \"y\": 5}, {\"x\": 46, \"y\": 71}, {\"x\": 91, \"y\": 8},\n",
    "              {\"x\": 49, \"y\": 105}, {\"x\": 7, \"y\": 10}, {\"x\": 66, \"y\": 63}, {\"x\": 88, \"y\": 117}, {\"x\": 24, \"y\": 88}]},\n",
    "    {\"id\": \"group C\",\n",
    "     \"data\": [{\"x\": 86, \"y\": 106}, {\"x\": 95, \"y\": 21}, {\"x\": 90, \"y\": 32}, {\"x\": 83, \"y\": 72}, {\"x\": 91, \"y\": 38},\n",
    "              {\"x\": 75, \"y\": 2}, {\"x\": 62, \"y\": 54}, {\"x\": 84, \"y\": 19}, {\"x\": 39, \"y\": 50}, {\"x\": 97, \"y\": 81}]},\n",
    "    {\"id\": \"group D\",\n",
    "     \"data\": [{\"x\": 73, \"y\": 111}, {\"x\": 3, \"y\": 35}, {\"x\": 69, \"y\": 26}, {\"x\": 21, \"y\": 19}, {\"x\": 0, \"y\": 53},\n",
    "              {\"x\": 67, \"y\": 54}, {\"x\": 82, \"y\": 21}, {\"x\": 90, \"y\": 58}, {\"x\": 21, \"y\": 110}, {\"x\": 97, \"y\": 80}]},\n",
    "    {\"id\": \"group E\",\n",
    "     \"data\": [{\"x\": 39, \"y\": 20}, {\"x\": 65, \"y\": 33}, {\"x\": 95, \"y\": 112}, {\"x\": 97, \"y\": 46}, {\"x\": 1, \"y\": 50},\n",
    "              {\"x\": 8, \"y\": 63}, {\"x\": 27, \"y\": 52}, {\"x\": 80, \"y\": 29}, {\"x\": 60, \"y\": 113}, {\"x\": 37, \"y\": 26}]}\n",
    "]"
   ]
  },
  {
   "cell_type": "code",
   "execution_count": 7,
   "id": "cca56cbf-035f-48b9-aba8-8e9427f570c1",
   "metadata": {},
   "outputs": [
    {
     "data": {
      "text/html": [
       "<div>\n",
       "<style scoped>\n",
       "    .dataframe tbody tr th:only-of-type {\n",
       "        vertical-align: middle;\n",
       "    }\n",
       "\n",
       "    .dataframe tbody tr th {\n",
       "        vertical-align: top;\n",
       "    }\n",
       "\n",
       "    .dataframe thead th {\n",
       "        text-align: right;\n",
       "    }\n",
       "</style>\n",
       "<table border=\"1\" class=\"dataframe\">\n",
       "  <thead>\n",
       "    <tr style=\"text-align: right;\">\n",
       "      <th></th>\n",
       "      <th>name</th>\n",
       "      <th>reviews</th>\n",
       "      <th>ratings</th>\n",
       "      <th>size</th>\n",
       "    </tr>\n",
       "  </thead>\n",
       "  <tbody>\n",
       "    <tr>\n",
       "      <th>0</th>\n",
       "      <td>Deloitte</td>\n",
       "      <td>105000</td>\n",
       "      <td>4.0</td>\n",
       "      <td>15000</td>\n",
       "    </tr>\n",
       "    <tr>\n",
       "      <th>1</th>\n",
       "      <td>EY</td>\n",
       "      <td>75</td>\n",
       "      <td>3.9</td>\n",
       "      <td>5000</td>\n",
       "    </tr>\n",
       "    <tr>\n",
       "      <th>2</th>\n",
       "      <td>Capgemini</td>\n",
       "      <td>7300</td>\n",
       "      <td>5.0</td>\n",
       "      <td>3000</td>\n",
       "    </tr>\n",
       "    <tr>\n",
       "      <th>3</th>\n",
       "      <td>DXC Technology</td>\n",
       "      <td>250</td>\n",
       "      <td>3.6</td>\n",
       "      <td>25</td>\n",
       "    </tr>\n",
       "    <tr>\n",
       "      <th>4</th>\n",
       "      <td>Santander</td>\n",
       "      <td>18000</td>\n",
       "      <td>3.8</td>\n",
       "      <td>1500</td>\n",
       "    </tr>\n",
       "  </tbody>\n",
       "</table>\n",
       "</div>"
      ],
      "text/plain": [
       "             name  reviews  ratings   size\n",
       "0        Deloitte   105000      4.0  15000\n",
       "1              EY       75      3.9   5000\n",
       "2       Capgemini     7300      5.0   3000\n",
       "3  DXC Technology      250      3.6     25\n",
       "4       Santander    18000      3.8   1500"
      ]
     },
     "execution_count": 7,
     "metadata": {},
     "output_type": "execute_result"
    }
   ],
   "source": [
    "names = ['Deloitte', 'EY', 'Capgemini', 'DXC Technology', 'Santander']\n",
    "reviews = [105000, 75, 7300, 250, 18000]\n",
    "ratings = [4, 3.9, 5, 3.6, 3.8]\n",
    "size = [15000, 5000, 3000, 25, 1500]\n",
    "\n",
    "data = {\n",
    "    'name': names,\n",
    "    'reviews': reviews,\n",
    "    'ratings': ratings,\n",
    "    'size': size\n",
    "}\n",
    "source = pd.DataFrame(data=data)\n",
    "source"
   ]
  },
  {
   "cell_type": "code",
   "execution_count": 8,
   "id": "fed75bb2-b675-461a-976c-500fb3665e0f",
   "metadata": {},
   "outputs": [],
   "source": [
    "target = [\n",
    "    {'id': 'Deloitte',\n",
    "    'data': [{'x': 105000, 'y': 4}]\n",
    "    },\n",
    "    {'id': 'EY',\n",
    "     'data': [{'x': 75 , 'y': 3.9}]\n",
    "    },\n",
    "    ...\n",
    "]"
   ]
  },
  {
   "cell_type": "code",
   "execution_count": 9,
   "id": "63724d79-184c-4c46-ac07-22be88bcd8bb",
   "metadata": {},
   "outputs": [],
   "source": [
    "target = [\n",
    "    {\n",
    "        'id': 'companies',\n",
    "        'data': [{'x': x, 'y': y} for x, y in zip(source['reviews'], source['ratings'])]\n",
    "    }\n",
    "]"
   ]
  },
  {
   "cell_type": "code",
   "execution_count": 11,
   "id": "1b079ac5-032e-40b7-a27d-a02afbeae671",
   "metadata": {},
   "outputs": [],
   "source": [
    "def transform_row(row):\n",
    "    return {\n",
    "        'id': row['name'],\n",
    "        'data': [{'x': row['reviews'], 'y': row['ratings']}]\n",
    "    }\n",
    "\n",
    "# Apply the function to each row\n",
    "target = source.apply(transform_row, axis=1).tolist()"
   ]
  },
  {
   "cell_type": "code",
   "execution_count": 12,
   "id": "64a572c7-83eb-4e62-96cb-04392f93f60d",
   "metadata": {},
   "outputs": [
    {
     "data": {
      "text/plain": [
       "[{'id': 'Deloitte', 'data': [{'x': 105000, 'y': 4.0}]},\n",
       " {'id': 'EY', 'data': [{'x': 75, 'y': 3.9}]},\n",
       " {'id': 'Capgemini', 'data': [{'x': 7300, 'y': 5.0}]},\n",
       " {'id': 'DXC Technology', 'data': [{'x': 250, 'y': 3.6}]},\n",
       " {'id': 'Santander', 'data': [{'x': 18000, 'y': 3.8}]}]"
      ]
     },
     "execution_count": 12,
     "metadata": {},
     "output_type": "execute_result"
    }
   ],
   "source": [
    "target"
   ]
  },
  {
   "cell_type": "code",
   "execution_count": null,
   "id": "df8c8c9c-0396-478e-a6f8-269f09c079ce",
   "metadata": {},
   "outputs": [],
   "source": []
  }
 ],
 "metadata": {
  "kernelspec": {
   "display_name": "Python 3 (ipykernel)",
   "language": "python",
   "name": "python3"
  },
  "language_info": {
   "codemirror_mode": {
    "name": "ipython",
    "version": 3
   },
   "file_extension": ".py",
   "mimetype": "text/x-python",
   "name": "python",
   "nbconvert_exporter": "python",
   "pygments_lexer": "ipython3",
   "version": "3.10.10"
  }
 },
 "nbformat": 4,
 "nbformat_minor": 5
}
